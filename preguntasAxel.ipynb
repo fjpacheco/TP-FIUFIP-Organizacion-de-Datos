{
 "cells": [
  {
   "cell_type": "code",
   "execution_count": 1,
   "id": "251e8671",
   "metadata": {},
   "outputs": [],
   "source": [
    "from collections import Counter # se usará? la saqué del notebook \"pandas introduccion\"\n",
    "import requests # se usará? la saqué del notebook \"pandas introduccion\"\n",
    "\n",
    "import pandas as pd\n",
    "import numpy as np\n",
    "import matplotlib.pyplot as plt\n",
    "import seaborn as sns\n",
    "\n",
    "import plotly.express as px\n",
    "from matplotlib import pyplot as plt\n",
    "from pandas_profiling import ProfileReport\n",
    "\n",
    "from sklearn.feature_extraction import FeatureHasher\n",
    "from sklearn.feature_selection import VarianceThreshold\n",
    "from sklearn.impute import KNNImputer, SimpleImputer\n",
    "from sklearn.preprocessing import (\n",
    "    KBinsDiscretizer,\n",
    "    LabelEncoder,\n",
    "    MinMaxScaler,\n",
    "    Normalizer,\n",
    "    OneHotEncoder,\n",
    "    OrdinalEncoder,\n",
    "    PowerTransformer,\n",
    "    RobustScaler,\n",
    "    StandardScaler,\n",
    ")"
   ]
  },
  {
   "cell_type": "code",
   "execution_count": 3,
   "id": "7dd122f9",
   "metadata": {},
   "outputs": [],
   "source": [
    "with requests.get(\n",
    "    \"https://docs.google.com/spreadsheets/d/1-DWTP8uwVS-dZY402-dm0F9ICw_6PNqDGLmH0u8Eqa0/export?format=csv\"\n",
    ") as r, open(\"fiufip_dataset.csv\", \"wb\") as f:\n",
    "    for chunk in r.iter_content():\n",
    "        f.write(chunk)\n",
    "        "
   ]
  },
  {
   "cell_type": "code",
   "execution_count": 4,
   "id": "9484d227",
   "metadata": {},
   "outputs": [],
   "source": [
    "import pandas as pd\n",
    "df = pd.read_csv(\"fiufip_dataset.csv\")"
   ]
  },
  {
   "cell_type": "markdown",
   "id": "39c0417e",
   "metadata": {},
   "source": [
    "## Veamos de que consta el dataset provisto"
   ]
  },
  {
   "cell_type": "code",
   "execution_count": 5,
   "id": "e8eab37c",
   "metadata": {},
   "outputs": [
    {
     "data": {
      "text/html": [
       "<div>\n",
       "<style scoped>\n",
       "    .dataframe tbody tr th:only-of-type {\n",
       "        vertical-align: middle;\n",
       "    }\n",
       "\n",
       "    .dataframe tbody tr th {\n",
       "        vertical-align: top;\n",
       "    }\n",
       "\n",
       "    .dataframe thead th {\n",
       "        text-align: right;\n",
       "    }\n",
       "</style>\n",
       "<table border=\"1\" class=\"dataframe\">\n",
       "  <thead>\n",
       "    <tr style=\"text-align: right;\">\n",
       "      <th></th>\n",
       "      <th>anios_estudiados</th>\n",
       "      <th>barrio</th>\n",
       "      <th>categoria_de_trabajo</th>\n",
       "      <th>edad</th>\n",
       "      <th>educacion_alcanzada</th>\n",
       "      <th>estado_marital</th>\n",
       "      <th>ganancia_perdida_declarada_bolsa_argentina</th>\n",
       "      <th>genero</th>\n",
       "      <th>horas_trabajo_registradas</th>\n",
       "      <th>religion</th>\n",
       "      <th>rol_familiar_registrado</th>\n",
       "      <th>tiene_alto_valor_adquisitivo</th>\n",
       "      <th>trabajo</th>\n",
       "    </tr>\n",
       "  </thead>\n",
       "  <tbody>\n",
       "    <tr>\n",
       "      <th>0</th>\n",
       "      <td>17</td>\n",
       "      <td>Palermo</td>\n",
       "      <td>empleado_provincial</td>\n",
       "      <td>39</td>\n",
       "      <td>universidad_3_anio</td>\n",
       "      <td>sin_matrimonio</td>\n",
       "      <td>2174</td>\n",
       "      <td>hombre</td>\n",
       "      <td>40</td>\n",
       "      <td>cristianismo</td>\n",
       "      <td>sin_familia</td>\n",
       "      <td>0</td>\n",
       "      <td>entretenimiento</td>\n",
       "    </tr>\n",
       "    <tr>\n",
       "      <th>1</th>\n",
       "      <td>17</td>\n",
       "      <td>Palermo</td>\n",
       "      <td>monotibutista</td>\n",
       "      <td>50</td>\n",
       "      <td>universidad_3_anio</td>\n",
       "      <td>matrimonio_civil</td>\n",
       "      <td>0</td>\n",
       "      <td>hombre</td>\n",
       "      <td>13</td>\n",
       "      <td>cristianismo</td>\n",
       "      <td>casado</td>\n",
       "      <td>0</td>\n",
       "      <td>directivo_gerente</td>\n",
       "    </tr>\n",
       "    <tr>\n",
       "      <th>2</th>\n",
       "      <td>13</td>\n",
       "      <td>Palermo</td>\n",
       "      <td>relacion_de_dependencia</td>\n",
       "      <td>38</td>\n",
       "      <td>4_anio</td>\n",
       "      <td>divorciado</td>\n",
       "      <td>0</td>\n",
       "      <td>hombre</td>\n",
       "      <td>40</td>\n",
       "      <td>cristianismo</td>\n",
       "      <td>sin_familia</td>\n",
       "      <td>0</td>\n",
       "      <td>limpiador</td>\n",
       "    </tr>\n",
       "    <tr>\n",
       "      <th>3</th>\n",
       "      <td>11</td>\n",
       "      <td>Palermo</td>\n",
       "      <td>relacion_de_dependencia</td>\n",
       "      <td>53</td>\n",
       "      <td>2_anio</td>\n",
       "      <td>matrimonio_civil</td>\n",
       "      <td>0</td>\n",
       "      <td>hombre</td>\n",
       "      <td>40</td>\n",
       "      <td>judaismo</td>\n",
       "      <td>casado</td>\n",
       "      <td>0</td>\n",
       "      <td>limpiador</td>\n",
       "    </tr>\n",
       "    <tr>\n",
       "      <th>4</th>\n",
       "      <td>17</td>\n",
       "      <td>Balvanera</td>\n",
       "      <td>relacion_de_dependencia</td>\n",
       "      <td>28</td>\n",
       "      <td>universidad_3_anio</td>\n",
       "      <td>matrimonio_civil</td>\n",
       "      <td>0</td>\n",
       "      <td>mujer</td>\n",
       "      <td>40</td>\n",
       "      <td>judaismo</td>\n",
       "      <td>casada</td>\n",
       "      <td>0</td>\n",
       "      <td>profesional_especializado</td>\n",
       "    </tr>\n",
       "  </tbody>\n",
       "</table>\n",
       "</div>"
      ],
      "text/plain": [
       "   anios_estudiados     barrio     categoria_de_trabajo  edad  \\\n",
       "0                17    Palermo      empleado_provincial    39   \n",
       "1                17    Palermo            monotibutista    50   \n",
       "2                13    Palermo  relacion_de_dependencia    38   \n",
       "3                11    Palermo  relacion_de_dependencia    53   \n",
       "4                17  Balvanera  relacion_de_dependencia    28   \n",
       "\n",
       "  educacion_alcanzada    estado_marital  \\\n",
       "0  universidad_3_anio    sin_matrimonio   \n",
       "1  universidad_3_anio  matrimonio_civil   \n",
       "2              4_anio        divorciado   \n",
       "3              2_anio  matrimonio_civil   \n",
       "4  universidad_3_anio  matrimonio_civil   \n",
       "\n",
       "   ganancia_perdida_declarada_bolsa_argentina  genero  \\\n",
       "0                                        2174  hombre   \n",
       "1                                           0  hombre   \n",
       "2                                           0  hombre   \n",
       "3                                           0  hombre   \n",
       "4                                           0   mujer   \n",
       "\n",
       "   horas_trabajo_registradas      religion rol_familiar_registrado  \\\n",
       "0                         40  cristianismo             sin_familia   \n",
       "1                         13  cristianismo                  casado   \n",
       "2                         40  cristianismo             sin_familia   \n",
       "3                         40      judaismo                  casado   \n",
       "4                         40      judaismo                  casada   \n",
       "\n",
       "   tiene_alto_valor_adquisitivo                    trabajo  \n",
       "0                             0            entretenimiento  \n",
       "1                             0          directivo_gerente  \n",
       "2                             0                  limpiador  \n",
       "3                             0                  limpiador  \n",
       "4                             0  profesional_especializado  "
      ]
     },
     "execution_count": 5,
     "metadata": {},
     "output_type": "execute_result"
    }
   ],
   "source": [
    "df.head()"
   ]
  },
  {
   "cell_type": "code",
   "execution_count": 7,
   "id": "a43fbdd1",
   "metadata": {},
   "outputs": [
    {
     "data": {
      "text/plain": [
       "(32561, 13)"
      ]
     },
     "execution_count": 7,
     "metadata": {},
     "output_type": "execute_result"
    }
   ],
   "source": [
    "df.shape"
   ]
  },
  {
   "cell_type": "markdown",
   "id": "47efafc8",
   "metadata": {},
   "source": [
    "## Comienzo de posibles preguntas"
   ]
  },
  {
   "cell_type": "markdown",
   "id": "5eda44be",
   "metadata": {},
   "source": [
    "**¿Existe alguna relación entre las horas de trabajo registradas y el rol familiar registado?**"
   ]
  },
  {
   "cell_type": "markdown",
   "id": "cd2c5b9b",
   "metadata": {},
   "source": [
    "Realicemos un breve analisis de ambas features"
   ]
  },
  {
   "cell_type": "code",
   "execution_count": 16,
   "id": "5395cfee",
   "metadata": {},
   "outputs": [
    {
     "data": {
      "text/plain": [
       "horas_trabajo_registradas    0\n",
       "rol_familiar_registrado      0\n",
       "dtype: int64"
      ]
     },
     "execution_count": 16,
     "metadata": {},
     "output_type": "execute_result"
    }
   ],
   "source": [
    "df[['horas_trabajo_registradas','rol_familiar_registrado']].isnull().sum()"
   ]
  },
  {
   "cell_type": "markdown",
   "id": "b6a9ffc6",
   "metadata": {},
   "source": [
    "Dejo esta idea por aca"
   ]
  },
  {
   "cell_type": "markdown",
   "id": "35ad45f6",
   "metadata": {},
   "source": [
    "Obtengamos las horas promedio segun cada rol"
   ]
  },
  {
   "cell_type": "code",
   "execution_count": 87,
   "id": "0f6f55b1",
   "metadata": {},
   "outputs": [],
   "source": [
    "pf = df.groupby('rol_familiar_registrado').agg(list)\n",
    "\n"
   ]
  },
  {
   "cell_type": "code",
   "execution_count": 88,
   "id": "431e772c",
   "metadata": {},
   "outputs": [
    {
     "data": {
      "text/plain": [
       "rol_familiar_registrado\n",
       "casada         36.861607\n",
       "casado         44.120139\n",
       "con_hijos      33.269337\n",
       "otro           37.006116\n",
       "sin_familia    40.595665\n",
       "soltero_a      39.103018\n",
       "Name: promedio, dtype: float64"
      ]
     },
     "execution_count": 88,
     "metadata": {},
     "output_type": "execute_result"
    }
   ],
   "source": [
    "pf['promedio'] = pf['horas_trabajo_registradas'].apply(np.mean)\n",
    "pf = pf['promedio']"
   ]
  },
  {
   "cell_type": "code",
   "execution_count": 92,
   "id": "c81edcae",
   "metadata": {},
   "outputs": [
    {
     "data": {
      "image/png": "[encoded data removed]",
      "text/plain": [
       "<Figure size 1000x687.5 with 1 Axes>"
      ]
     },
     "metadata": {},
     "output_type": "display_data"
    }
   ],
   "source": [
    "plt.figure(dpi=125)\n",
    "plt.bar(pf.index,pf.values)\n",
    "plt.xlabel(\"Rol Familiar\")\n",
    "plt.ylabel(\"Horas promedio trabajadas\")\n",
    "plt.title(\"Relacion entre horas promedio trabajadas y rol familiar\")\n",
    "plt.show()"
   ]
  },
  {
   "cell_type": "markdown",
   "id": "38165151",
   "metadata": {},
   "source": [
    "Se observa una breve disminucion en las horas promedio trabajadas al tener hijos. Dudo mucho que esto sea util para algo"
   ]
  },
  {
   "cell_type": "code",
   "execution_count": null,
   "id": "5624c461",
   "metadata": {},
   "outputs": [],
   "source": []
  }
 ],
 "metadata": {
  "kernelspec": {
   "display_name": "Python 3",
   "language": "python",
   "name": "python3"
  },
  "language_info": {
   "codemirror_mode": {
    "name": "ipython",
    "version": 3
   },
   "file_extension": ".py",
   "mimetype": "text/x-python",
   "name": "python",
   "nbconvert_exporter": "python",
   "pygments_lexer": "ipython3",
   "version": "3.8.5"
  }
 },
 "nbformat": 4,
 "nbformat_minor": 5
}
