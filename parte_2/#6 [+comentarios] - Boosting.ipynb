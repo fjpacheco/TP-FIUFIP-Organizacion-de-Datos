{
 "cells": [
  {
   "cell_type": "markdown",
   "id": "be3ff293",
   "metadata": {},
   "source": [
    "# Modelo: Boosting"
   ]
  },
  {
   "cell_type": "markdown",
   "id": "917877b3",
   "metadata": {},
   "source": [
    "El modelo a entrenar en el siguiente notebook será un ensamble. En particular buscaremos hacer un **Boosting**. Boosting es un ensamble de tipo homogéneo que consiste en entrenar diferentes instancias con un modelo de forma iterativa."
   ]
  },
  {
   "cell_type": "markdown",
   "id": "3ef07e14",
   "metadata": {},
   "source": [
    "La particularidad de Boosting se da en como se realiza ese entrenamiento. En primer lugar, se entrena un modelo como lo veniamos haciendo hasta ahora. A continuación, a las instancias en las que el primer modelo falló se les asigna un peso mayor para realizar el entrenamiento del segundo modelo. Es decir, un indicativo para comunicarle al segundo modelo en que instancias se equivocó el primer modelo, las mal clasificadas. En definitiva Boosting, tendras distintos modelos donde cada uno proriza los mal clasificados del anterior modelo.\n",
    "\n",
    "De esta manera se continua de forma iterativa hasta obtener un score deseado. El sesgo y la varianza baja mucho de esta forma, se contrapone el sesgo de cada modelo anterior en la cadena de iteración. Te fijarias mucho en ciertos datos y luego en otros iteración por iteración."
   ]
  },
  {
   "cell_type": "markdown",
   "id": "9d7c8b5b",
   "metadata": {},
   "source": [
    "A la hora de evaluar instancias, el modelo realiza una votación ponderada (según que tan bien fue la performance de ese modelo durante el entrenamiento) entre todos sus estimadores y arroja una predicción."
   ]
  },
  {
   "cell_type": "markdown",
   "id": "621a1b43",
   "metadata": {},
   "source": [
    "Para implementar este ensamble utilizaremos **GradientBoostingClassifier** de la libreria sklearn. Esta implementación utiliza árboles de decisión como algoritmo base. Además, utiliza una función de perdida para calcular el error en las predicciones arrojadas por cada árbol y a partir de ella optimiza los parámetros de los siguientes árboles mediante descenso por gradiente."
   ]
  },
  {
   "cell_type": "markdown",
   "id": "1a44ae0f",
   "metadata": {},
   "source": [
    "## Librerias y funciones necesarias"
   ]
  },
  {
   "cell_type": "markdown",
   "id": "396b98f5",
   "metadata": {},
   "source": [
    "Comenzamos importando las librerias y funciones que serán necesarias para preprocesar nuestros datos, realizar nuestro entrenamiento y obtener metricas "
   ]
  },
  {
   "cell_type": "code",
   "execution_count": 14,
   "id": "302b1d22",
   "metadata": {},
   "outputs": [],
   "source": [
    "import numpy as np\n",
    "import pandas as pd\n",
    "import matplotlib.pyplot as plt\n",
    "from sklearn.model_selection import GridSearchCV\n",
    "from sklearn.model_selection import train_test_split\n",
    "from sklearn.model_selection import StratifiedKFold\n",
    "from sklearn.metrics import classification_report\n",
    "from sklearn.metrics import confusion_matrix\n",
    "from sklearn.metrics import roc_curve, auc\n",
    "from sklearn.metrics import roc_auc_score\n",
    "from sklearn.metrics import accuracy_score\n",
    "from sklearn.ensemble import GradientBoostingClassifier\n",
    "from sklearn.preprocessing import StandardScaler\n",
    "from sklearn import tree\n"
   ]
  },
  {
   "cell_type": "code",
   "execution_count": 15,
   "id": "18b25633",
   "metadata": {},
   "outputs": [],
   "source": [
    "from preprocessing import obtener_datasets\n",
    "from preprocessing import aplicar_preparacion\n",
    "from preprocessing import conversion_numerica\n",
    "from preprocessing import plot_roc_curves\n",
    "from preprocessing import graficar_matriz_confusion\n",
    "from preprocessing import aplicar_preparacion_generalizado\n",
    "from preprocessing import conversion_numerica_generalizada\n",
    "from preprocessing import get_dataframe_scaled\n",
    "from preprocessing import reduccion_rfecv\n",
    "from preprocessing import get_dataframe_polynomial"
   ]
  },
  {
   "cell_type": "markdown",
   "id": "09061d26",
   "metadata": {},
   "source": [
    "## Primer preprocesamiento"
   ]
  },
  {
   "cell_type": "markdown",
   "id": "a29d6843",
   "metadata": {},
   "source": [
    "En primer lugar obtenemos el dataset para entrenar y el holdout. En segundo lugar, aplicamos una función que trabaja sobre las features, generalizando algunas y dejando de lado otras según lo observado en la primer parte de este trabajo práctico. También separamos a la variable target del resto del dataset. Por último, convertimos a númericas las variables categoricas para poder entrenar nuestro modelo"
   ]
  },
  {
   "cell_type": "code",
   "execution_count": 16,
   "id": "be2cb57a",
   "metadata": {},
   "outputs": [
    {
     "name": "stdout",
     "output_type": "stream",
     "text": [
      "Aplicando 'conversion_numerica' en las variables categóricas.\n"
     ]
    }
   ],
   "source": [
    "df, df_for_prediction = obtener_datasets()\n",
    "X_df, y_df = aplicar_preparacion(df)\n",
    "X_df = conversion_numerica(X_df) "
   ]
  },
  {
   "cell_type": "markdown",
   "id": "68f4960d",
   "metadata": {},
   "source": [
    "Luego vamos a realizar un split del dataset para dividir en train y test. Como observamos en la primer parte de este trabajo práctico, la variable target no esta distribuida uniformente por lo cual realizamos una división estratificada"
   ]
  },
  {
   "cell_type": "code",
   "execution_count": 17,
   "id": "d30209dd",
   "metadata": {},
   "outputs": [],
   "source": [
    "X_train, X_test, y_train, y_test = train_test_split(X_df, y_df, test_size=0.2, random_state=30,stratify=y_df)"
   ]
  },
  {
   "cell_type": "markdown",
   "id": "859695ab",
   "metadata": {},
   "source": [
    "### Entrenamiento"
   ]
  },
  {
   "cell_type": "markdown",
   "id": "21e06657",
   "metadata": {},
   "source": [
    "Vamos a realizar un entrenamiento con 5 folds. Para ello utilizaremos StratifiedKFold para asegurarnos de obtener folds balanceados. "
   ]
  },
  {
   "cell_type": "raw",
   "id": "98f854fe-a917-4f44-a91f-71cfce1a21cc",
   "metadata": {},
   "source": [
    "En cuanto a la busqueda de hiperparámetros, vamos a buscar distitnas variaciones de altura de los árboles y mínimas instancias por hoja tal y como realizamos en el modelo de árbol de decisión. \n",
    "\n",
    "También, buscaremos el hiperparámetro *n_estimators*, el cual define la cantidad de modelos que se concatenaran uno al otro en la cadena de boosting. En nuestro caso seria *n* arboles concatenados. Si este número fuese muy grande, el modelo podria estar overfitteando. Aún así, según su propia documentación, **GradientBoostingClassifier** es un modelo muy robusto al overfitting por lo que deberia arrojar mejores resultados con más estimadores. \n",
    "\n",
    "Otro hiperparámetro importante será el *learning rate*, el cual determinará cuanto contribuye cada árbol con el siguiente en la función de perdida utilizada"
   ]
  },
  {
   "cell_type": "code",
   "execution_count": 32,
   "id": "224ca367",
   "metadata": {},
   "outputs": [],
   "source": [
    "cv = StratifiedKFold(n_splits=5,random_state=10, shuffle=True).split(X_train, y_train)\n",
    "clf = GradientBoostingClassifier(random_state=10)\n",
    "params = {\"max_depth\":np.arange(3,8),\n",
    "          \"min_samples_leaf\":np.arange(50,150,20),\n",
    "          \"n_estimators\":np.arange(1,300,100)}\n",
    "          #\"learning_rate\":np.arange(0.1,0.9,0.1)}\n",
    "clf = GridSearchCV(clf, params, scoring='roc_auc', cv=cv, n_jobs = -1, verbose = True)\n"
   ]
  },
  {
   "cell_type": "markdown",
   "id": "df5b88c2",
   "metadata": {},
   "source": [
    "Ahora sí, entrenamos nuestro modelo"
   ]
  },
  {
   "cell_type": "code",
   "execution_count": 33,
   "id": "dd479f3a",
   "metadata": {},
   "outputs": [
    {
     "name": "stdout",
     "output_type": "stream",
     "text": [
      "Fitting 5 folds for each of 750 candidates, totalling 3750 fits\n"
     ]
    },
    {
     "name": "stderr",
     "output_type": "stream",
     "text": [
      "[Parallel(n_jobs=-1)]: Using backend LokyBackend with 4 concurrent workers.\n",
      "[Parallel(n_jobs=-1)]: Done  58 tasks      | elapsed:   19.7s\n",
      "[Parallel(n_jobs=-1)]: Done 208 tasks      | elapsed:  3.1min\n",
      "[Parallel(n_jobs=-1)]: Done 458 tasks      | elapsed:  8.4min\n",
      "[Parallel(n_jobs=-1)]: Done 808 tasks      | elapsed: 14.7min\n"
     ]
    },
    {
     "ename": "KeyboardInterrupt",
     "evalue": "",
     "output_type": "error",
     "traceback": [
      "\u001b[0;31m---------------------------------------------------------------------------\u001b[0m",
      "\u001b[0;31mKeyboardInterrupt\u001b[0m                         Traceback (most recent call last)",
      "\u001b[0;32m<ipython-input-33-4f66baab8f93>\u001b[0m in \u001b[0;36m<module>\u001b[0;34m\u001b[0m\n\u001b[0;32m----> 1\u001b[0;31m \u001b[0mclf\u001b[0m\u001b[0;34m.\u001b[0m\u001b[0mfit\u001b[0m\u001b[0;34m(\u001b[0m\u001b[0mX_train\u001b[0m\u001b[0;34m,\u001b[0m \u001b[0my_train\u001b[0m\u001b[0;34m)\u001b[0m\u001b[0;34m\u001b[0m\u001b[0;34m\u001b[0m\u001b[0m\n\u001b[0m",
      "\u001b[0;32m~/.local/lib/python3.8/site-packages/sklearn/utils/validation.py\u001b[0m in \u001b[0;36minner_f\u001b[0;34m(*args, **kwargs)\u001b[0m\n\u001b[1;32m     70\u001b[0m                           FutureWarning)\n\u001b[1;32m     71\u001b[0m         \u001b[0mkwargs\u001b[0m\u001b[0;34m.\u001b[0m\u001b[0mupdate\u001b[0m\u001b[0;34m(\u001b[0m\u001b[0;34m{\u001b[0m\u001b[0mk\u001b[0m\u001b[0;34m:\u001b[0m \u001b[0marg\u001b[0m \u001b[0;32mfor\u001b[0m \u001b[0mk\u001b[0m\u001b[0;34m,\u001b[0m \u001b[0marg\u001b[0m \u001b[0;32min\u001b[0m \u001b[0mzip\u001b[0m\u001b[0;34m(\u001b[0m\u001b[0msig\u001b[0m\u001b[0;34m.\u001b[0m\u001b[0mparameters\u001b[0m\u001b[0;34m,\u001b[0m \u001b[0margs\u001b[0m\u001b[0;34m)\u001b[0m\u001b[0;34m}\u001b[0m\u001b[0;34m)\u001b[0m\u001b[0;34m\u001b[0m\u001b[0;34m\u001b[0m\u001b[0m\n\u001b[0;32m---> 72\u001b[0;31m         \u001b[0;32mreturn\u001b[0m \u001b[0mf\u001b[0m\u001b[0;34m(\u001b[0m\u001b[0;34m**\u001b[0m\u001b[0mkwargs\u001b[0m\u001b[0;34m)\u001b[0m\u001b[0;34m\u001b[0m\u001b[0;34m\u001b[0m\u001b[0m\n\u001b[0m\u001b[1;32m     73\u001b[0m     \u001b[0;32mreturn\u001b[0m \u001b[0minner_f\u001b[0m\u001b[0;34m\u001b[0m\u001b[0;34m\u001b[0m\u001b[0m\n\u001b[1;32m     74\u001b[0m \u001b[0;34m\u001b[0m\u001b[0m\n",
      "\u001b[0;32m~/.local/lib/python3.8/site-packages/sklearn/model_selection/_search.py\u001b[0m in \u001b[0;36mfit\u001b[0;34m(self, X, y, groups, **fit_params)\u001b[0m\n\u001b[1;32m    734\u001b[0m                 \u001b[0;32mreturn\u001b[0m \u001b[0mresults\u001b[0m\u001b[0;34m\u001b[0m\u001b[0;34m\u001b[0m\u001b[0m\n\u001b[1;32m    735\u001b[0m \u001b[0;34m\u001b[0m\u001b[0m\n\u001b[0;32m--> 736\u001b[0;31m             \u001b[0mself\u001b[0m\u001b[0;34m.\u001b[0m\u001b[0m_run_search\u001b[0m\u001b[0;34m(\u001b[0m\u001b[0mevaluate_candidates\u001b[0m\u001b[0;34m)\u001b[0m\u001b[0;34m\u001b[0m\u001b[0;34m\u001b[0m\u001b[0m\n\u001b[0m\u001b[1;32m    737\u001b[0m \u001b[0;34m\u001b[0m\u001b[0m\n\u001b[1;32m    738\u001b[0m         \u001b[0;31m# For multi-metric evaluation, store the best_index_, best_params_ and\u001b[0m\u001b[0;34m\u001b[0m\u001b[0;34m\u001b[0m\u001b[0;34m\u001b[0m\u001b[0m\n",
      "\u001b[0;32m~/.local/lib/python3.8/site-packages/sklearn/model_selection/_search.py\u001b[0m in \u001b[0;36m_run_search\u001b[0;34m(self, evaluate_candidates)\u001b[0m\n\u001b[1;32m   1186\u001b[0m     \u001b[0;32mdef\u001b[0m \u001b[0m_run_search\u001b[0m\u001b[0;34m(\u001b[0m\u001b[0mself\u001b[0m\u001b[0;34m,\u001b[0m \u001b[0mevaluate_candidates\u001b[0m\u001b[0;34m)\u001b[0m\u001b[0;34m:\u001b[0m\u001b[0;34m\u001b[0m\u001b[0;34m\u001b[0m\u001b[0m\n\u001b[1;32m   1187\u001b[0m         \u001b[0;34m\"\"\"Search all candidates in param_grid\"\"\"\u001b[0m\u001b[0;34m\u001b[0m\u001b[0;34m\u001b[0m\u001b[0m\n\u001b[0;32m-> 1188\u001b[0;31m         \u001b[0mevaluate_candidates\u001b[0m\u001b[0;34m(\u001b[0m\u001b[0mParameterGrid\u001b[0m\u001b[0;34m(\u001b[0m\u001b[0mself\u001b[0m\u001b[0;34m.\u001b[0m\u001b[0mparam_grid\u001b[0m\u001b[0;34m)\u001b[0m\u001b[0;34m)\u001b[0m\u001b[0;34m\u001b[0m\u001b[0;34m\u001b[0m\u001b[0m\n\u001b[0m\u001b[1;32m   1189\u001b[0m \u001b[0;34m\u001b[0m\u001b[0m\n\u001b[1;32m   1190\u001b[0m \u001b[0;34m\u001b[0m\u001b[0m\n",
      "\u001b[0;32m~/.local/lib/python3.8/site-packages/sklearn/model_selection/_search.py\u001b[0m in \u001b[0;36mevaluate_candidates\u001b[0;34m(candidate_params)\u001b[0m\n\u001b[1;32m    706\u001b[0m                               n_splits, n_candidates, n_candidates * n_splits))\n\u001b[1;32m    707\u001b[0m \u001b[0;34m\u001b[0m\u001b[0m\n\u001b[0;32m--> 708\u001b[0;31m                 out = parallel(delayed(_fit_and_score)(clone(base_estimator),\n\u001b[0m\u001b[1;32m    709\u001b[0m                                                        \u001b[0mX\u001b[0m\u001b[0;34m,\u001b[0m \u001b[0my\u001b[0m\u001b[0;34m,\u001b[0m\u001b[0;34m\u001b[0m\u001b[0;34m\u001b[0m\u001b[0m\n\u001b[1;32m    710\u001b[0m                                                        \u001b[0mtrain\u001b[0m\u001b[0;34m=\u001b[0m\u001b[0mtrain\u001b[0m\u001b[0;34m,\u001b[0m \u001b[0mtest\u001b[0m\u001b[0;34m=\u001b[0m\u001b[0mtest\u001b[0m\u001b[0;34m,\u001b[0m\u001b[0;34m\u001b[0m\u001b[0;34m\u001b[0m\u001b[0m\n",
      "\u001b[0;32m~/.local/lib/python3.8/site-packages/joblib/parallel.py\u001b[0m in \u001b[0;36m__call__\u001b[0;34m(self, iterable)\u001b[0m\n\u001b[1;32m   1052\u001b[0m \u001b[0;34m\u001b[0m\u001b[0m\n\u001b[1;32m   1053\u001b[0m             \u001b[0;32mwith\u001b[0m \u001b[0mself\u001b[0m\u001b[0;34m.\u001b[0m\u001b[0m_backend\u001b[0m\u001b[0;34m.\u001b[0m\u001b[0mretrieval_context\u001b[0m\u001b[0;34m(\u001b[0m\u001b[0;34m)\u001b[0m\u001b[0;34m:\u001b[0m\u001b[0;34m\u001b[0m\u001b[0;34m\u001b[0m\u001b[0m\n\u001b[0;32m-> 1054\u001b[0;31m                 \u001b[0mself\u001b[0m\u001b[0;34m.\u001b[0m\u001b[0mretrieve\u001b[0m\u001b[0;34m(\u001b[0m\u001b[0;34m)\u001b[0m\u001b[0;34m\u001b[0m\u001b[0;34m\u001b[0m\u001b[0m\n\u001b[0m\u001b[1;32m   1055\u001b[0m             \u001b[0;31m# Make sure that we get a last message telling us we are done\u001b[0m\u001b[0;34m\u001b[0m\u001b[0;34m\u001b[0m\u001b[0;34m\u001b[0m\u001b[0m\n\u001b[1;32m   1056\u001b[0m             \u001b[0melapsed_time\u001b[0m \u001b[0;34m=\u001b[0m \u001b[0mtime\u001b[0m\u001b[0;34m.\u001b[0m\u001b[0mtime\u001b[0m\u001b[0;34m(\u001b[0m\u001b[0;34m)\u001b[0m \u001b[0;34m-\u001b[0m \u001b[0mself\u001b[0m\u001b[0;34m.\u001b[0m\u001b[0m_start_time\u001b[0m\u001b[0;34m\u001b[0m\u001b[0;34m\u001b[0m\u001b[0m\n",
      "\u001b[0;32m~/.local/lib/python3.8/site-packages/joblib/parallel.py\u001b[0m in \u001b[0;36mretrieve\u001b[0;34m(self)\u001b[0m\n\u001b[1;32m    931\u001b[0m             \u001b[0;32mtry\u001b[0m\u001b[0;34m:\u001b[0m\u001b[0;34m\u001b[0m\u001b[0;34m\u001b[0m\u001b[0m\n\u001b[1;32m    932\u001b[0m                 \u001b[0;32mif\u001b[0m \u001b[0mgetattr\u001b[0m\u001b[0;34m(\u001b[0m\u001b[0mself\u001b[0m\u001b[0;34m.\u001b[0m\u001b[0m_backend\u001b[0m\u001b[0;34m,\u001b[0m \u001b[0;34m'supports_timeout'\u001b[0m\u001b[0;34m,\u001b[0m \u001b[0;32mFalse\u001b[0m\u001b[0;34m)\u001b[0m\u001b[0;34m:\u001b[0m\u001b[0;34m\u001b[0m\u001b[0;34m\u001b[0m\u001b[0m\n\u001b[0;32m--> 933\u001b[0;31m                     \u001b[0mself\u001b[0m\u001b[0;34m.\u001b[0m\u001b[0m_output\u001b[0m\u001b[0;34m.\u001b[0m\u001b[0mextend\u001b[0m\u001b[0;34m(\u001b[0m\u001b[0mjob\u001b[0m\u001b[0;34m.\u001b[0m\u001b[0mget\u001b[0m\u001b[0;34m(\u001b[0m\u001b[0mtimeout\u001b[0m\u001b[0;34m=\u001b[0m\u001b[0mself\u001b[0m\u001b[0;34m.\u001b[0m\u001b[0mtimeout\u001b[0m\u001b[0;34m)\u001b[0m\u001b[0;34m)\u001b[0m\u001b[0;34m\u001b[0m\u001b[0;34m\u001b[0m\u001b[0m\n\u001b[0m\u001b[1;32m    934\u001b[0m                 \u001b[0;32melse\u001b[0m\u001b[0;34m:\u001b[0m\u001b[0;34m\u001b[0m\u001b[0;34m\u001b[0m\u001b[0m\n\u001b[1;32m    935\u001b[0m                     \u001b[0mself\u001b[0m\u001b[0;34m.\u001b[0m\u001b[0m_output\u001b[0m\u001b[0;34m.\u001b[0m\u001b[0mextend\u001b[0m\u001b[0;34m(\u001b[0m\u001b[0mjob\u001b[0m\u001b[0;34m.\u001b[0m\u001b[0mget\u001b[0m\u001b[0;34m(\u001b[0m\u001b[0;34m)\u001b[0m\u001b[0;34m)\u001b[0m\u001b[0;34m\u001b[0m\u001b[0;34m\u001b[0m\u001b[0m\n",
      "\u001b[0;32m~/.local/lib/python3.8/site-packages/joblib/_parallel_backends.py\u001b[0m in \u001b[0;36mwrap_future_result\u001b[0;34m(future, timeout)\u001b[0m\n\u001b[1;32m    540\u001b[0m         AsyncResults.get from multiprocessing.\"\"\"\n\u001b[1;32m    541\u001b[0m         \u001b[0;32mtry\u001b[0m\u001b[0;34m:\u001b[0m\u001b[0;34m\u001b[0m\u001b[0;34m\u001b[0m\u001b[0m\n\u001b[0;32m--> 542\u001b[0;31m             \u001b[0;32mreturn\u001b[0m \u001b[0mfuture\u001b[0m\u001b[0;34m.\u001b[0m\u001b[0mresult\u001b[0m\u001b[0;34m(\u001b[0m\u001b[0mtimeout\u001b[0m\u001b[0;34m=\u001b[0m\u001b[0mtimeout\u001b[0m\u001b[0;34m)\u001b[0m\u001b[0;34m\u001b[0m\u001b[0;34m\u001b[0m\u001b[0m\n\u001b[0m\u001b[1;32m    543\u001b[0m         \u001b[0;32mexcept\u001b[0m \u001b[0mCfTimeoutError\u001b[0m \u001b[0;32mas\u001b[0m \u001b[0me\u001b[0m\u001b[0;34m:\u001b[0m\u001b[0;34m\u001b[0m\u001b[0;34m\u001b[0m\u001b[0m\n\u001b[1;32m    544\u001b[0m             \u001b[0;32mraise\u001b[0m \u001b[0mTimeoutError\u001b[0m \u001b[0;32mfrom\u001b[0m \u001b[0me\u001b[0m\u001b[0;34m\u001b[0m\u001b[0;34m\u001b[0m\u001b[0m\n",
      "\u001b[0;32m/usr/lib/python3.8/concurrent/futures/_base.py\u001b[0m in \u001b[0;36mresult\u001b[0;34m(self, timeout)\u001b[0m\n\u001b[1;32m    432\u001b[0m                 \u001b[0;32mreturn\u001b[0m \u001b[0mself\u001b[0m\u001b[0;34m.\u001b[0m\u001b[0m__get_result\u001b[0m\u001b[0;34m(\u001b[0m\u001b[0;34m)\u001b[0m\u001b[0;34m\u001b[0m\u001b[0;34m\u001b[0m\u001b[0m\n\u001b[1;32m    433\u001b[0m \u001b[0;34m\u001b[0m\u001b[0m\n\u001b[0;32m--> 434\u001b[0;31m             \u001b[0mself\u001b[0m\u001b[0;34m.\u001b[0m\u001b[0m_condition\u001b[0m\u001b[0;34m.\u001b[0m\u001b[0mwait\u001b[0m\u001b[0;34m(\u001b[0m\u001b[0mtimeout\u001b[0m\u001b[0;34m)\u001b[0m\u001b[0;34m\u001b[0m\u001b[0;34m\u001b[0m\u001b[0m\n\u001b[0m\u001b[1;32m    435\u001b[0m \u001b[0;34m\u001b[0m\u001b[0m\n\u001b[1;32m    436\u001b[0m             \u001b[0;32mif\u001b[0m \u001b[0mself\u001b[0m\u001b[0;34m.\u001b[0m\u001b[0m_state\u001b[0m \u001b[0;32min\u001b[0m \u001b[0;34m[\u001b[0m\u001b[0mCANCELLED\u001b[0m\u001b[0;34m,\u001b[0m \u001b[0mCANCELLED_AND_NOTIFIED\u001b[0m\u001b[0;34m]\u001b[0m\u001b[0;34m:\u001b[0m\u001b[0;34m\u001b[0m\u001b[0;34m\u001b[0m\u001b[0m\n",
      "\u001b[0;32m/usr/lib/python3.8/threading.py\u001b[0m in \u001b[0;36mwait\u001b[0;34m(self, timeout)\u001b[0m\n\u001b[1;32m    300\u001b[0m         \u001b[0;32mtry\u001b[0m\u001b[0;34m:\u001b[0m    \u001b[0;31m# restore state no matter what (e.g., KeyboardInterrupt)\u001b[0m\u001b[0;34m\u001b[0m\u001b[0;34m\u001b[0m\u001b[0m\n\u001b[1;32m    301\u001b[0m             \u001b[0;32mif\u001b[0m \u001b[0mtimeout\u001b[0m \u001b[0;32mis\u001b[0m \u001b[0;32mNone\u001b[0m\u001b[0;34m:\u001b[0m\u001b[0;34m\u001b[0m\u001b[0;34m\u001b[0m\u001b[0m\n\u001b[0;32m--> 302\u001b[0;31m                 \u001b[0mwaiter\u001b[0m\u001b[0;34m.\u001b[0m\u001b[0macquire\u001b[0m\u001b[0;34m(\u001b[0m\u001b[0;34m)\u001b[0m\u001b[0;34m\u001b[0m\u001b[0;34m\u001b[0m\u001b[0m\n\u001b[0m\u001b[1;32m    303\u001b[0m                 \u001b[0mgotit\u001b[0m \u001b[0;34m=\u001b[0m \u001b[0;32mTrue\u001b[0m\u001b[0;34m\u001b[0m\u001b[0;34m\u001b[0m\u001b[0m\n\u001b[1;32m    304\u001b[0m             \u001b[0;32melse\u001b[0m\u001b[0;34m:\u001b[0m\u001b[0;34m\u001b[0m\u001b[0;34m\u001b[0m\u001b[0m\n",
      "\u001b[0;31mKeyboardInterrupt\u001b[0m: "
     ]
    }
   ],
   "source": [
    "clf.fit(X_train, y_train)"
   ]
  },
  {
   "cell_type": "markdown",
   "id": "cd0f7c2b",
   "metadata": {},
   "source": [
    "Realizamos nuestras predicciones para una análisis más amplio"
   ]
  },
  {
   "cell_type": "code",
   "execution_count": null,
   "id": "500c882f",
   "metadata": {},
   "outputs": [],
   "source": [
    "y_pred = clf.predict(X_test)"
   ]
  },
  {
   "cell_type": "markdown",
   "id": "e3a403a3",
   "metadata": {},
   "source": [
    "### Metricas"
   ]
  },
  {
   "cell_type": "code",
   "execution_count": null,
   "id": "1fbc2aa9",
   "metadata": {},
   "outputs": [],
   "source": [
    "print(\"AUC-ROC score sobre test: \", \"%0.16f\"  % roc_auc_score(y_test, clf.predict_proba(X_test)[:, 1]))\n",
    "print(\"AUC-ROC score sobre train: \", \"%0.16f\"  % roc_auc_score(y_train, clf.predict_proba(X_train)[:, 1]))\n",
    "print(\"Accuracy sobre test: \", \"%0.16f\"  % accuracy_score(y_pred, y_test))\n",
    "print(\"Accuracy sobre train: \", \"%0.16f\"  % accuracy_score(clf.predict(X_train), y_train))\n",
    "print(classification_report(y_test, y_pred, target_names=[\"Bajo valor\", \"Alto valor\"]))\n",
    "print(\"Los mejores hiperpametros elegidos: \", clf.best_params_)\n",
    "graficar_matriz_confusion(y_test, y_pred)\n",
    "plot_roc_curves(clf, X_test, y_test, X_train, y_train) # 9296"
   ]
  },
  {
   "cell_type": "markdown",
   "id": "012e6b22",
   "metadata": {},
   "source": [
    "Obtenemos buenas métricas a nivel general y además la brecha entre el test y el train parece ser lógica por lo que entendemos no estariamos overfitteado (algo que al usar aŕboles lógicamente hay que cuidar). Probemos igualmente otro preprocesamiento apra ver si obtenemos algo diferente"
   ]
  },
  {
   "cell_type": "markdown",
   "id": "16bf1081",
   "metadata": {},
   "source": [
    "## Segundo preprocesamiento"
   ]
  },
  {
   "cell_type": "markdown",
   "id": "4f60168c",
   "metadata": {},
   "source": [
    "Realizamos nuesttro nuevo preprocesado. En este caso se trata de una modificación mas leve a nuestras features en donde no agruparemos como lo hicimos en el primer preprocesado (por ejemplo en la educación). Además, tendremos en cuenta a la feature barrio, generalizando entre los residente en Palermo y los no residentes en Palermo. "
   ]
  },
  {
   "cell_type": "code",
   "execution_count": 4,
   "id": "34758a0c",
   "metadata": {},
   "outputs": [
    {
     "name": "stdout",
     "output_type": "stream",
     "text": [
      "Aplicando 'conversion_numerica_generalizada' en las variables categóricas.\n"
     ]
    }
   ],
   "source": [
    "df, df_holdout = obtener_datasets()\n",
    "X_df, y_df = aplicar_preparacion_generalizado(df)\n",
    "X_df = conversion_numerica_generalizada(X_df)\n"
   ]
  },
  {
   "cell_type": "markdown",
   "id": "91905254",
   "metadata": {},
   "source": [
    "También, utilizaremos el algoritmo de RFECV para que seleccione solo las features que resultan mas importantes con un único árbol de decisión a la hora de entrenar con gradient boosting donde internamente utiliza 'n' arboles de decisiones (estimadores) donde el calculo de gini o entropía es el mismo que un árbol único.\n",
    "\n",
    "Creemos que ésto puede favorecer a gradient boosting dándole de \"comer\" features que fueron útiles a partir de un primer árbol de decisión con la importancia de features, pero también podríamos perder información necesaria y por lo tanto más score porque esto termina tratándose de un **método de reducción de dimensionalidad**.\n",
    "\n",
    "Además de que solo estaríamos sesgados a ver solo features importances de un único y primer árbol solo. No explotaríamos la idea de éste modelo de ensamble 'boosting' donde un estimador le dice a otro en cual instancias se equivocó asignándoles un peso. O sea, no explotaríamos ésta idea porque estaríamos quitándole features a estas instancias mal clasificadas el cual un estimador podría aprovechar clasificar mejor."
   ]
  },
  {
   "cell_type": "markdown",
   "id": "3fdd5570",
   "metadata": {},
   "source": [
    "Veamos más detalle de qué hace el algoritmo RFECV:"
   ]
  },
  {
   "cell_type": "code",
   "execution_count": 13,
   "id": "859560c1",
   "metadata": {},
   "outputs": [
    {
     "data": {
      "text/plain": [
       "<function preprocessing.reduccion_rfecv(clf, X_df, Y_df, min_features_to_select=1, n_jobs=-1, scoring='roc_auc', cv=5)>"
      ]
     },
     "execution_count": 13,
     "metadata": {},
     "output_type": "execute_result"
    }
   ],
   "source": [
    "reduccion_rfecv"
   ]
  },
  {
   "cell_type": "code",
   "execution_count": 8,
   "id": "338bdda3",
   "metadata": {},
   "outputs": [
    {
     "data": {
      "text/plain": [
       "\u001b[0;31mSignature:\u001b[0m\n",
       "\u001b[0mreduccion_rfecv\u001b[0m\u001b[0;34m(\u001b[0m\u001b[0;34m\u001b[0m\n",
       "\u001b[0;34m\u001b[0m    \u001b[0mclf\u001b[0m\u001b[0;34m,\u001b[0m\u001b[0;34m\u001b[0m\n",
       "\u001b[0;34m\u001b[0m    \u001b[0mX_df\u001b[0m\u001b[0;34m,\u001b[0m\u001b[0;34m\u001b[0m\n",
       "\u001b[0;34m\u001b[0m    \u001b[0mY_df\u001b[0m\u001b[0;34m,\u001b[0m\u001b[0;34m\u001b[0m\n",
       "\u001b[0;34m\u001b[0m    \u001b[0mmin_features_to_select\u001b[0m\u001b[0;34m=\u001b[0m\u001b[0;36m1\u001b[0m\u001b[0;34m,\u001b[0m\u001b[0;34m\u001b[0m\n",
       "\u001b[0;34m\u001b[0m    \u001b[0mn_jobs\u001b[0m\u001b[0;34m=\u001b[0m\u001b[0;34m-\u001b[0m\u001b[0;36m1\u001b[0m\u001b[0;34m,\u001b[0m\u001b[0;34m\u001b[0m\n",
       "\u001b[0;34m\u001b[0m    \u001b[0mscoring\u001b[0m\u001b[0;34m=\u001b[0m\u001b[0;34m'roc_auc'\u001b[0m\u001b[0;34m,\u001b[0m\u001b[0;34m\u001b[0m\n",
       "\u001b[0;34m\u001b[0m    \u001b[0mcv\u001b[0m\u001b[0;34m=\u001b[0m\u001b[0;36m5\u001b[0m\u001b[0;34m,\u001b[0m\u001b[0;34m\u001b[0m\n",
       "\u001b[0;34m\u001b[0m\u001b[0;34m)\u001b[0m\u001b[0;34m\u001b[0m\u001b[0;34m\u001b[0m\u001b[0m\n",
       "\u001b[0;31mDocstring:\u001b[0m\n",
       "Es una técnica de selección de tipo embedded, encargándose de rankear variables según métodos internos de cada algoritmo.\n",
       "\n",
       "La idea principal de RFECV es igual a la del RFE. Es decir:\n",
       "\n",
       "1. Entrenar un modelo con un clasificador recibido ('clf')\n",
       "2. Obtener importancias a partir de un modelo.  \n",
       "3. Eliminar la/las variables menos importantes\n",
       "4. Repetir \n",
       "\n",
       "Esto se repite hasta que converga y mi modelo deje de mejorar. Un hiperparámetro importante de la implementación RFE \n",
       "en sklearn es la **cantidad de features a seleccionar** pero ese numero no suele conocerse.\n",
       "\n",
       "Para buscar el numero de optimo de features a seleccionar, el método de RFECV utiliza cross-validation (por eso el acrónimo RFECV: RFE-CV).\n",
       "Es decir, realiza la validación (sobre el conjunto validación 'Y_df' recibido aplicándole el clasificador 'clf') con cross-validation usando\n",
       "diferentes números de features en distintos folds, y seleccionando el mejor numero de features que mejor score ('score'='roc_auc' por default) nos de.\n",
       "\n",
       "Internamente se utiliza cross-validation de forma estratificada (StratifiedKFold) para mantener la proporción de clases (de 'Y_df') en cada fold.\n",
       "\n",
       "Parametros recibidos\n",
       "--------\n",
       "    * clf -> El clasificador que se utilizará para obtener las importancias de faetures.\n",
       "    * X_df -> El dataset a cual reducir la features, sin la feature de validación.\n",
       "    * Y_df -> La feature de validación utilizada para encontrar el número optimo de features según el scoring del clasificador recibido.\n",
       "    * min_features_to_select -> Mínimo de features a selección, por default es 1.\n",
       "    * n_jobs -> Número de núcleos para correr en paralelo mientras se entrena cada fold de cross-validation, por default es -1 (todos los núcleos).\n",
       "    * scoring -> Un string indicando el tipo de métrica a utilizar para calcular el score vía cross-validation, por default es 'roc_auc'.\n",
       "    * cv -> Número que indica la cantidad de divisiones realizadas por cross-validation.\n",
       "\n",
       "Retorno\n",
       "--------\n",
       "    * X_reduced -> pd.DataFrame: retorna el dataset reducido con RFECV.\n",
       "\u001b[0;31mFile:\u001b[0m      /mnt/c/Users/feder/Documents/Facultad/2021/(7506) Organización de Datos/TP-FIUFIP-Organizacion-de-Datos/parte_2/preprocessing.py\n",
       "\u001b[0;31mType:\u001b[0m      function\n"
      ]
     },
     "metadata": {},
     "output_type": "display_data"
    }
   ],
   "source": [
    "reduccion_rfecv?"
   ]
  },
  {
   "cell_type": "markdown",
   "id": "24ab09a6",
   "metadata": {},
   "source": [
    "Usamos rfecv"
   ]
  },
  {
   "cell_type": "code",
   "execution_count": 10,
   "id": "c43e0c2a",
   "metadata": {},
   "outputs": [],
   "source": [
    "clf_2 = tree.DecisionTreeClassifier(random_state=10, criterion = 'gini', max_depth = 5, min_samples_leaf = 500)\n",
    "X_reducido = reduccion_rfecv(\n",
    "    clf = clf_2,\n",
    "    X_df = X_df,\n",
    "    Y_df = y_df,\n",
    "    min_features_to_select=20)"
   ]
  },
  {
   "cell_type": "code",
   "execution_count": 11,
   "id": "fb685a83",
   "metadata": {},
   "outputs": [
    {
     "data": {
      "text/html": [
       "<div>\n",
       "<style scoped>\n",
       "    .dataframe tbody tr th:only-of-type {\n",
       "        vertical-align: middle;\n",
       "    }\n",
       "\n",
       "    .dataframe tbody tr th {\n",
       "        vertical-align: top;\n",
       "    }\n",
       "\n",
       "    .dataframe thead th {\n",
       "        text-align: right;\n",
       "    }\n",
       "</style>\n",
       "<table border=\"1\" class=\"dataframe\">\n",
       "  <thead>\n",
       "    <tr style=\"text-align: right;\">\n",
       "      <th></th>\n",
       "      <th>anios_estudiados</th>\n",
       "      <th>edad</th>\n",
       "      <th>educacion_alcanzada</th>\n",
       "      <th>suma_declarada_bolsa_argentina</th>\n",
       "      <th>horas_trabajo_registradas</th>\n",
       "      <th>genero_mujer</th>\n",
       "      <th>estado_marital_matrimonio_civil</th>\n",
       "      <th>estado_marital_matrimonio_militar</th>\n",
       "      <th>estado_marital_pareja_no_presente</th>\n",
       "      <th>estado_marital_separado_a</th>\n",
       "      <th>categoria_de_trabajo_sin_trabajo</th>\n",
       "      <th>categoria_de_trabajo_trabajo_voluntariado</th>\n",
       "      <th>religion_budismo</th>\n",
       "      <th>religion_cristianismo</th>\n",
       "      <th>religion_judaismo</th>\n",
       "      <th>religion_otro</th>\n",
       "      <th>rol_familiar_registrado_con_hijos</th>\n",
       "      <th>rol_familiar_registrado_otro</th>\n",
       "      <th>rol_familiar_registrado_sin_familia</th>\n",
       "      <th>rol_familiar_registrado_soltero_a</th>\n",
       "    </tr>\n",
       "  </thead>\n",
       "  <tbody>\n",
       "    <tr>\n",
       "      <th>0</th>\n",
       "      <td>17</td>\n",
       "      <td>39</td>\n",
       "      <td>13</td>\n",
       "      <td>2174</td>\n",
       "      <td>40</td>\n",
       "      <td>0</td>\n",
       "      <td>0</td>\n",
       "      <td>0</td>\n",
       "      <td>0</td>\n",
       "      <td>0</td>\n",
       "      <td>0</td>\n",
       "      <td>0</td>\n",
       "      <td>0</td>\n",
       "      <td>1</td>\n",
       "      <td>0</td>\n",
       "      <td>0</td>\n",
       "      <td>0</td>\n",
       "      <td>0</td>\n",
       "      <td>1</td>\n",
       "      <td>0</td>\n",
       "    </tr>\n",
       "    <tr>\n",
       "      <th>1</th>\n",
       "      <td>17</td>\n",
       "      <td>50</td>\n",
       "      <td>13</td>\n",
       "      <td>0</td>\n",
       "      <td>13</td>\n",
       "      <td>0</td>\n",
       "      <td>1</td>\n",
       "      <td>0</td>\n",
       "      <td>0</td>\n",
       "      <td>0</td>\n",
       "      <td>0</td>\n",
       "      <td>0</td>\n",
       "      <td>0</td>\n",
       "      <td>1</td>\n",
       "      <td>0</td>\n",
       "      <td>0</td>\n",
       "      <td>0</td>\n",
       "      <td>0</td>\n",
       "      <td>0</td>\n",
       "      <td>0</td>\n",
       "    </tr>\n",
       "    <tr>\n",
       "      <th>2</th>\n",
       "      <td>13</td>\n",
       "      <td>38</td>\n",
       "      <td>8</td>\n",
       "      <td>0</td>\n",
       "      <td>40</td>\n",
       "      <td>0</td>\n",
       "      <td>0</td>\n",
       "      <td>0</td>\n",
       "      <td>0</td>\n",
       "      <td>0</td>\n",
       "      <td>0</td>\n",
       "      <td>0</td>\n",
       "      <td>0</td>\n",
       "      <td>1</td>\n",
       "      <td>0</td>\n",
       "      <td>0</td>\n",
       "      <td>0</td>\n",
       "      <td>0</td>\n",
       "      <td>1</td>\n",
       "      <td>0</td>\n",
       "    </tr>\n",
       "    <tr>\n",
       "      <th>3</th>\n",
       "      <td>11</td>\n",
       "      <td>53</td>\n",
       "      <td>6</td>\n",
       "      <td>0</td>\n",
       "      <td>40</td>\n",
       "      <td>0</td>\n",
       "      <td>1</td>\n",
       "      <td>0</td>\n",
       "      <td>0</td>\n",
       "      <td>0</td>\n",
       "      <td>0</td>\n",
       "      <td>0</td>\n",
       "      <td>0</td>\n",
       "      <td>0</td>\n",
       "      <td>1</td>\n",
       "      <td>0</td>\n",
       "      <td>0</td>\n",
       "      <td>0</td>\n",
       "      <td>0</td>\n",
       "      <td>0</td>\n",
       "    </tr>\n",
       "    <tr>\n",
       "      <th>4</th>\n",
       "      <td>17</td>\n",
       "      <td>28</td>\n",
       "      <td>13</td>\n",
       "      <td>0</td>\n",
       "      <td>40</td>\n",
       "      <td>1</td>\n",
       "      <td>1</td>\n",
       "      <td>0</td>\n",
       "      <td>0</td>\n",
       "      <td>0</td>\n",
       "      <td>0</td>\n",
       "      <td>0</td>\n",
       "      <td>0</td>\n",
       "      <td>0</td>\n",
       "      <td>1</td>\n",
       "      <td>0</td>\n",
       "      <td>0</td>\n",
       "      <td>0</td>\n",
       "      <td>0</td>\n",
       "      <td>0</td>\n",
       "    </tr>\n",
       "    <tr>\n",
       "      <th>...</th>\n",
       "      <td>...</td>\n",
       "      <td>...</td>\n",
       "      <td>...</td>\n",
       "      <td>...</td>\n",
       "      <td>...</td>\n",
       "      <td>...</td>\n",
       "      <td>...</td>\n",
       "      <td>...</td>\n",
       "      <td>...</td>\n",
       "      <td>...</td>\n",
       "      <td>...</td>\n",
       "      <td>...</td>\n",
       "      <td>...</td>\n",
       "      <td>...</td>\n",
       "      <td>...</td>\n",
       "      <td>...</td>\n",
       "      <td>...</td>\n",
       "      <td>...</td>\n",
       "      <td>...</td>\n",
       "      <td>...</td>\n",
       "    </tr>\n",
       "    <tr>\n",
       "      <th>32556</th>\n",
       "      <td>16</td>\n",
       "      <td>27</td>\n",
       "      <td>12</td>\n",
       "      <td>0</td>\n",
       "      <td>38</td>\n",
       "      <td>1</td>\n",
       "      <td>1</td>\n",
       "      <td>0</td>\n",
       "      <td>0</td>\n",
       "      <td>0</td>\n",
       "      <td>0</td>\n",
       "      <td>0</td>\n",
       "      <td>0</td>\n",
       "      <td>1</td>\n",
       "      <td>0</td>\n",
       "      <td>0</td>\n",
       "      <td>0</td>\n",
       "      <td>0</td>\n",
       "      <td>0</td>\n",
       "      <td>0</td>\n",
       "    </tr>\n",
       "    <tr>\n",
       "      <th>32557</th>\n",
       "      <td>13</td>\n",
       "      <td>40</td>\n",
       "      <td>8</td>\n",
       "      <td>0</td>\n",
       "      <td>40</td>\n",
       "      <td>0</td>\n",
       "      <td>1</td>\n",
       "      <td>0</td>\n",
       "      <td>0</td>\n",
       "      <td>0</td>\n",
       "      <td>0</td>\n",
       "      <td>0</td>\n",
       "      <td>0</td>\n",
       "      <td>1</td>\n",
       "      <td>0</td>\n",
       "      <td>0</td>\n",
       "      <td>0</td>\n",
       "      <td>0</td>\n",
       "      <td>0</td>\n",
       "      <td>0</td>\n",
       "    </tr>\n",
       "    <tr>\n",
       "      <th>32558</th>\n",
       "      <td>13</td>\n",
       "      <td>58</td>\n",
       "      <td>8</td>\n",
       "      <td>0</td>\n",
       "      <td>40</td>\n",
       "      <td>1</td>\n",
       "      <td>0</td>\n",
       "      <td>0</td>\n",
       "      <td>0</td>\n",
       "      <td>0</td>\n",
       "      <td>0</td>\n",
       "      <td>0</td>\n",
       "      <td>0</td>\n",
       "      <td>1</td>\n",
       "      <td>0</td>\n",
       "      <td>0</td>\n",
       "      <td>0</td>\n",
       "      <td>0</td>\n",
       "      <td>0</td>\n",
       "      <td>1</td>\n",
       "    </tr>\n",
       "    <tr>\n",
       "      <th>32559</th>\n",
       "      <td>13</td>\n",
       "      <td>22</td>\n",
       "      <td>8</td>\n",
       "      <td>0</td>\n",
       "      <td>20</td>\n",
       "      <td>0</td>\n",
       "      <td>0</td>\n",
       "      <td>0</td>\n",
       "      <td>0</td>\n",
       "      <td>0</td>\n",
       "      <td>0</td>\n",
       "      <td>0</td>\n",
       "      <td>0</td>\n",
       "      <td>1</td>\n",
       "      <td>0</td>\n",
       "      <td>0</td>\n",
       "      <td>1</td>\n",
       "      <td>0</td>\n",
       "      <td>0</td>\n",
       "      <td>0</td>\n",
       "    </tr>\n",
       "    <tr>\n",
       "      <th>32560</th>\n",
       "      <td>13</td>\n",
       "      <td>52</td>\n",
       "      <td>8</td>\n",
       "      <td>15024</td>\n",
       "      <td>40</td>\n",
       "      <td>1</td>\n",
       "      <td>1</td>\n",
       "      <td>0</td>\n",
       "      <td>0</td>\n",
       "      <td>0</td>\n",
       "      <td>0</td>\n",
       "      <td>0</td>\n",
       "      <td>0</td>\n",
       "      <td>1</td>\n",
       "      <td>0</td>\n",
       "      <td>0</td>\n",
       "      <td>0</td>\n",
       "      <td>0</td>\n",
       "      <td>0</td>\n",
       "      <td>0</td>\n",
       "    </tr>\n",
       "  </tbody>\n",
       "</table>\n",
       "<p>32561 rows × 20 columns</p>\n",
       "</div>"
      ],
      "text/plain": [
       "       anios_estudiados  edad  educacion_alcanzada  \\\n",
       "0                    17    39                   13   \n",
       "1                    17    50                   13   \n",
       "2                    13    38                    8   \n",
       "3                    11    53                    6   \n",
       "4                    17    28                   13   \n",
       "...                 ...   ...                  ...   \n",
       "32556                16    27                   12   \n",
       "32557                13    40                    8   \n",
       "32558                13    58                    8   \n",
       "32559                13    22                    8   \n",
       "32560                13    52                    8   \n",
       "\n",
       "       suma_declarada_bolsa_argentina  horas_trabajo_registradas  \\\n",
       "0                                2174                         40   \n",
       "1                                   0                         13   \n",
       "2                                   0                         40   \n",
       "3                                   0                         40   \n",
       "4                                   0                         40   \n",
       "...                               ...                        ...   \n",
       "32556                               0                         38   \n",
       "32557                               0                         40   \n",
       "32558                               0                         40   \n",
       "32559                               0                         20   \n",
       "32560                           15024                         40   \n",
       "\n",
       "       genero_mujer  estado_marital_matrimonio_civil  \\\n",
       "0                 0                                0   \n",
       "1                 0                                1   \n",
       "2                 0                                0   \n",
       "3                 0                                1   \n",
       "4                 1                                1   \n",
       "...             ...                              ...   \n",
       "32556             1                                1   \n",
       "32557             0                                1   \n",
       "32558             1                                0   \n",
       "32559             0                                0   \n",
       "32560             1                                1   \n",
       "\n",
       "       estado_marital_matrimonio_militar  estado_marital_pareja_no_presente  \\\n",
       "0                                      0                                  0   \n",
       "1                                      0                                  0   \n",
       "2                                      0                                  0   \n",
       "3                                      0                                  0   \n",
       "4                                      0                                  0   \n",
       "...                                  ...                                ...   \n",
       "32556                                  0                                  0   \n",
       "32557                                  0                                  0   \n",
       "32558                                  0                                  0   \n",
       "32559                                  0                                  0   \n",
       "32560                                  0                                  0   \n",
       "\n",
       "       estado_marital_separado_a  categoria_de_trabajo_sin_trabajo  \\\n",
       "0                              0                                 0   \n",
       "1                              0                                 0   \n",
       "2                              0                                 0   \n",
       "3                              0                                 0   \n",
       "4                              0                                 0   \n",
       "...                          ...                               ...   \n",
       "32556                          0                                 0   \n",
       "32557                          0                                 0   \n",
       "32558                          0                                 0   \n",
       "32559                          0                                 0   \n",
       "32560                          0                                 0   \n",
       "\n",
       "       categoria_de_trabajo_trabajo_voluntariado  religion_budismo  \\\n",
       "0                                              0                 0   \n",
       "1                                              0                 0   \n",
       "2                                              0                 0   \n",
       "3                                              0                 0   \n",
       "4                                              0                 0   \n",
       "...                                          ...               ...   \n",
       "32556                                          0                 0   \n",
       "32557                                          0                 0   \n",
       "32558                                          0                 0   \n",
       "32559                                          0                 0   \n",
       "32560                                          0                 0   \n",
       "\n",
       "       religion_cristianismo  religion_judaismo  religion_otro  \\\n",
       "0                          1                  0              0   \n",
       "1                          1                  0              0   \n",
       "2                          1                  0              0   \n",
       "3                          0                  1              0   \n",
       "4                          0                  1              0   \n",
       "...                      ...                ...            ...   \n",
       "32556                      1                  0              0   \n",
       "32557                      1                  0              0   \n",
       "32558                      1                  0              0   \n",
       "32559                      1                  0              0   \n",
       "32560                      1                  0              0   \n",
       "\n",
       "       rol_familiar_registrado_con_hijos  rol_familiar_registrado_otro  \\\n",
       "0                                      0                             0   \n",
       "1                                      0                             0   \n",
       "2                                      0                             0   \n",
       "3                                      0                             0   \n",
       "4                                      0                             0   \n",
       "...                                  ...                           ...   \n",
       "32556                                  0                             0   \n",
       "32557                                  0                             0   \n",
       "32558                                  0                             0   \n",
       "32559                                  1                             0   \n",
       "32560                                  0                             0   \n",
       "\n",
       "       rol_familiar_registrado_sin_familia  rol_familiar_registrado_soltero_a  \n",
       "0                                        1                                  0  \n",
       "1                                        0                                  0  \n",
       "2                                        1                                  0  \n",
       "3                                        0                                  0  \n",
       "4                                        0                                  0  \n",
       "...                                    ...                                ...  \n",
       "32556                                    0                                  0  \n",
       "32557                                    0                                  0  \n",
       "32558                                    0                                  1  \n",
       "32559                                    0                                  0  \n",
       "32560                                    0                                  0  \n",
       "\n",
       "[32561 rows x 20 columns]"
      ]
     },
     "execution_count": 11,
     "metadata": {},
     "output_type": "execute_result"
    }
   ],
   "source": [
    "X_reducido"
   ]
  },
  {
   "cell_type": "markdown",
   "id": "3bb44e6e",
   "metadata": {},
   "source": [
    "Realizamos nuevamente el split"
   ]
  },
  {
   "cell_type": "code",
   "execution_count": 11,
   "id": "49a45f5d",
   "metadata": {},
   "outputs": [],
   "source": [
    "X_train, X_test, y_train, y_test = train_test_split(X_reducido, y_df, random_state=10, test_size=0.20, stratify=y_df)"
   ]
  },
  {
   "cell_type": "markdown",
   "id": "b182bf6c",
   "metadata": {},
   "source": [
    "### Entrenamiento"
   ]
  },
  {
   "cell_type": "markdown",
   "id": "12644f17",
   "metadata": {},
   "source": [
    "Volvemos a realizar un entrenamiento con 5 folds, utilizando las mismas librerias y funciones utilizadas anteriormente"
   ]
  },
  {
   "cell_type": "code",
   "execution_count": 12,
   "id": "8ea5e885",
   "metadata": {},
   "outputs": [],
   "source": [
    "cv = StratifiedKFold(n_splits=5,random_state=10, shuffle=True).split(X_train, y_train)\n",
    "clf_2 = GradientBoostingClassifier(random_state=10)\n",
    "params = {\"max_depth\":np.arange(3,8),\"min_samples_leaf\":np.arange(50,150,20)}\n",
    "clf_2 = GridSearchCV(clf_2, params, scoring='roc_auc', cv=cv, n_jobs = -1)\n"
   ]
  },
  {
   "cell_type": "markdown",
   "id": "13a2db91",
   "metadata": {},
   "source": [
    "Entrenamos nuestro modelo"
   ]
  },
  {
   "cell_type": "code",
   "execution_count": 13,
   "id": "1a7c6d98",
   "metadata": {},
   "outputs": [
    {
     "data": {
      "text/plain": [
       "GridSearchCV(cv=<generator object _BaseKFold.split at 0x7f1e4c5d8200>,\n",
       "             estimator=GradientBoostingClassifier(random_state=10), n_jobs=-1,\n",
       "             param_grid={'max_depth': array([3, 4, 5, 6, 7]),\n",
       "                         'min_samples_leaf': array([ 50,  70,  90, 110, 130])},\n",
       "             scoring='roc_auc')"
      ]
     },
     "execution_count": 13,
     "metadata": {},
     "output_type": "execute_result"
    }
   ],
   "source": [
    "clf_2.fit(X_train, y_train)"
   ]
  },
  {
   "cell_type": "markdown",
   "id": "cdc07672",
   "metadata": {},
   "source": [
    "Realizamos nuestras predicciones para una análisis más amplio"
   ]
  },
  {
   "cell_type": "code",
   "execution_count": 14,
   "id": "f983d3b4",
   "metadata": {},
   "outputs": [],
   "source": [
    "y_pred = clf_2.predict(X_test)"
   ]
  },
  {
   "cell_type": "markdown",
   "id": "f8725e08",
   "metadata": {},
   "source": [
    "### Metricas"
   ]
  },
  {
   "cell_type": "code",
   "execution_count": 15,
   "id": "9a2b0dac",
   "metadata": {},
   "outputs": [
    {
     "name": "stdout",
     "output_type": "stream",
     "text": [
      "AUC-ROC score sobre test:  0.9256305972844143\n",
      "AUC-ROC score sobre train:  0.9352436938513804\n",
      "Accuracy sobre test:  0.8714877936434823\n",
      "Accuracy sobre train:  0.8762285012285013\n",
      "              precision    recall  f1-score   support\n",
      "\n",
      "  Bajo valor       0.90      0.94      0.92      4945\n",
      "  Alto valor       0.78      0.66      0.71      1568\n",
      "\n",
      "    accuracy                           0.87      6513\n",
      "   macro avg       0.84      0.80      0.81      6513\n",
      "weighted avg       0.87      0.87      0.87      6513\n",
      "\n",
      "Los mejores hiperpametros elegidos:  {'max_depth': 6, 'min_samples_leaf': 50}\n"
     ]
    },
    {
     "data": {
      "image/png": "[encoded data removed]",
      "text/plain": [
       "<Figure size 660x440 with 2 Axes>"
      ]
     },
     "metadata": {
      "needs_background": "light"
     },
     "output_type": "display_data"
    },
    {
     "data": {
      "image/png": "[encoded data removed]",
      "text/plain": [
       "<Figure size 660x440 with 1 Axes>"
      ]
     },
     "metadata": {
      "needs_background": "light"
     },
     "output_type": "display_data"
    }
   ],
   "source": [
    "print(\"AUC-ROC score sobre test: \", \"%0.16f\"  % roc_auc_score(y_test, clf_2.predict_proba(X_test)[:, 1]))\n",
    "print(\"AUC-ROC score sobre train: \", \"%0.16f\"  % roc_auc_score(y_train, clf_2.predict_proba(X_train)[:, 1]))\n",
    "print(\"Accuracy sobre test: \", \"%0.16f\"  % accuracy_score(y_pred, y_test))\n",
    "print(\"Accuracy sobre train: \", \"%0.16f\"  % accuracy_score(clf_2.predict(X_train), y_train))\n",
    "print(classification_report(y_test, y_pred, target_names=[\"Bajo valor\", \"Alto valor\"]))\n",
    "print(\"Los mejores hiperpametros elegidos: \", clf_2.best_params_)\n",
    "graficar_matriz_confusion(y_test, y_pred)\n",
    "plot_roc_curves(clf_2, X_test, y_test, X_train, y_train)"
   ]
  },
  {
   "cell_type": "markdown",
   "id": "58bb5481",
   "metadata": {},
   "source": [
    "Nuevamente obtenemos buenas métricas a nivel general y bastante parecidas al primer preprocesamiento. Se redujo la brecha entre el test y train y además mejoro levemente el recall para la clase de altos ingresos. Para finalizar pasamos a testear en el holdout"
   ]
  },
  {
   "cell_type": "markdown",
   "id": "f3380103",
   "metadata": {},
   "source": [
    "## Holdouts"
   ]
  },
  {
   "cell_type": "markdown",
   "id": "2bbae39b",
   "metadata": {},
   "source": [
    "Realizamos los testeos requeridos en el holdout. Como el primer preprocesamiento dio levemente mejor la métrica AUC-ROC para el test, utilizamos el primer modelo"
   ]
  },
  {
   "cell_type": "code",
   "execution_count": 16,
   "id": "ddad53ff",
   "metadata": {},
   "outputs": [],
   "source": [
    "from preprocessing import aplicar_preparacion_holdout\n",
    "X_holdout = aplicar_preparacion_holdout(df_for_prediction, generalizada=False)"
   ]
  },
  {
   "cell_type": "markdown",
   "id": "05d9b48a",
   "metadata": {},
   "source": [
    "Apliquemos el procesado con el que obtuvimos el mejor score AUC-ROC:"
   ]
  },
  {
   "cell_type": "code",
   "execution_count": 17,
   "id": "387b704e",
   "metadata": {},
   "outputs": [
    {
     "name": "stdout",
     "output_type": "stream",
     "text": [
      "Aplicando 'conversion_numerica' en las variables categóricas.\n"
     ]
    }
   ],
   "source": [
    "X_holdout_numerico = conversion_numerica(X_holdout) "
   ]
  },
  {
   "cell_type": "markdown",
   "id": "9345f9f6",
   "metadata": {},
   "source": [
    "Hagamos **.predict()** sobre este holdout para luego agregarlo como nueva columna en este dataset para así exportar el **.csv** con facilidad mediante Pandas. "
   ]
  },
  {
   "cell_type": "code",
   "execution_count": 18,
   "id": "cc8e4525",
   "metadata": {},
   "outputs": [],
   "source": [
    "y_pred_holdout = clf.predict(X_holdout_numerico)\n",
    "X_holdout['tiene_alto_valor_adquisitivo'] = y_pred_holdout"
   ]
  },
  {
   "cell_type": "code",
   "execution_count": 19,
   "id": "45df1c27",
   "metadata": {},
   "outputs": [],
   "source": [
    "name_model = '#6 - Boosting'\n",
    "\n",
    "if X_holdout.index[0] == 0:\n",
    "    X_holdout.index += 1 \n",
    "X_holdout['tiene_alto_valor_adquisitivo'].to_csv('predicciones/' + name_model + '.csv', index=True, index_label = 'id')"
   ]
  }
 ],
 "metadata": {
  "kernelspec": {
   "display_name": "Python 3",
   "language": "python",
   "name": "python3"
  },
  "language_info": {
   "codemirror_mode": {
    "name": "ipython",
    "version": 3
   },
   "file_extension": ".py",
   "mimetype": "text/x-python",
   "name": "python",
   "nbconvert_exporter": "python",
   "pygments_lexer": "ipython3",
   "version": "3.8.5"
  }
 },
 "nbformat": 4,
 "nbformat_minor": 5
}
