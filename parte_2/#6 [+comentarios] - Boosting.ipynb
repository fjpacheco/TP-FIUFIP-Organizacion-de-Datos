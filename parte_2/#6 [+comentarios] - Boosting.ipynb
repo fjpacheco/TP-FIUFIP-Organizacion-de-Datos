{
 "cells": [
  {
   "cell_type": "markdown",
   "id": "e0cbf389",
   "metadata": {},
   "source": [
    "# Modelo: Boosting"
   ]
  },
  {
   "cell_type": "markdown",
   "id": "6b78abbf",
   "metadata": {},
   "source": [
    "El modelo a entrenar en el siguiente notebook será un ensamble. En particular buscaremos hacer un **Boosting**. Boosting es un ensamble de tipo homogéneo que consiste en entrenar diferentes instancias con un modelo de forma iterativa."
   ]
  },
  {
   "cell_type": "markdown",
   "id": "0c6553b9",
   "metadata": {},
   "source": [
    "La particularidad de Boosting se da en como se realiza ese entrenamiento. En primer lugar, se entrena un modelo como lo veniamos haciendo hasta ahora. A continuación, a las instancias en las que el primer modelo falló se les asigna un peso mayor para realizar el entrenamiento del segundo modelo. Es decir, un indicativo para comunicarle al segundo modelo en que instancias se equivocó el primer modelo, las mal clasificadas. En definitiva Boosting, tendras distintos modelos donde cada uno proriza los mal clasificados del anterior modelo.\n",
    "\n",
    "De esta manera se continua de forma iterativa hasta obtener un score deseado. El sesgo y la varianza, ya que en cada estimador se ven los datos de forma diferente por el peso asignado."
   ]
  },
  {
   "cell_type": "markdown",
   "id": "6d1ecf77",
   "metadata": {},
   "source": [
    "A la hora de evaluar instancias, el modelo realiza una votación ponderada (según que tan bien fue la performance de ese modelo durante el entrenamiento) entre todos sus estimadores y arroja una predicción."
   ]
  },
  {
   "cell_type": "markdown",
   "id": "3d634f5e",
   "metadata": {},
   "source": [
    "Para implementar este ensamble utilizaremos **GradientBoostingClassifier** de la libreria sklearn. Esta implementación utiliza árboles de decisión como algoritmo base. Además, utiliza una función de perdida para calcular el error en las predicciones arrojadas por cada árbol y a partir de ella optimiza los parámetros de los siguientes árboles mediante descenso por gradiente."
   ]
  },
  {
   "cell_type": "markdown",
   "id": "088af0f3",
   "metadata": {},
   "source": [
    "## Librerias y funciones necesarias"
   ]
  },
  {
   "cell_type": "markdown",
   "id": "dd8f9789",
   "metadata": {},
   "source": [
    "Comenzamos importando las librerias y funciones que serán necesarias para preprocesar nuestros datos, realizar nuestro entrenamiento y obtener metricas "
   ]
  },
  {
   "cell_type": "code",
   "execution_count": 1,
   "id": "c933730b",
   "metadata": {},
   "outputs": [],
   "source": [
    "import numpy as np\n",
    "import pandas as pd\n",
    "import matplotlib.pyplot as plt\n",
    "from sklearn.model_selection import GridSearchCV\n",
    "from sklearn.model_selection import train_test_split\n",
    "from sklearn.model_selection import StratifiedKFold\n",
    "from sklearn.metrics import classification_report\n",
    "from sklearn.metrics import confusion_matrix\n",
    "from sklearn.metrics import roc_curve, auc\n",
    "from sklearn.metrics import roc_auc_score\n",
    "from sklearn.metrics import accuracy_score\n",
    "from sklearn.ensemble import GradientBoostingClassifier\n",
    "from sklearn.preprocessing import StandardScaler\n",
    "from sklearn import tree\n"
   ]
  },
  {
   "cell_type": "code",
   "execution_count": 2,
   "id": "41880583",
   "metadata": {},
   "outputs": [],
   "source": [
    "from preprocessing import obtener_datasets\n",
    "from preprocessing import aplicar_preparacion\n",
    "from preprocessing import conversion_numerica\n",
    "from preprocessing import plot_roc_curves\n",
    "from preprocessing import graficar_matriz_confusion\n",
    "from preprocessing import aplicar_preparacion_generalizado\n",
    "from preprocessing import conversion_numerica_generalizada\n",
    "from preprocessing import get_dataframe_scaled\n",
    "from preprocessing import reduccion_rfecv\n",
    "from preprocessing import get_dataframe_polynomial"
   ]
  },
  {
   "cell_type": "markdown",
   "id": "6158e7b3",
   "metadata": {},
   "source": [
    "## Primer preprocesamiento"
   ]
  },
  {
   "cell_type": "markdown",
   "id": "42369ab5",
   "metadata": {},
   "source": [
    "En primer lugar obtenemos el dataset para entrenar y el holdout. En segundo lugar, aplicamos una función que trabaja sobre las features, generalizando algunas y dejando de lado otras según lo observado en la primer parte de este trabajo práctico. También separamos a la variable target del resto del dataset. Por último, convertimos a númericas las variables categoricas para poder entrenar nuestro modelo"
   ]
  },
  {
   "cell_type": "code",
   "execution_count": 3,
   "id": "9050e837",
   "metadata": {},
   "outputs": [
    {
     "name": "stdout",
     "output_type": "stream",
     "text": [
      "Aplicando 'conversion_numerica' en las variables categóricas.\n"
     ]
    }
   ],
   "source": [
    "df, df_for_prediction = obtener_datasets()\n",
    "X_df, y_df = aplicar_preparacion(df)\n",
    "X_df = conversion_numerica(X_df) "
   ]
  },
  {
   "cell_type": "markdown",
   "id": "5a965822",
   "metadata": {},
   "source": [
    "Luego vamos a realizar un split del dataset para dividir en train y test. Como observamos en la primer parte de este trabajo práctico, la variable target no esta distribuida uniformente por lo cual realizamos una división estratificada"
   ]
  },
  {
   "cell_type": "code",
   "execution_count": 4,
   "id": "ae7fda02",
   "metadata": {},
   "outputs": [],
   "source": [
    "X_train, X_test, y_train, y_test = train_test_split(X_df, y_df, test_size=0.2, random_state=30,stratify=y_df)"
   ]
  },
  {
   "cell_type": "markdown",
   "id": "49e5dd84",
   "metadata": {},
   "source": [
    "### Entrenamiento"
   ]
  },
  {
   "cell_type": "markdown",
   "id": "a4631837",
   "metadata": {},
   "source": [
    "Vamos a realizar un entrenamiento con 5 folds. Para ello utilizaremos StratifiedKFold para asegurarnos de obtener folds balanceados. "
   ]
  },
  {
   "cell_type": "markdown",
   "id": "c9eecd1d",
   "metadata": {},
   "source": [
    "En cuanto a la busqueda de hiperparámetros, vamos a buscar distitnas variaciones de altura de los árboles y mínimas instancias por hoja tal y como realizamos en el modelo de árbol de decisión. \n",
    "\n",
    "También, buscaremos el hiperparámetro *n_estimators*, el cual define la cantidad de modelos que se usarán uno al otro en la cadena de boosting. En nuestro caso seria *n* arboles usados. Si este número fuese muy grande, el modelo podria estar overfitteando. Aún así, según su propia documentación, **GradientBoostingClassifier** es un modelo muy robusto al overfitting por lo que deberia arrojar mejores resultados con más estimadores. \n",
    "\n",
    "Otro hiperparámetro importante será el *learning rate*, el cual determinará cuanto contribuye cada árbol con el siguiente en la función de perdida utilizada. En este caso tomaremos el default"
   ]
  },
  {
   "cell_type": "code",
   "execution_count": 5,
   "id": "c407c180",
   "metadata": {},
   "outputs": [],
   "source": [
    "cv = StratifiedKFold(n_splits=5,random_state=10, shuffle=True).split(X_train, y_train)\n",
    "clf = GradientBoostingClassifier(random_state=10)\n",
    "params = {\"max_depth\":np.arange(3,8),\n",
    "          \"min_samples_leaf\":np.arange(50,150,20),\n",
    "          \"n_estimators\":np.arange(50,350,50)}\n",
    "          #\"learning_rate\":np.arange(0.1,0.9,0.1)}\n",
    "clf = GridSearchCV(clf, params, scoring='roc_auc', cv=cv, n_jobs = -1, verbose = True)\n"
   ]
  },
  {
   "cell_type": "markdown",
   "id": "8c32f7b5",
   "metadata": {},
   "source": [
    "Ahora sí, entrenamos nuestro modelo"
   ]
  },
  {
   "cell_type": "code",
   "execution_count": 6,
   "id": "171776fb",
   "metadata": {},
   "outputs": [
    {
     "name": "stdout",
     "output_type": "stream",
     "text": [
      "Fitting 5 folds for each of 150 candidates, totalling 750 fits\n"
     ]
    },
    {
     "name": "stderr",
     "output_type": "stream",
     "text": [
      "[Parallel(n_jobs=-1)]: Using backend LokyBackend with 4 concurrent workers.\n",
      "[Parallel(n_jobs=-1)]: Done  42 tasks      | elapsed:  1.4min\n",
      "[Parallel(n_jobs=-1)]: Done 192 tasks      | elapsed:  7.5min\n",
      "[Parallel(n_jobs=-1)]: Done 442 tasks      | elapsed: 21.0min\n",
      "[Parallel(n_jobs=-1)]: Done 750 out of 750 | elapsed: 43.7min finished\n"
     ]
    },
    {
     "data": {
      "text/plain": [
       "GridSearchCV(cv=<generator object _BaseKFold.split at 0x7f519d39bb30>,\n",
       "             estimator=GradientBoostingClassifier(random_state=10), n_jobs=-1,\n",
       "             param_grid={'max_depth': array([3, 4, 5, 6, 7]),\n",
       "                         'min_samples_leaf': array([ 50,  70,  90, 110, 130]),\n",
       "                         'n_estimators': array([ 50, 100, 150, 200, 250, 300])},\n",
       "             scoring='roc_auc', verbose=True)"
      ]
     },
     "execution_count": 6,
     "metadata": {},
     "output_type": "execute_result"
    }
   ],
   "source": [
    "clf.fit(X_train, y_train)"
   ]
  },
  {
   "cell_type": "markdown",
   "id": "512b243c",
   "metadata": {},
   "source": [
    "Algo que resulta interesante observar es que valor se tiene en la función de pérdida (Deviance) en cada iteración. Graficamos "
   ]
  },
  {
   "cell_type": "code",
   "execution_count": 7,
   "id": "2b560f3f",
   "metadata": {},
   "outputs": [
    {
     "data": {
      "text/plain": [
       "Text(0, 0.5, 'Perdida')"
      ]
     },
     "execution_count": 7,
     "metadata": {},
     "output_type": "execute_result"
    },
    {
     "data": {
      "image/png": "[encoded data removed]",
      "text/plain": [
       "<Figure size 750x500 with 1 Axes>"
      ]
     },
     "metadata": {
      "needs_background": "light"
     },
     "output_type": "display_data"
    }
   ],
   "source": [
    "best = clf.best_estimator_\n",
    "score_estimadores = best.train_score_\n",
    "plt.figure(dpi=125)\n",
    "plt.plot(score_estimadores)\n",
    "plt.xlabel(\"Cantidad de estimadores\")\n",
    "plt.ylabel(\"Deviance\")"
   ]
  },
  {
   "cell_type": "markdown",
   "id": "fe522d51",
   "metadata": {},
   "source": [
    "Lo que se observa es que a partir de cierto numero de estimadores, la pérdida se reduce muy lentamente y comienza a comportarse de forma asintótica. Por lo que aumentar más el número de estimadores generaria poca ganancia. "
   ]
  },
  {
   "cell_type": "markdown",
   "id": "9467e8ad",
   "metadata": {},
   "source": [
    "Realizamos nuestras predicciones para una análisis más amplio"
   ]
  },
  {
   "cell_type": "code",
   "execution_count": 8,
   "id": "77b585f2",
   "metadata": {},
   "outputs": [],
   "source": [
    "y_pred = clf.predict(X_test)"
   ]
  },
  {
   "cell_type": "markdown",
   "id": "ab346994",
   "metadata": {},
   "source": [
    "### Metricas"
   ]
  },
  {
   "cell_type": "code",
   "execution_count": 9,
   "id": "e6600889",
   "metadata": {},
   "outputs": [
    {
     "name": "stdout",
     "output_type": "stream",
     "text": [
      "AUC-ROC score sobre test:  0.9292791497286477\n",
      "AUC-ROC score sobre train:  0.9407463366669064\n",
      "Accuracy sobre test:  0.8713342545677875\n",
      "Accuracy sobre train:  0.8812960687960688\n",
      "              precision    recall  f1-score   support\n",
      "\n",
      "  Bajo valor       0.89      0.94      0.92      4945\n",
      "  Alto valor       0.78      0.65      0.71      1568\n",
      "\n",
      "    accuracy                           0.87      6513\n",
      "   macro avg       0.84      0.80      0.81      6513\n",
      "weighted avg       0.87      0.87      0.87      6513\n",
      "\n",
      "Los mejores hiperpametros elegidos:  {'max_depth': 5, 'min_samples_leaf': 70, 'n_estimators': 300}\n"
     ]
    },
    {
     "data": {
      "image/png": "[encoded data removed]",
      "text/plain": [
       "<Figure size 660x440 with 2 Axes>"
      ]
     },
     "metadata": {
      "needs_background": "light"
     },
     "output_type": "display_data"
    },
    {
     "data": {
      "image/png": "[encoded data removed]",
      "text/plain": [
       "<Figure size 660x440 with 1 Axes>"
      ]
     },
     "metadata": {
      "needs_background": "light"
     },
     "output_type": "display_data"
    }
   ],
   "source": [
    "print(\"AUC-ROC score sobre test: \", \"%0.16f\"  % roc_auc_score(y_test, clf.predict_proba(X_test)[:, 1]))\n",
    "print(\"AUC-ROC score sobre train: \", \"%0.16f\"  % roc_auc_score(y_train, clf.predict_proba(X_train)[:, 1]))\n",
    "print(\"Accuracy sobre test: \", \"%0.16f\"  % accuracy_score(y_pred, y_test))\n",
    "print(\"Accuracy sobre train: \", \"%0.16f\"  % accuracy_score(clf.predict(X_train), y_train))\n",
    "print(classification_report(y_test, y_pred, target_names=[\"Bajo valor\", \"Alto valor\"]))\n",
    "print(\"Los mejores hiperpametros elegidos: \", clf.best_params_)\n",
    "graficar_matriz_confusion(y_test, y_pred)\n",
    "plot_roc_curves(clf, X_test, y_test, X_train, y_train) # 9296"
   ]
  },
  {
   "cell_type": "markdown",
   "id": "7ede1af2",
   "metadata": {},
   "source": [
    "Obtenemos buenas métricas a nivel general y además la brecha entre el test y el train parece ser lógica por lo que entendemos no estariamos overfitteado. Probemos igualmente otro preprocesamiento para ver si obtenemos algo diferente"
   ]
  },
  {
   "cell_type": "markdown",
   "id": "052cda75",
   "metadata": {},
   "source": [
    "## Segundo preprocesamiento"
   ]
  },
  {
   "cell_type": "markdown",
   "id": "6c737624",
   "metadata": {},
   "source": [
    "Realizamos nuesttro nuevo preprocesado. En este caso se trata de una modificación mas leve a nuestras features en donde no agruparemos como lo hicimos en el primer preprocesado (por ejemplo en la educación). Además, tendremos en cuenta a la feature barrio, generalizando entre los residente en Palermo y los no residentes en Palermo. "
   ]
  },
  {
   "cell_type": "code",
   "execution_count": 10,
   "id": "5794b022",
   "metadata": {},
   "outputs": [
    {
     "name": "stdout",
     "output_type": "stream",
     "text": [
      "Aplicando 'conversion_numerica_generalizada' en las variables categóricas.\n"
     ]
    }
   ],
   "source": [
    "df, df_holdout = obtener_datasets()\n",
    "X_df, y_df = aplicar_preparacion_generalizado(df)\n",
    "X_df = conversion_numerica_generalizada(X_df)\n"
   ]
  },
  {
   "cell_type": "markdown",
   "id": "8b1dbc07",
   "metadata": {},
   "source": [
    "También, utilizaremos el algoritmo de RFECV para que seleccione solo las features que resultan más importantes al entrenar con un único árbol de decisión, tomando los hiperparámetros que habiamos encontrado como óptimos en el modelo *Árbol de decisión*\n",
    "\n",
    "Creemos que ésto podria llegar a favorecer a gradient boosting para que solo entrene con features que fueron útiles a partir de un primer árbol de decisión, aunque también podríamos perder información necesaria y por lo tanto más score porque esto termina tratándose de un **método de reducción de dimensionalidad**. Esto podria terminar siendo una posible ventaja a la hora de entrenar ya que seguramente bajaria el tiempo\n",
    "\n",
    "Otro punto a destacar es que el sesgo del modelo podría aumentar al ver solo features importantes de un único y primer árbol solo y podira aprovecharse la idea de éste modelo de ensamble 'boosting' donde un estimador le dice a otro en cual instancias se equivocó asignándoles un peso, dado que estaríamos quitándole features a estas instancias mal clasificadas el cual un estimador podría aprovechar clasificar mejor."
   ]
  },
  {
   "cell_type": "markdown",
   "id": "d8f79f91",
   "metadata": {},
   "source": [
    "Veamos más detalle de qué hace el algoritmo RFECV:"
   ]
  },
  {
   "cell_type": "code",
   "execution_count": 11,
   "id": "a91a8eea",
   "metadata": {},
   "outputs": [
    {
     "data": {
      "text/plain": [
       "<function preprocessing.reduccion_rfecv(clf, X_df, Y_df, min_features_to_select=1, n_jobs=-1, scoring='roc_auc', cv=5)>"
      ]
     },
     "execution_count": 11,
     "metadata": {},
     "output_type": "execute_result"
    }
   ],
   "source": [
    "reduccion_rfecv"
   ]
  },
  {
   "cell_type": "code",
   "execution_count": 12,
   "id": "22e874de",
   "metadata": {},
   "outputs": [
    {
     "data": {
      "text/plain": [
       "\u001b[0;31mSignature:\u001b[0m\n",
       "\u001b[0mreduccion_rfecv\u001b[0m\u001b[0;34m(\u001b[0m\u001b[0;34m\u001b[0m\n",
       "\u001b[0;34m\u001b[0m    \u001b[0mclf\u001b[0m\u001b[0;34m,\u001b[0m\u001b[0;34m\u001b[0m\n",
       "\u001b[0;34m\u001b[0m    \u001b[0mX_df\u001b[0m\u001b[0;34m,\u001b[0m\u001b[0;34m\u001b[0m\n",
       "\u001b[0;34m\u001b[0m    \u001b[0mY_df\u001b[0m\u001b[0;34m,\u001b[0m\u001b[0;34m\u001b[0m\n",
       "\u001b[0;34m\u001b[0m    \u001b[0mmin_features_to_select\u001b[0m\u001b[0;34m=\u001b[0m\u001b[0;36m1\u001b[0m\u001b[0;34m,\u001b[0m\u001b[0;34m\u001b[0m\n",
       "\u001b[0;34m\u001b[0m    \u001b[0mn_jobs\u001b[0m\u001b[0;34m=\u001b[0m\u001b[0;34m-\u001b[0m\u001b[0;36m1\u001b[0m\u001b[0;34m,\u001b[0m\u001b[0;34m\u001b[0m\n",
       "\u001b[0;34m\u001b[0m    \u001b[0mscoring\u001b[0m\u001b[0;34m=\u001b[0m\u001b[0;34m'roc_auc'\u001b[0m\u001b[0;34m,\u001b[0m\u001b[0;34m\u001b[0m\n",
       "\u001b[0;34m\u001b[0m    \u001b[0mcv\u001b[0m\u001b[0;34m=\u001b[0m\u001b[0;36m5\u001b[0m\u001b[0;34m,\u001b[0m\u001b[0;34m\u001b[0m\n",
       "\u001b[0;34m\u001b[0m\u001b[0;34m)\u001b[0m\u001b[0;34m\u001b[0m\u001b[0;34m\u001b[0m\u001b[0m\n",
       "\u001b[0;31mDocstring:\u001b[0m\n",
       "Es una técnica de selección de tipo embedded, encargándose de rankear variables según métodos internos de cada algoritmo.\n",
       "\n",
       "La idea principal de RFECV es igual a la del RFE. Es decir:\n",
       "\n",
       "1. Entrenar un modelo con un clasificador recibido ('clf')\n",
       "2. Obtener importancias a partir de un modelo.  \n",
       "3. Eliminar la/las variables menos importantes\n",
       "4. Repetir \n",
       "\n",
       "Esto se repite hasta que converga y mi modelo deje de mejorar. Un hiperparámetro importante de la implementación RFE \n",
       "en sklearn es la **cantidad de features a seleccionar** pero ese numero no suele conocerse.\n",
       "\n",
       "Para buscar el numero de optimo de features a seleccionar, el método de RFECV utiliza cross-validation (por eso el acrónimo RFECV: RFE-CV).\n",
       "Es decir, realiza la validación (sobre el conjunto validación 'Y_df' recibido aplicándole el clasificador 'clf') con cross-validation usando\n",
       "diferentes números de features en distintos folds, y seleccionando el mejor numero de features que mejor score ('score'='roc_auc' por default) nos de.\n",
       "\n",
       "Internamente se utiliza cross-validation de forma estratificada (StratifiedKFold) para mantener la proporción de clases (de 'Y_df') en cada fold.\n",
       "\n",
       "Parametros recibidos\n",
       "--------\n",
       "    * clf -> El clasificador que se utilizará para obtener las importancias de features y que se usará para validar diferentes scores con cross-validation.\n",
       "    * X_df -> El dataset a cual reducir la features, sin la feature de validación.\n",
       "    * Y_df -> La feature de validación utilizada para encontrar el número optimo de features según el scoring del clasificador recibido.\n",
       "    * min_features_to_select -> Mínimo de features a seleccionar, por default es 1.\n",
       "    * n_jobs -> Número de núcleos para correr en paralelo mientras se entrena cada fold de cross-validation, por default es -1 (todos los núcleos).\n",
       "    * scoring -> Un string indicando el tipo de métrica a utilizar para calcular el score vía cross-validation, por default es 'roc_auc'.\n",
       "    * cv -> Número que indica la cantidad de divisiones realizadas por cross-validation.\n",
       "\n",
       "Retorno\n",
       "--------\n",
       "    * X_reduced -> pd.DataFrame: retorna el dataset reducido con RFECV.\n",
       "\u001b[0;31mFile:\u001b[0m      ~/Escritorio/TP-FIUFIP-Organizacion-de-Datos/parte_2/preprocessing.py\n",
       "\u001b[0;31mType:\u001b[0m      function\n"
      ]
     },
     "metadata": {},
     "output_type": "display_data"
    }
   ],
   "source": [
    "reduccion_rfecv?"
   ]
  },
  {
   "cell_type": "markdown",
   "id": "f076d07a",
   "metadata": {},
   "source": [
    "Aplicamos RFECV"
   ]
  },
  {
   "cell_type": "code",
   "execution_count": 13,
   "id": "719edde4",
   "metadata": {},
   "outputs": [],
   "source": [
    "clf_2 = tree.DecisionTreeClassifier(random_state=10, criterion = 'gini', max_depth = 5, min_samples_leaf = 500)\n",
    "X_reducido = reduccion_rfecv(\n",
    "    clf = clf_2,\n",
    "    X_df = X_df,\n",
    "    Y_df = y_df,\n",
    "    min_features_to_select=20)"
   ]
  },
  {
   "cell_type": "code",
   "execution_count": 14,
   "id": "2c06ec44",
   "metadata": {},
   "outputs": [
    {
     "data": {
      "text/html": [
       "<div>\n",
       "<style scoped>\n",
       "    .dataframe tbody tr th:only-of-type {\n",
       "        vertical-align: middle;\n",
       "    }\n",
       "\n",
       "    .dataframe tbody tr th {\n",
       "        vertical-align: top;\n",
       "    }\n",
       "\n",
       "    .dataframe thead th {\n",
       "        text-align: right;\n",
       "    }\n",
       "</style>\n",
       "<table border=\"1\" class=\"dataframe\">\n",
       "  <thead>\n",
       "    <tr style=\"text-align: right;\">\n",
       "      <th></th>\n",
       "      <th>anios_estudiados</th>\n",
       "      <th>edad</th>\n",
       "      <th>educacion_alcanzada</th>\n",
       "      <th>suma_declarada_bolsa_argentina</th>\n",
       "      <th>horas_trabajo_registradas</th>\n",
       "      <th>genero_mujer</th>\n",
       "      <th>estado_marital_matrimonio_civil</th>\n",
       "      <th>estado_marital_matrimonio_militar</th>\n",
       "      <th>estado_marital_pareja_no_presente</th>\n",
       "      <th>estado_marital_separado_a</th>\n",
       "      <th>categoria_de_trabajo_sin_trabajo</th>\n",
       "      <th>categoria_de_trabajo_trabajo_voluntariado</th>\n",
       "      <th>religion_budismo</th>\n",
       "      <th>religion_cristianismo</th>\n",
       "      <th>religion_judaismo</th>\n",
       "      <th>religion_otro</th>\n",
       "      <th>rol_familiar_registrado_con_hijos</th>\n",
       "      <th>rol_familiar_registrado_otro</th>\n",
       "      <th>rol_familiar_registrado_sin_familia</th>\n",
       "      <th>rol_familiar_registrado_soltero_a</th>\n",
       "    </tr>\n",
       "  </thead>\n",
       "  <tbody>\n",
       "    <tr>\n",
       "      <th>0</th>\n",
       "      <td>17</td>\n",
       "      <td>39</td>\n",
       "      <td>13</td>\n",
       "      <td>2174</td>\n",
       "      <td>40</td>\n",
       "      <td>0</td>\n",
       "      <td>0</td>\n",
       "      <td>0</td>\n",
       "      <td>0</td>\n",
       "      <td>0</td>\n",
       "      <td>0</td>\n",
       "      <td>0</td>\n",
       "      <td>0</td>\n",
       "      <td>1</td>\n",
       "      <td>0</td>\n",
       "      <td>0</td>\n",
       "      <td>0</td>\n",
       "      <td>0</td>\n",
       "      <td>1</td>\n",
       "      <td>0</td>\n",
       "    </tr>\n",
       "    <tr>\n",
       "      <th>1</th>\n",
       "      <td>17</td>\n",
       "      <td>50</td>\n",
       "      <td>13</td>\n",
       "      <td>0</td>\n",
       "      <td>13</td>\n",
       "      <td>0</td>\n",
       "      <td>1</td>\n",
       "      <td>0</td>\n",
       "      <td>0</td>\n",
       "      <td>0</td>\n",
       "      <td>0</td>\n",
       "      <td>0</td>\n",
       "      <td>0</td>\n",
       "      <td>1</td>\n",
       "      <td>0</td>\n",
       "      <td>0</td>\n",
       "      <td>0</td>\n",
       "      <td>0</td>\n",
       "      <td>0</td>\n",
       "      <td>0</td>\n",
       "    </tr>\n",
       "    <tr>\n",
       "      <th>2</th>\n",
       "      <td>13</td>\n",
       "      <td>38</td>\n",
       "      <td>8</td>\n",
       "      <td>0</td>\n",
       "      <td>40</td>\n",
       "      <td>0</td>\n",
       "      <td>0</td>\n",
       "      <td>0</td>\n",
       "      <td>0</td>\n",
       "      <td>0</td>\n",
       "      <td>0</td>\n",
       "      <td>0</td>\n",
       "      <td>0</td>\n",
       "      <td>1</td>\n",
       "      <td>0</td>\n",
       "      <td>0</td>\n",
       "      <td>0</td>\n",
       "      <td>0</td>\n",
       "      <td>1</td>\n",
       "      <td>0</td>\n",
       "    </tr>\n",
       "    <tr>\n",
       "      <th>3</th>\n",
       "      <td>11</td>\n",
       "      <td>53</td>\n",
       "      <td>6</td>\n",
       "      <td>0</td>\n",
       "      <td>40</td>\n",
       "      <td>0</td>\n",
       "      <td>1</td>\n",
       "      <td>0</td>\n",
       "      <td>0</td>\n",
       "      <td>0</td>\n",
       "      <td>0</td>\n",
       "      <td>0</td>\n",
       "      <td>0</td>\n",
       "      <td>0</td>\n",
       "      <td>1</td>\n",
       "      <td>0</td>\n",
       "      <td>0</td>\n",
       "      <td>0</td>\n",
       "      <td>0</td>\n",
       "      <td>0</td>\n",
       "    </tr>\n",
       "    <tr>\n",
       "      <th>4</th>\n",
       "      <td>17</td>\n",
       "      <td>28</td>\n",
       "      <td>13</td>\n",
       "      <td>0</td>\n",
       "      <td>40</td>\n",
       "      <td>1</td>\n",
       "      <td>1</td>\n",
       "      <td>0</td>\n",
       "      <td>0</td>\n",
       "      <td>0</td>\n",
       "      <td>0</td>\n",
       "      <td>0</td>\n",
       "      <td>0</td>\n",
       "      <td>0</td>\n",
       "      <td>1</td>\n",
       "      <td>0</td>\n",
       "      <td>0</td>\n",
       "      <td>0</td>\n",
       "      <td>0</td>\n",
       "      <td>0</td>\n",
       "    </tr>\n",
       "    <tr>\n",
       "      <th>...</th>\n",
       "      <td>...</td>\n",
       "      <td>...</td>\n",
       "      <td>...</td>\n",
       "      <td>...</td>\n",
       "      <td>...</td>\n",
       "      <td>...</td>\n",
       "      <td>...</td>\n",
       "      <td>...</td>\n",
       "      <td>...</td>\n",
       "      <td>...</td>\n",
       "      <td>...</td>\n",
       "      <td>...</td>\n",
       "      <td>...</td>\n",
       "      <td>...</td>\n",
       "      <td>...</td>\n",
       "      <td>...</td>\n",
       "      <td>...</td>\n",
       "      <td>...</td>\n",
       "      <td>...</td>\n",
       "      <td>...</td>\n",
       "    </tr>\n",
       "    <tr>\n",
       "      <th>32556</th>\n",
       "      <td>16</td>\n",
       "      <td>27</td>\n",
       "      <td>12</td>\n",
       "      <td>0</td>\n",
       "      <td>38</td>\n",
       "      <td>1</td>\n",
       "      <td>1</td>\n",
       "      <td>0</td>\n",
       "      <td>0</td>\n",
       "      <td>0</td>\n",
       "      <td>0</td>\n",
       "      <td>0</td>\n",
       "      <td>0</td>\n",
       "      <td>1</td>\n",
       "      <td>0</td>\n",
       "      <td>0</td>\n",
       "      <td>0</td>\n",
       "      <td>0</td>\n",
       "      <td>0</td>\n",
       "      <td>0</td>\n",
       "    </tr>\n",
       "    <tr>\n",
       "      <th>32557</th>\n",
       "      <td>13</td>\n",
       "      <td>40</td>\n",
       "      <td>8</td>\n",
       "      <td>0</td>\n",
       "      <td>40</td>\n",
       "      <td>0</td>\n",
       "      <td>1</td>\n",
       "      <td>0</td>\n",
       "      <td>0</td>\n",
       "      <td>0</td>\n",
       "      <td>0</td>\n",
       "      <td>0</td>\n",
       "      <td>0</td>\n",
       "      <td>1</td>\n",
       "      <td>0</td>\n",
       "      <td>0</td>\n",
       "      <td>0</td>\n",
       "      <td>0</td>\n",
       "      <td>0</td>\n",
       "      <td>0</td>\n",
       "    </tr>\n",
       "    <tr>\n",
       "      <th>32558</th>\n",
       "      <td>13</td>\n",
       "      <td>58</td>\n",
       "      <td>8</td>\n",
       "      <td>0</td>\n",
       "      <td>40</td>\n",
       "      <td>1</td>\n",
       "      <td>0</td>\n",
       "      <td>0</td>\n",
       "      <td>0</td>\n",
       "      <td>0</td>\n",
       "      <td>0</td>\n",
       "      <td>0</td>\n",
       "      <td>0</td>\n",
       "      <td>1</td>\n",
       "      <td>0</td>\n",
       "      <td>0</td>\n",
       "      <td>0</td>\n",
       "      <td>0</td>\n",
       "      <td>0</td>\n",
       "      <td>1</td>\n",
       "    </tr>\n",
       "    <tr>\n",
       "      <th>32559</th>\n",
       "      <td>13</td>\n",
       "      <td>22</td>\n",
       "      <td>8</td>\n",
       "      <td>0</td>\n",
       "      <td>20</td>\n",
       "      <td>0</td>\n",
       "      <td>0</td>\n",
       "      <td>0</td>\n",
       "      <td>0</td>\n",
       "      <td>0</td>\n",
       "      <td>0</td>\n",
       "      <td>0</td>\n",
       "      <td>0</td>\n",
       "      <td>1</td>\n",
       "      <td>0</td>\n",
       "      <td>0</td>\n",
       "      <td>1</td>\n",
       "      <td>0</td>\n",
       "      <td>0</td>\n",
       "      <td>0</td>\n",
       "    </tr>\n",
       "    <tr>\n",
       "      <th>32560</th>\n",
       "      <td>13</td>\n",
       "      <td>52</td>\n",
       "      <td>8</td>\n",
       "      <td>15024</td>\n",
       "      <td>40</td>\n",
       "      <td>1</td>\n",
       "      <td>1</td>\n",
       "      <td>0</td>\n",
       "      <td>0</td>\n",
       "      <td>0</td>\n",
       "      <td>0</td>\n",
       "      <td>0</td>\n",
       "      <td>0</td>\n",
       "      <td>1</td>\n",
       "      <td>0</td>\n",
       "      <td>0</td>\n",
       "      <td>0</td>\n",
       "      <td>0</td>\n",
       "      <td>0</td>\n",
       "      <td>0</td>\n",
       "    </tr>\n",
       "  </tbody>\n",
       "</table>\n",
       "<p>32561 rows × 20 columns</p>\n",
       "</div>"
      ],
      "text/plain": [
       "       anios_estudiados  edad  educacion_alcanzada  \\\n",
       "0                    17    39                   13   \n",
       "1                    17    50                   13   \n",
       "2                    13    38                    8   \n",
       "3                    11    53                    6   \n",
       "4                    17    28                   13   \n",
       "...                 ...   ...                  ...   \n",
       "32556                16    27                   12   \n",
       "32557                13    40                    8   \n",
       "32558                13    58                    8   \n",
       "32559                13    22                    8   \n",
       "32560                13    52                    8   \n",
       "\n",
       "       suma_declarada_bolsa_argentina  horas_trabajo_registradas  \\\n",
       "0                                2174                         40   \n",
       "1                                   0                         13   \n",
       "2                                   0                         40   \n",
       "3                                   0                         40   \n",
       "4                                   0                         40   \n",
       "...                               ...                        ...   \n",
       "32556                               0                         38   \n",
       "32557                               0                         40   \n",
       "32558                               0                         40   \n",
       "32559                               0                         20   \n",
       "32560                           15024                         40   \n",
       "\n",
       "       genero_mujer  estado_marital_matrimonio_civil  \\\n",
       "0                 0                                0   \n",
       "1                 0                                1   \n",
       "2                 0                                0   \n",
       "3                 0                                1   \n",
       "4                 1                                1   \n",
       "...             ...                              ...   \n",
       "32556             1                                1   \n",
       "32557             0                                1   \n",
       "32558             1                                0   \n",
       "32559             0                                0   \n",
       "32560             1                                1   \n",
       "\n",
       "       estado_marital_matrimonio_militar  estado_marital_pareja_no_presente  \\\n",
       "0                                      0                                  0   \n",
       "1                                      0                                  0   \n",
       "2                                      0                                  0   \n",
       "3                                      0                                  0   \n",
       "4                                      0                                  0   \n",
       "...                                  ...                                ...   \n",
       "32556                                  0                                  0   \n",
       "32557                                  0                                  0   \n",
       "32558                                  0                                  0   \n",
       "32559                                  0                                  0   \n",
       "32560                                  0                                  0   \n",
       "\n",
       "       estado_marital_separado_a  categoria_de_trabajo_sin_trabajo  \\\n",
       "0                              0                                 0   \n",
       "1                              0                                 0   \n",
       "2                              0                                 0   \n",
       "3                              0                                 0   \n",
       "4                              0                                 0   \n",
       "...                          ...                               ...   \n",
       "32556                          0                                 0   \n",
       "32557                          0                                 0   \n",
       "32558                          0                                 0   \n",
       "32559                          0                                 0   \n",
       "32560                          0                                 0   \n",
       "\n",
       "       categoria_de_trabajo_trabajo_voluntariado  religion_budismo  \\\n",
       "0                                              0                 0   \n",
       "1                                              0                 0   \n",
       "2                                              0                 0   \n",
       "3                                              0                 0   \n",
       "4                                              0                 0   \n",
       "...                                          ...               ...   \n",
       "32556                                          0                 0   \n",
       "32557                                          0                 0   \n",
       "32558                                          0                 0   \n",
       "32559                                          0                 0   \n",
       "32560                                          0                 0   \n",
       "\n",
       "       religion_cristianismo  religion_judaismo  religion_otro  \\\n",
       "0                          1                  0              0   \n",
       "1                          1                  0              0   \n",
       "2                          1                  0              0   \n",
       "3                          0                  1              0   \n",
       "4                          0                  1              0   \n",
       "...                      ...                ...            ...   \n",
       "32556                      1                  0              0   \n",
       "32557                      1                  0              0   \n",
       "32558                      1                  0              0   \n",
       "32559                      1                  0              0   \n",
       "32560                      1                  0              0   \n",
       "\n",
       "       rol_familiar_registrado_con_hijos  rol_familiar_registrado_otro  \\\n",
       "0                                      0                             0   \n",
       "1                                      0                             0   \n",
       "2                                      0                             0   \n",
       "3                                      0                             0   \n",
       "4                                      0                             0   \n",
       "...                                  ...                           ...   \n",
       "32556                                  0                             0   \n",
       "32557                                  0                             0   \n",
       "32558                                  0                             0   \n",
       "32559                                  1                             0   \n",
       "32560                                  0                             0   \n",
       "\n",
       "       rol_familiar_registrado_sin_familia  rol_familiar_registrado_soltero_a  \n",
       "0                                        1                                  0  \n",
       "1                                        0                                  0  \n",
       "2                                        1                                  0  \n",
       "3                                        0                                  0  \n",
       "4                                        0                                  0  \n",
       "...                                    ...                                ...  \n",
       "32556                                    0                                  0  \n",
       "32557                                    0                                  0  \n",
       "32558                                    0                                  1  \n",
       "32559                                    0                                  0  \n",
       "32560                                    0                                  0  \n",
       "\n",
       "[32561 rows x 20 columns]"
      ]
     },
     "execution_count": 14,
     "metadata": {},
     "output_type": "execute_result"
    }
   ],
   "source": [
    "X_reducido"
   ]
  },
  {
   "cell_type": "markdown",
   "id": "bc765999",
   "metadata": {},
   "source": [
    "Realizamos nuevamente el split"
   ]
  },
  {
   "cell_type": "code",
   "execution_count": 15,
   "id": "24f86acf",
   "metadata": {},
   "outputs": [],
   "source": [
    "X_train, X_test, y_train, y_test = train_test_split(X_reducido, y_df, random_state=10, test_size=0.20, stratify=y_df)"
   ]
  },
  {
   "cell_type": "markdown",
   "id": "981afbb5",
   "metadata": {},
   "source": [
    "### Entrenamiento"
   ]
  },
  {
   "cell_type": "markdown",
   "id": "c1667e1b",
   "metadata": {},
   "source": [
    "Volvemos a realizar un entrenamiento con 5 folds, utilizando las mismas librerias y funciones utilizadas anteriormente"
   ]
  },
  {
   "cell_type": "code",
   "execution_count": 16,
   "id": "692cc658",
   "metadata": {},
   "outputs": [],
   "source": [
    "cv = StratifiedKFold(n_splits=5,random_state=10, shuffle=True).split(X_train, y_train)\n",
    "clf_2 = GradientBoostingClassifier(random_state=10)\n",
    "params = {\"max_depth\":np.arange(3,8),\"min_samples_leaf\":np.arange(50,150,20),\"n_estimators\":np.arange(50,350,50)}\n",
    "clf_2 = GridSearchCV(clf_2, params, scoring='roc_auc', cv=cv, n_jobs = -1)\n"
   ]
  },
  {
   "cell_type": "markdown",
   "id": "ab05cc18",
   "metadata": {},
   "source": [
    "Entrenamos nuestro modelo"
   ]
  },
  {
   "cell_type": "code",
   "execution_count": 17,
   "id": "4fa222a6",
   "metadata": {},
   "outputs": [
    {
     "data": {
      "text/plain": [
       "GridSearchCV(cv=<generator object _BaseKFold.split at 0x7f51b1df8e40>,\n",
       "             estimator=GradientBoostingClassifier(random_state=10), n_jobs=-1,\n",
       "             param_grid={'max_depth': array([3, 4, 5, 6, 7]),\n",
       "                         'min_samples_leaf': array([ 50,  70,  90, 110, 130]),\n",
       "                         'n_estimators': array([ 50, 100, 150, 200, 250, 300])},\n",
       "             scoring='roc_auc')"
      ]
     },
     "execution_count": 17,
     "metadata": {},
     "output_type": "execute_result"
    }
   ],
   "source": [
    "clf_2.fit(X_train, y_train)"
   ]
  },
  {
   "cell_type": "markdown",
   "id": "c7cc5a4d",
   "metadata": {},
   "source": [
    "De nuevo, graficamos pérdida en función de estimadores"
   ]
  },
  {
   "cell_type": "code",
   "execution_count": 7,
   "id": "2f3e9b3b",
   "metadata": {},
   "outputs": [
    {
     "data": {
      "text/plain": [
       "Text(0, 0.5, 'Perdida')"
      ]
     },
     "execution_count": 7,
     "metadata": {},
     "output_type": "execute_result"
    },
    {
     "data": {
      "image/png": "[encoded data removed]",
      "text/plain": [
       "<Figure size 750x500 with 1 Axes>"
      ]
     },
     "metadata": {
      "needs_background": "light"
     },
     "output_type": "display_data"
    }
   ],
   "source": [
    "best = clf_2.best_estimator_\n",
    "score_estimadores = best.train_score_\n",
    "plt.figure(dpi=125)\n",
    "plt.plot(score_estimadores)\n",
    "plt.xlabel(\"Cantidad de estimadores\")\n",
    "plt.ylabel(\"Deviance\")"
   ]
  },
  {
   "cell_type": "markdown",
   "id": "ffbb68e3",
   "metadata": {},
   "source": [
    "Y observamos un comportamiento similar al caso anterior"
   ]
  },
  {
   "cell_type": "markdown",
   "id": "52c7f942",
   "metadata": {},
   "source": [
    "Realizamos nuestras predicciones para una análisis más amplio"
   ]
  },
  {
   "cell_type": "code",
   "execution_count": 18,
   "id": "2e4abfe2",
   "metadata": {},
   "outputs": [],
   "source": [
    "y_pred = clf_2.predict(X_test)"
   ]
  },
  {
   "cell_type": "markdown",
   "id": "032f0a1d",
   "metadata": {},
   "source": [
    "### Metricas"
   ]
  },
  {
   "cell_type": "code",
   "execution_count": 19,
   "id": "a169c01a",
   "metadata": {},
   "outputs": [
    {
     "name": "stdout",
     "output_type": "stream",
     "text": [
      "AUC-ROC score sobre test:  0.9220030024143127\n",
      "AUC-ROC score sobre train:  0.9301482100862505\n",
      "Accuracy sobre test:  0.8661139259941655\n",
      "Accuracy sobre train:  0.8713528869778869\n",
      "              precision    recall  f1-score   support\n",
      "\n",
      "  Bajo valor       0.89      0.94      0.91      4945\n",
      "  Alto valor       0.76      0.65      0.70      1568\n",
      "\n",
      "    accuracy                           0.87      6513\n",
      "   macro avg       0.83      0.79      0.81      6513\n",
      "weighted avg       0.86      0.87      0.86      6513\n",
      "\n",
      "Los mejores hiperpametros elegidos:  {'max_depth': 4, 'min_samples_leaf': 50, 'n_estimators': 300}\n"
     ]
    },
    {
     "data": {
      "image/png": "[encoded data removed]",
      "text/plain": [
       "<Figure size 660x440 with 2 Axes>"
      ]
     },
     "metadata": {
      "needs_background": "light"
     },
     "output_type": "display_data"
    },
    {
     "data": {
      "image/png": "[encoded data removed]",
      "text/plain": [
       "<Figure size 660x440 with 1 Axes>"
      ]
     },
     "metadata": {
      "needs_background": "light"
     },
     "output_type": "display_data"
    }
   ],
   "source": [
    "print(\"AUC-ROC score sobre test: \", \"%0.16f\"  % roc_auc_score(y_test, clf_2.predict_proba(X_test)[:, 1]))\n",
    "print(\"AUC-ROC score sobre train: \", \"%0.16f\"  % roc_auc_score(y_train, clf_2.predict_proba(X_train)[:, 1]))\n",
    "print(\"Accuracy sobre test: \", \"%0.16f\"  % accuracy_score(y_pred, y_test))\n",
    "print(\"Accuracy sobre train: \", \"%0.16f\"  % accuracy_score(clf_2.predict(X_train), y_train))\n",
    "print(classification_report(y_test, y_pred, target_names=[\"Bajo valor\", \"Alto valor\"]))\n",
    "print(\"Los mejores hiperpametros elegidos: \", clf_2.best_params_)\n",
    "graficar_matriz_confusion(y_test, y_pred)\n",
    "plot_roc_curves(clf_2, X_test, y_test, X_train, y_train)"
   ]
  },
  {
   "cell_type": "markdown",
   "id": "c822fe03",
   "metadata": {},
   "source": [
    "Se redujo la brecha entre el test y train y además mejoro levemente el recall para la clase de altos ingresos. Para finalizar pasamos a testear en el holdout"
   ]
  },
  {
   "cell_type": "markdown",
   "id": "9b459d10",
   "metadata": {},
   "source": [
    "## Holdouts"
   ]
  },
  {
   "cell_type": "markdown",
   "id": "1fcbfb9e",
   "metadata": {},
   "source": [
    "Realizamos los testeos requeridos en el holdout. Como el primer preprocesamiento dio levemente mejor la métrica AUC-ROC para el test, utilizamos el primer modelo"
   ]
  },
  {
   "cell_type": "code",
   "execution_count": 20,
   "id": "8ceda27e",
   "metadata": {},
   "outputs": [],
   "source": [
    "from preprocessing import aplicar_preparacion_holdout\n",
    "X_holdout = aplicar_preparacion_holdout(df_for_prediction, generalizada=False)"
   ]
  },
  {
   "cell_type": "markdown",
   "id": "f4772cb8",
   "metadata": {},
   "source": [
    "Apliquemos el procesado con el que obtuvimos el mejor score AUC-ROC:"
   ]
  },
  {
   "cell_type": "code",
   "execution_count": 21,
   "id": "ca226b32",
   "metadata": {},
   "outputs": [
    {
     "name": "stdout",
     "output_type": "stream",
     "text": [
      "Aplicando 'conversion_numerica' en las variables categóricas.\n"
     ]
    }
   ],
   "source": [
    "X_holdout_numerico = conversion_numerica(X_holdout) "
   ]
  },
  {
   "cell_type": "markdown",
   "id": "8619674d",
   "metadata": {},
   "source": [
    "Hagamos **.predict()** sobre este holdout para luego agregarlo como nueva columna en este dataset para así exportar el **.csv** con facilidad mediante Pandas. "
   ]
  },
  {
   "cell_type": "code",
   "execution_count": 22,
   "id": "f57eaf11",
   "metadata": {},
   "outputs": [],
   "source": [
    "y_pred_holdout = clf.predict(X_holdout_numerico)\n",
    "X_holdout['tiene_alto_valor_adquisitivo'] = y_pred_holdout"
   ]
  },
  {
   "cell_type": "code",
   "execution_count": 23,
   "id": "89c0b648",
   "metadata": {},
   "outputs": [],
   "source": [
    "name_model = '#6 - Boosting'\n",
    "\n",
    "if X_holdout.index[0] == 0:\n",
    "    X_holdout.index += 1 \n",
    "X_holdout['tiene_alto_valor_adquisitivo'].to_csv('predicciones/' + name_model + '.csv', index=True, index_label = 'id')"
   ]
  }
 ],
 "metadata": {
  "kernelspec": {
   "display_name": "Python 3",
   "language": "python",
   "name": "python3"
  },
  "language_info": {
   "codemirror_mode": {
    "name": "ipython",
    "version": 3
   },
   "file_extension": ".py",
   "mimetype": "text/x-python",
   "name": "python",
   "nbconvert_exporter": "python",
   "pygments_lexer": "ipython3",
   "version": "3.8.10"
  }
 },
 "nbformat": 4,
 "nbformat_minor": 5
}
