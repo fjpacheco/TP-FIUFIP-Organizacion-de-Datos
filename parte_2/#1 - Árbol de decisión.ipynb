{
 "cells": [
  {
   "cell_type": "code",
   "execution_count": 1,
   "metadata": {},
   "outputs": [],
   "source": [
    "import numpy as np\n",
    "import pandas as pd\n",
    "import matplotlib.pyplot as plt\n",
    "from sklearn import preprocessing, tree\n",
    "from sklearn.model_selection import GridSearchCV\n",
    "from sklearn.model_selection import train_test_split\n",
    "from sklearn.model_selection import StratifiedKFold\n",
    "from sklearn.metrics import accuracy_score, roc_auc_score\n",
    "from sklearn.metrics import classification_report"
   ]
  },
  {
   "cell_type": "markdown",
   "metadata": {},
   "source": [
    "# Modelo: Árbol de Decisión\n",
    "\n",
    "https://scikit-learn.org/stable/modules/tree.html"
   ]
  },
  {
   "cell_type": "markdown",
   "metadata": {},
   "source": [
    "En este notebook entrenaremos el modelo de **Arbol de Decisión**, un primer modelo simple que se caracteriza por tener un criterio de decisión similar al de un humano. El objetivo es ir formando un arbol en diferentes nodos repartiendo las instancias segun los feature de nuestro dataset. El hecho de escoger el mejor feature para repartir las instancias se realizaba bajo dos diferentes criterios: Impureza de Gini ó Entropía.\n",
    "\n",
    "En el entrenamiento de este modelo, se pasará a tener en cuenta los siguientes hiperparametros:\n",
    "\n",
    "* criterion: es aquel criterio que comentamos de Gini o de Entropía. Probaremos los 2 en la busqueda del mejor hiperparametro.\n",
    "* min_samples_leaf: corresponde a la canitdad de instancias minimas que puede almacenar un nodo hoja.\n",
    "* max_depth: la profondida maxima que puede agarrar nuestro arbol formado\n",
    "\n",
    "Los ultimos 2 hiperparaemtros son demasiados importantes. \n",
    "\n",
    "No dejaremos que nuestro algoritmo particione demasiado, pues si nuestro arbol tiene muchisima profundida corresmos el riesgo de tener muchas ramas de nuestro arbol, por ende nos podria ocurrir el inconveniente de memorizar demasiado nuestro dataset logrando tener overfitting. En cambio, si mantenemos una maxima profundida muy chica de 1 o 2, corresmo el riesgo de tener un modelo demasiado general, es decir el sinonimo de alto sesgo: solo nos centraremos en muy pocos atributos, ignorando muchisimos otros. \n",
    "\n",
    "En conclusión, nos aparece el inconveniente trade-off Sesgo vs Varianza.\n",
    "\n",
    "Para esto, limitaremos la profundida maxima de 3 a 8 en todos los casos, como tambien los min samples de ???? a ?????."
   ]
  },
  {
   "cell_type": "markdown",
   "metadata": {},
   "source": [
    "# Importación de librerias y datasets"
   ]
  },
  {
   "cell_type": "markdown",
   "metadata": {},
   "source": [
    "Segun nuestro preprocessing.py desarollado e investigado, importaremos inicialmente la primera función necesaria para trabajar:"
   ]
  },
  {
   "cell_type": "code",
   "execution_count": 2,
   "metadata": {},
   "outputs": [],
   "source": [
    "from preprocessing import obtener_datasets"
   ]
  },
  {
   "cell_type": "markdown",
   "metadata": {},
   "source": [
    "Obtendremos nuestro 2 datasets.\n",
    "* df: el que usaremos para entrenar\n",
    "* df_for_prediction: el que usaremos a final de todo como *holdout* para predecir. "
   ]
  },
  {
   "cell_type": "code",
   "execution_count": 3,
   "metadata": {},
   "outputs": [],
   "source": [
    "df, df_for_prediction = obtener_datasets()"
   ]
  },
  {
   "cell_type": "markdown",
   "metadata": {},
   "source": [
    "Además para varios preproceasmientos que probaremos usaremos esta funcion que nos calcula el AUC-ROC para test y train, como tambien nos imprime los mejores hiperparametros elegidos."
   ]
  },
  {
   "cell_type": "markdown",
   "metadata": {},
   "source": [
    "# Primer Preprocesamiento: conversion_numerica()"
   ]
  },
  {
   "cell_type": "markdown",
   "metadata": {},
   "source": [
    "Como primer preprocesameitno simple primero realizaremos una preparación acorde al Análisis Exploratorio realizado en la parte 1 de este trabajo práctico, además al llamar a esta función nos devuelve el el set de entrenameinto 'X' como el set de validación 'y' de nuestra variable target a predecir (alto_valor_adquisitivo). Esta función está dentro de nuestro preproecssing.py, la importamos y aplicamos."
   ]
  },
  {
   "cell_type": "code",
   "execution_count": 4,
   "metadata": {},
   "outputs": [],
   "source": [
    "from preprocessing import aplicar_preparacion"
   ]
  },
  {
   "cell_type": "code",
   "execution_count": 5,
   "metadata": {},
   "outputs": [
    {
     "data": {
      "text/plain": [
       "(32561, 11)"
      ]
     },
     "execution_count": 5,
     "metadata": {},
     "output_type": "execute_result"
    }
   ],
   "source": [
    "X_df, y_df = aplicar_preparacion(df)\n",
    "X_df.shape"
   ]
  },
  {
   "cell_type": "markdown",
   "metadata": {},
   "source": [
    "Además haremos una conversión numérica debido a que en sklearn los arboles no trabajan con variables categoricas. A las categoricas con nocion de orden se le asigna su numero correpsondiente con OrdinalEncoder y las de sin orden se convierte en nuevas feature binarias con OneHotEncding. Este prepreorcesamiento lo aplicamos con la función de 'conversion_numerica()' importada"
   ]
  },
  {
   "cell_type": "code",
   "execution_count": 6,
   "metadata": {},
   "outputs": [],
   "source": [
    "from preprocessing import conversion_numerica"
   ]
  },
  {
   "cell_type": "code",
   "execution_count": 7,
   "metadata": {},
   "outputs": [
    {
     "name": "stdout",
     "output_type": "stream",
     "text": [
      "Aplicando 'conversion_numerica' en las variables categóricas.\n"
     ]
    },
    {
     "data": {
      "text/plain": [
       "(32561, 40)"
      ]
     },
     "execution_count": 7,
     "metadata": {},
     "output_type": "execute_result"
    }
   ],
   "source": [
    "X_df_numerico = conversion_numerica(X_df) \n",
    "X_df_numerico.shape"
   ]
  },
  {
   "cell_type": "markdown",
   "metadata": {},
   "source": [
    "Quedandonos 40 features de las 11 posibles que teniamos."
   ]
  },
  {
   "cell_type": "markdown",
   "metadata": {},
   "source": [
    "Dividimos nuestro dataset en train y test antes de empezar a entrenar nuestro árbol de decisión el cual usaremos train para entrenar y luego con test para validar nuestro entrenamiento.\n",
    "\n",
    "En esta división la tenemos en cuenta según el **straify**: es decir, estamos indicandole de dividr el dataset en proporciones iguales en cuanto a la clase a predecir. "
   ]
  },
  {
   "cell_type": "code",
   "execution_count": 8,
   "metadata": {},
   "outputs": [],
   "source": [
    "X_train, X_test, y_train, y_test = train_test_split(X_df_numerico, y_df, random_state=10, test_size=0.20, stratify=y_df)"
   ]
  },
  {
   "cell_type": "markdown",
   "metadata": {},
   "source": [
    "Utilizaremos GridSearchCV para la busqueda de hiperparametros, además buscando mejorar la metrica solciita de **auc-roc**. También, con GridSearchCV nos permite realizar cross-validation, por ende también lo aplicaremos pero de manera **Stratified** por las mismas razones mencioandas en el split de train y test."
   ]
  },
  {
   "cell_type": "markdown",
   "metadata": {},
   "source": [
    "Los hiperparametros por el que buscará GridSearchCV serán los siguientes:"
   ]
  },
  {
   "cell_type": "code",
   "execution_count": 9,
   "metadata": {},
   "outputs": [],
   "source": [
    "params = {\n",
    "    'max_depth': np.arange(3, 8),\n",
    "    'min_samples_leaf': np.arange(50, 100, 1),\n",
    "    \"criterion\": [\"gini\", \"entropy\"],\n",
    "}"
   ]
  },
  {
   "cell_type": "markdown",
   "metadata": {},
   "source": [
    "Definimos el modelo clasificador (clf) del Árbol de Decisión con el StratifiedKFold para cross-validation mencionado. Esto esto lo meteremos en la \"licuadora\" de GridSearchCV:"
   ]
  },
  {
   "cell_type": "code",
   "execution_count": 10,
   "metadata": {},
   "outputs": [],
   "source": [
    "clf = tree.DecisionTreeClassifier(random_state=10)\n",
    "cv_e = StratifiedKFold(n_splits=5, random_state=10, shuffle=True).split(X_train, y_train)\n",
    "clf = GridSearchCV(clf, params, scoring='roc_auc', cv=cv_e, n_jobs = -1, verbose=True)"
   ]
  },
  {
   "cell_type": "markdown",
   "metadata": {},
   "source": [
    "Entrenaremos y predizcamos con el X_test con el que dividimos anteriormente."
   ]
  },
  {
   "cell_type": "code",
   "execution_count": 11,
   "metadata": {},
   "outputs": [
    {
     "name": "stdout",
     "output_type": "stream",
     "text": [
      "Fitting 5 folds for each of 500 candidates, totalling 2500 fits\n"
     ]
    },
    {
     "name": "stderr",
     "output_type": "stream",
     "text": [
      "[Parallel(n_jobs=-1)]: Using backend LokyBackend with 4 concurrent workers.\n",
      "[Parallel(n_jobs=-1)]: Done  48 tasks      | elapsed:    2.7s\n",
      "[Parallel(n_jobs=-1)]: Done 348 tasks      | elapsed:   10.4s\n",
      "[Parallel(n_jobs=-1)]: Done 848 tasks      | elapsed:   26.2s\n",
      "[Parallel(n_jobs=-1)]: Done 1548 tasks      | elapsed:   49.6s\n",
      "[Parallel(n_jobs=-1)]: Done 2448 tasks      | elapsed:  1.3min\n",
      "[Parallel(n_jobs=-1)]: Done 2500 out of 2500 | elapsed:  1.4min finished\n"
     ]
    }
   ],
   "source": [
    "clf.fit(X_train, y_train)\n",
    "y_pred = clf.predict(X_test)"
   ]
  },
  {
   "cell_type": "code",
   "execution_count": 12,
   "metadata": {},
   "outputs": [
    {
     "name": "stdout",
     "output_type": "stream",
     "text": [
      "AUC-ROC score sobre test:  0.9013640478941830\n",
      "AUC-ROC score sobre train:  0.9076413130904566\n",
      "Accuracy sobre test:  0.8562874251497006\n",
      "Los mejores hiperpametros elegidos:  {'criterion': 'gini', 'max_depth': 7, 'min_samples_leaf': 50}\n"
     ]
    }
   ],
   "source": [
    "print(\"AUC-ROC score sobre test: \", \"%0.16f\"  % roc_auc_score(y_test, clf.predict_proba(X_test)[:, 1]))\n",
    "print(\"AUC-ROC score sobre train: \", \"%0.16f\"  % roc_auc_score(y_train, clf.predict_proba(X_train)[:, 1]))\n",
    "print(\"Accuracy sobre test: \", \"%0.16f\"  % accuracy_score(y_pred, y_test))\n",
    "print(\"Los mejores hiperpametros elegidos: \", clf.best_params_)"
   ]
  },
  {
   "cell_type": "markdown",
   "metadata": {},
   "source": [
    "0.9013 de AUC-ROC sobre el set de test, nada mal. Veamos diferentes métricas más:"
   ]
  },
  {
   "cell_type": "code",
   "execution_count": 13,
   "metadata": {},
   "outputs": [
    {
     "name": "stdout",
     "output_type": "stream",
     "text": [
      "              precision    recall  f1-score   support\n",
      "\n",
      "  Bajo valor       0.87      0.96      0.91      4945\n",
      "  Alto valor       0.79      0.54      0.65      1568\n",
      "\n",
      "    accuracy                           0.86      6513\n",
      "   macro avg       0.83      0.75      0.78      6513\n",
      "weighted avg       0.85      0.86      0.85      6513\n",
      "\n"
     ]
    }
   ],
   "source": [
    "print(classification_report(y_test, y_pred, target_names=[\"Bajo valor\", \"Alto valor\"]))"
   ]
  },
  {
   "cell_type": "markdown",
   "metadata": {},
   "source": [
    "Vemos una sutileza con al precisión de alto valor. Esto además lo podemos comprobar con la matriz de confusión que construimos como función adicional en nuestro preprocessing.py, primero la improtamos y luego graficamos"
   ]
  },
  {
   "cell_type": "code",
   "execution_count": 14,
   "metadata": {},
   "outputs": [
    {
     "data": {
      "image/png": "[encoded data removed]",
      "text/plain": [
       "<Figure size 660x440 with 2 Axes>"
      ]
     },
     "metadata": {
      "needs_background": "light"
     },
     "output_type": "display_data"
    }
   ],
   "source": [
    "from preprocessing import graficar_matriz_confusion\n",
    "graficar_matriz_confusion(y_test, y_pred)"
   ]
  },
  {
   "cell_type": "markdown",
   "metadata": {},
   "source": [
    "Es decir, le cuesta predecir a los alto valor. Esto se nota con la baja precisión del modelo y en la diagonal de la matriz de confusión"
   ]
  },
  {
   "cell_type": "markdown",
   "metadata": {},
   "source": [
    "Pero a grandes rasgos, tenemos un buen modelo que no overfittea y que no es ni tan general, mostremos su curva ROC mediante una función auxiliar tambien disponible en nuestro preprocessing.py"
   ]
  },
  {
   "cell_type": "code",
   "execution_count": 15,
   "metadata": {},
   "outputs": [
    {
     "data": {
      "image/png": "[encoded data removed]",
      "text/plain": [
       "<Figure size 660x440 with 1 Axes>"
      ]
     },
     "metadata": {
      "needs_background": "light"
     },
     "output_type": "display_data"
    }
   ],
   "source": [
    "from preprocessing import plot_roc_curves\n",
    "plot_roc_curves(clf, X_train, y_train, X_train, y_train)"
   ]
  },
  {
   "cell_type": "markdown",
   "metadata": {},
   "source": [
    "Logrando con esto un muy buen AUC-ROC pero peor precisión para los de alto valor. Veamos si con otros preprocesamientos esto puede ir mejorando aunque nos enfocaremos en seguir obteniendo el mejor AUC-ROC. \n",
    "\n",
    "La forma de entrenar, predecir y graficar resultados para los proximos preprocesamietnos será de la misma forma descripta en este primer preprocesamiento, no daremos tantos detalles tal como hicimos en este primer preprocesameinto."
   ]
  },
  {
   "cell_type": "markdown",
   "metadata": {},
   "source": [
    "# Segundo Preprocesamiento: get_dataframe_polynomial()"
   ]
  },
  {
   "cell_type": "markdown",
   "metadata": {},
   "source": [
    "Para este caso, buscaremos realizar una expansión del dataset mediante PolynomialFeatures. Ésto solo se aplicará para las 4 columnas numéricas que tenemos en nuestro dataset inicial:"
   ]
  },
  {
   "cell_type": "code",
   "execution_count": 16,
   "metadata": {},
   "outputs": [
    {
     "data": {
      "text/html": [
       "<div>\n",
       "<style scoped>\n",
       "    .dataframe tbody tr th:only-of-type {\n",
       "        vertical-align: middle;\n",
       "    }\n",
       "\n",
       "    .dataframe tbody tr th {\n",
       "        vertical-align: top;\n",
       "    }\n",
       "\n",
       "    .dataframe thead th {\n",
       "        text-align: right;\n",
       "    }\n",
       "</style>\n",
       "<table border=\"1\" class=\"dataframe\">\n",
       "  <thead>\n",
       "    <tr style=\"text-align: right;\">\n",
       "      <th></th>\n",
       "      <th>anios_estudiados</th>\n",
       "      <th>edad</th>\n",
       "      <th>suma_declarada_bolsa_argentina</th>\n",
       "      <th>horas_trabajo_registradas</th>\n",
       "    </tr>\n",
       "  </thead>\n",
       "  <tbody>\n",
       "    <tr>\n",
       "      <th>count</th>\n",
       "      <td>32561.000000</td>\n",
       "      <td>32561.000000</td>\n",
       "      <td>32561.000000</td>\n",
       "      <td>32561.000000</td>\n",
       "    </tr>\n",
       "    <tr>\n",
       "      <th>mean</th>\n",
       "      <td>14.053868</td>\n",
       "      <td>38.581647</td>\n",
       "      <td>990.345014</td>\n",
       "      <td>40.437456</td>\n",
       "    </tr>\n",
       "    <tr>\n",
       "      <th>std</th>\n",
       "      <td>2.664488</td>\n",
       "      <td>13.640433</td>\n",
       "      <td>7408.986951</td>\n",
       "      <td>12.347429</td>\n",
       "    </tr>\n",
       "    <tr>\n",
       "      <th>min</th>\n",
       "      <td>1.000000</td>\n",
       "      <td>17.000000</td>\n",
       "      <td>-4356.000000</td>\n",
       "      <td>1.000000</td>\n",
       "    </tr>\n",
       "    <tr>\n",
       "      <th>25%</th>\n",
       "      <td>13.000000</td>\n",
       "      <td>28.000000</td>\n",
       "      <td>0.000000</td>\n",
       "      <td>40.000000</td>\n",
       "    </tr>\n",
       "    <tr>\n",
       "      <th>50%</th>\n",
       "      <td>14.000000</td>\n",
       "      <td>37.000000</td>\n",
       "      <td>0.000000</td>\n",
       "      <td>40.000000</td>\n",
       "    </tr>\n",
       "    <tr>\n",
       "      <th>75%</th>\n",
       "      <td>16.000000</td>\n",
       "      <td>48.000000</td>\n",
       "      <td>0.000000</td>\n",
       "      <td>45.000000</td>\n",
       "    </tr>\n",
       "    <tr>\n",
       "      <th>max</th>\n",
       "      <td>20.000000</td>\n",
       "      <td>90.000000</td>\n",
       "      <td>99999.000000</td>\n",
       "      <td>99.000000</td>\n",
       "    </tr>\n",
       "  </tbody>\n",
       "</table>\n",
       "</div>"
      ],
      "text/plain": [
       "       anios_estudiados          edad  suma_declarada_bolsa_argentina  \\\n",
       "count      32561.000000  32561.000000                    32561.000000   \n",
       "mean          14.053868     38.581647                      990.345014   \n",
       "std            2.664488     13.640433                     7408.986951   \n",
       "min            1.000000     17.000000                    -4356.000000   \n",
       "25%           13.000000     28.000000                        0.000000   \n",
       "50%           14.000000     37.000000                        0.000000   \n",
       "75%           16.000000     48.000000                        0.000000   \n",
       "max           20.000000     90.000000                    99999.000000   \n",
       "\n",
       "       horas_trabajo_registradas  \n",
       "count               32561.000000  \n",
       "mean                   40.437456  \n",
       "std                    12.347429  \n",
       "min                     1.000000  \n",
       "25%                    40.000000  \n",
       "50%                    40.000000  \n",
       "75%                    45.000000  \n",
       "max                    99.000000  "
      ]
     },
     "execution_count": 16,
     "metadata": {},
     "output_type": "execute_result"
    }
   ],
   "source": [
    "df.describe()"
   ]
  },
  {
   "cell_type": "markdown",
   "metadata": {},
   "source": [
    "Nuestra funcion desarrollada en preprocessing.py aplica solamente a estas 4 features dicha expansión. Ademas esta función le podemos decir qué grado aplicar para buscar esa expansión como tambien un booleano indicandole si se permite realizar potencias entre features. Importemos y apliquemos dicho preprocesado."
   ]
  },
  {
   "cell_type": "code",
   "execution_count": 17,
   "metadata": {},
   "outputs": [
    {
     "name": "stdout",
     "output_type": "stream",
     "text": [
      "Dataset inicial con 40 features...\n",
      "Dataset nuevo con PolynomialFeature con 46 features...\n"
     ]
    },
    {
     "data": {
      "text/plain": [
       "(32561, 46)"
      ]
     },
     "execution_count": 17,
     "metadata": {},
     "output_type": "execute_result"
    }
   ],
   "source": [
    "from preprocessing import get_dataframe_polynomial\n",
    "X_df_numerico_poly = get_dataframe_polynomial(X_df_numerico, 2, True)\n",
    "X_df_numerico_poly.shape"
   ]
  },
  {
   "cell_type": "markdown",
   "metadata": {},
   "source": [
    "Antes de empezar a entrenar, aplicaremos este preproecesamietno con las 2 variantes: el booleano en true y false. Defindamos una funcion que repita el proceso meniconado en el primer preprocesamietno de dividir_train_test/entrenar/predecir/graficar. \n",
    "Por el momento solo grafiacremos la matriz de confusión, los mejores hiperparametros y el AUC-ROC."
   ]
  },
  {
   "cell_type": "code",
   "execution_count": 18,
   "metadata": {},
   "outputs": [],
   "source": [
    "def auc_roc_for(X, y):\n",
    "    XX_train, XX_test, yy_train, yy_test = train_test_split(X, y, random_state=10, test_size=0.20, stratify=y_df)\n",
    "\n",
    "    params = {\n",
    "        'max_depth': np.arange(3, 8),\n",
    "        'min_samples_leaf': np.arange(20, 50, 1),\n",
    "        \"criterion\": [\"gini\", \"entropy\"],\n",
    "    }\n",
    "    cv_e = StratifiedKFold(n_splits=5,random_state=10, shuffle=True).split(XX_train, yy_train)\n",
    "    clf_r = tree.DecisionTreeClassifier(random_state=10)\n",
    "    clf = GridSearchCV(clf_r, params, scoring='roc_auc', cv=cv_e, n_jobs = -1)\n",
    "\n",
    "    clf.fit(XX_train, yy_train)\n",
    "    yy_pred = clf.predict(XX_test)\n",
    "\n",
    "    print(\"AUC-ROC score sobre test: \", \"%0.16f\"  % roc_auc_score(yy_test, clf.predict_proba(XX_test)[:, 1]))\n",
    "    print(\"AUC-ROC score sobre train: \", \"%0.16f\"  % roc_auc_score(yy_train, clf.predict_proba(XX_train)[:, 1]))\n",
    "    print(\"Los mejores hiperpametros elegidos: \", clf.best_params_)\n",
    "    graficar_matriz_confusion(yy_test, yy_pred)"
   ]
  },
  {
   "cell_type": "markdown",
   "metadata": {
    "tags": []
   },
   "source": [
    "* Con PolynomialFeatures(2, interaction_only = True)\n",
    "\n",
    "Ya habiamos llamado a la función, pero hagamoslo de nuevo:"
   ]
  },
  {
   "cell_type": "code",
   "execution_count": 19,
   "metadata": {},
   "outputs": [
    {
     "name": "stdout",
     "output_type": "stream",
     "text": [
      "Dataset inicial con 40 features...\n",
      "Dataset nuevo con PolynomialFeature con 46 features...\n"
     ]
    },
    {
     "data": {
      "text/plain": [
       "(32561, 46)"
      ]
     },
     "execution_count": 19,
     "metadata": {},
     "output_type": "execute_result"
    }
   ],
   "source": [
    "X_df_numerico_poly = get_dataframe_polynomial(X_df_numerico, 2, True)\n",
    "X_df_numerico_poly.shape"
   ]
  },
  {
   "cell_type": "code",
   "execution_count": 20,
   "metadata": {},
   "outputs": [
    {
     "name": "stdout",
     "output_type": "stream",
     "text": [
      "AUC-ROC score sobre test:  0.9015440895771858\n",
      "AUC-ROC score sobre train:  0.9107209454038468\n",
      "Los mejores hiperpametros elegidos:  {'criterion': 'gini', 'max_depth': 7, 'min_samples_leaf': 20}\n"
     ]
    },
    {
     "data": {
      "image/png": "[encoded data removed]",
      "text/plain": [
       "<Figure size 660x440 with 2 Axes>"
      ]
     },
     "metadata": {
      "needs_background": "light"
     },
     "output_type": "display_data"
    }
   ],
   "source": [
    "auc_roc_for(X_df_numerico_poly, y_df)"
   ]
  },
  {
   "cell_type": "markdown",
   "metadata": {},
   "source": [
    "Vemos que empeoró el AUC-ROC, pero mejoró la precisión sobre lo de alto valor. Veamos ahora con el booleano para las potencias en false:"
   ]
  },
  {
   "cell_type": "markdown",
   "metadata": {},
   "source": [
    "* Con PolynomialFeatures(2, interaction_only = False)"
   ]
  },
  {
   "cell_type": "code",
   "execution_count": 21,
   "metadata": {},
   "outputs": [
    {
     "name": "stdout",
     "output_type": "stream",
     "text": [
      "Dataset inicial con 40 features...\n",
      "Dataset nuevo con PolynomialFeature con 50 features...\n"
     ]
    },
    {
     "data": {
      "text/plain": [
       "(32561, 50)"
      ]
     },
     "execution_count": 21,
     "metadata": {},
     "output_type": "execute_result"
    }
   ],
   "source": [
    "X_df_numerico_poly = get_dataframe_polynomial(X_df_numerico, 2, False)\n",
    "X_df_numerico_poly.shape"
   ]
  },
  {
   "cell_type": "code",
   "execution_count": 22,
   "metadata": {},
   "outputs": [
    {
     "name": "stdout",
     "output_type": "stream",
     "text": [
      "AUC-ROC score sobre test:  0.9006571650399291\n",
      "AUC-ROC score sobre train:  0.9120560796446070\n",
      "Los mejores hiperpametros elegidos:  {'criterion': 'gini', 'max_depth': 7, 'min_samples_leaf': 25}\n"
     ]
    },
    {
     "data": {
      "image/png": "[encoded data removed]",
      "text/plain": [
       "<Figure size 660x440 with 2 Axes>"
      ]
     },
     "metadata": {
      "needs_background": "light"
     },
     "output_type": "display_data"
    }
   ],
   "source": [
    "auc_roc_for(X_df_numerico_poly, y_df)"
   ]
  },
  {
   "cell_type": "markdown",
   "metadata": {},
   "source": [
    "Exploremos con otros preprocesamientos para ver si mejora esto."
   ]
  },
  {
   "cell_type": "markdown",
   "metadata": {},
   "source": [
    "# Tercer Preprocesamiento: get_dataframe_scaled()"
   ]
  },
  {
   "cell_type": "markdown",
   "metadata": {},
   "source": [
    "Para este tercer preprocesamiento vamos a realizar un escalado de los datos con nuestra función 'get_dataframe_scaled()' el cual requiere que le pasemos un escalador y el dataset a escalar. La misma nos devolverá el dataset escalado."
   ]
  },
  {
   "cell_type": "code",
   "execution_count": 23,
   "metadata": {},
   "outputs": [],
   "source": [
    "from preprocessing import get_dataframe_scaled\n",
    "from sklearn.preprocessing import Normalizer\n",
    "from sklearn.preprocessing import StandardScaler"
   ]
  },
  {
   "cell_type": "markdown",
   "metadata": {},
   "source": [
    "## Normalizer()"
   ]
  },
  {
   "cell_type": "markdown",
   "metadata": {},
   "source": [
    "Empezemos con un normalizador que deja a nuestras variables entre 0 y 1. Lo cual esto podria dar signifciatviamente distinto a lo que tenemos esperado"
   ]
  },
  {
   "cell_type": "code",
   "execution_count": 24,
   "metadata": {},
   "outputs": [
    {
     "name": "stdout",
     "output_type": "stream",
     "text": [
      "Aplicando 'conversion_numerica' en las variables categóricas.\n"
     ]
    }
   ],
   "source": [
    "df, df_for_prediction = obtener_datasets()\n",
    "X_df, y_df = aplicar_preparacion(df)\n",
    "X_df_numerico = conversion_numerica(X_df) \n",
    "\n",
    "X_df_numerico_normalization = get_dataframe_scaled(X_df_numerico, Normalizer())"
   ]
  },
  {
   "cell_type": "code",
   "execution_count": 25,
   "metadata": {},
   "outputs": [
    {
     "data": {
      "text/html": [
       "<div>\n",
       "<style scoped>\n",
       "    .dataframe tbody tr th:only-of-type {\n",
       "        vertical-align: middle;\n",
       "    }\n",
       "\n",
       "    .dataframe tbody tr th {\n",
       "        vertical-align: top;\n",
       "    }\n",
       "\n",
       "    .dataframe thead th {\n",
       "        text-align: right;\n",
       "    }\n",
       "</style>\n",
       "<table border=\"1\" class=\"dataframe\">\n",
       "  <thead>\n",
       "    <tr style=\"text-align: right;\">\n",
       "      <th></th>\n",
       "      <th>anios_estudiados</th>\n",
       "      <th>edad</th>\n",
       "      <th>educacion_alcanzada</th>\n",
       "      <th>suma_declarada_bolsa_argentina</th>\n",
       "      <th>horas_trabajo_registradas</th>\n",
       "      <th>genero_mujer</th>\n",
       "      <th>estado_marital_matrimonio_civil</th>\n",
       "      <th>estado_marital_matrimonio_militar</th>\n",
       "      <th>estado_marital_pareja_no_presente</th>\n",
       "      <th>estado_marital_separado_a</th>\n",
       "      <th>...</th>\n",
       "      <th>categoria_de_trabajo_sin_trabajo</th>\n",
       "      <th>categoria_de_trabajo_trabajo_voluntariado</th>\n",
       "      <th>religion_budismo</th>\n",
       "      <th>religion_cristianismo</th>\n",
       "      <th>religion_judaismo</th>\n",
       "      <th>religion_otro</th>\n",
       "      <th>rol_familiar_registrado_con_hijos</th>\n",
       "      <th>rol_familiar_registrado_otro</th>\n",
       "      <th>rol_familiar_registrado_sin_familia</th>\n",
       "      <th>rol_familiar_registrado_soltero_a</th>\n",
       "    </tr>\n",
       "  </thead>\n",
       "  <tbody>\n",
       "    <tr>\n",
       "      <th>count</th>\n",
       "      <td>32561.000000</td>\n",
       "      <td>32561.000000</td>\n",
       "      <td>32561.000000</td>\n",
       "      <td>32561.000000</td>\n",
       "      <td>32561.000000</td>\n",
       "      <td>32561.000000</td>\n",
       "      <td>32561.000000</td>\n",
       "      <td>32561.000000</td>\n",
       "      <td>32561.000000</td>\n",
       "      <td>32561.000000</td>\n",
       "      <td>...</td>\n",
       "      <td>32561.000000</td>\n",
       "      <td>32561.000000</td>\n",
       "      <td>32561.000000</td>\n",
       "      <td>32561.000000</td>\n",
       "      <td>32561.000000</td>\n",
       "      <td>32561.000000</td>\n",
       "      <td>32561.000000</td>\n",
       "      <td>32561.000000</td>\n",
       "      <td>32561.000000</td>\n",
       "      <td>32561.000000</td>\n",
       "    </tr>\n",
       "    <tr>\n",
       "      <th>mean</th>\n",
       "      <td>0.219231</td>\n",
       "      <td>0.559374</td>\n",
       "      <td>0.065264</td>\n",
       "      <td>0.036645</td>\n",
       "      <td>0.599344</td>\n",
       "      <td>0.005871</td>\n",
       "      <td>0.006076</td>\n",
       "      <td>0.000013</td>\n",
       "      <td>0.000206</td>\n",
       "      <td>0.000517</td>\n",
       "      <td>...</td>\n",
       "      <td>0.000006</td>\n",
       "      <td>0.000007</td>\n",
       "      <td>0.000510</td>\n",
       "      <td>0.013434</td>\n",
       "      <td>0.001629</td>\n",
       "      <td>0.000149</td>\n",
       "      <td>0.003574</td>\n",
       "      <td>0.000567</td>\n",
       "      <td>0.004050</td>\n",
       "      <td>0.001724</td>\n",
       "    </tr>\n",
       "    <tr>\n",
       "      <th>std</th>\n",
       "      <td>0.109033</td>\n",
       "      <td>0.246334</td>\n",
       "      <td>0.032977</td>\n",
       "      <td>0.358411</td>\n",
       "      <td>0.265739</td>\n",
       "      <td>0.009473</td>\n",
       "      <td>0.007996</td>\n",
       "      <td>0.000507</td>\n",
       "      <td>0.001933</td>\n",
       "      <td>0.003035</td>\n",
       "      <td>...</td>\n",
       "      <td>0.000437</td>\n",
       "      <td>0.000387</td>\n",
       "      <td>0.003127</td>\n",
       "      <td>0.009077</td>\n",
       "      <td>0.005438</td>\n",
       "      <td>0.001751</td>\n",
       "      <td>0.008993</td>\n",
       "      <td>0.003473</td>\n",
       "      <td>0.007665</td>\n",
       "      <td>0.005340</td>\n",
       "    </tr>\n",
       "    <tr>\n",
       "      <th>min</th>\n",
       "      <td>0.000024</td>\n",
       "      <td>0.000210</td>\n",
       "      <td>0.000000</td>\n",
       "      <td>-0.999930</td>\n",
       "      <td>0.000088</td>\n",
       "      <td>0.000000</td>\n",
       "      <td>0.000000</td>\n",
       "      <td>0.000000</td>\n",
       "      <td>0.000000</td>\n",
       "      <td>0.000000</td>\n",
       "      <td>...</td>\n",
       "      <td>0.000000</td>\n",
       "      <td>0.000000</td>\n",
       "      <td>0.000000</td>\n",
       "      <td>0.000000</td>\n",
       "      <td>0.000000</td>\n",
       "      <td>0.000000</td>\n",
       "      <td>0.000000</td>\n",
       "      <td>0.000000</td>\n",
       "      <td>0.000000</td>\n",
       "      <td>0.000000</td>\n",
       "    </tr>\n",
       "    <tr>\n",
       "      <th>25%</th>\n",
       "      <td>0.180765</td>\n",
       "      <td>0.482559</td>\n",
       "      <td>0.053558</td>\n",
       "      <td>0.000000</td>\n",
       "      <td>0.550952</td>\n",
       "      <td>0.000000</td>\n",
       "      <td>0.000000</td>\n",
       "      <td>0.000000</td>\n",
       "      <td>0.000000</td>\n",
       "      <td>0.000000</td>\n",
       "      <td>...</td>\n",
       "      <td>0.000000</td>\n",
       "      <td>0.000000</td>\n",
       "      <td>0.000000</td>\n",
       "      <td>0.000624</td>\n",
       "      <td>0.000000</td>\n",
       "      <td>0.000000</td>\n",
       "      <td>0.000000</td>\n",
       "      <td>0.000000</td>\n",
       "      <td>0.000000</td>\n",
       "      <td>0.000000</td>\n",
       "    </tr>\n",
       "    <tr>\n",
       "      <th>50%</th>\n",
       "      <td>0.232593</td>\n",
       "      <td>0.610776</td>\n",
       "      <td>0.069633</td>\n",
       "      <td>0.000000</td>\n",
       "      <td>0.687107</td>\n",
       "      <td>0.000000</td>\n",
       "      <td>0.000000</td>\n",
       "      <td>0.000000</td>\n",
       "      <td>0.000000</td>\n",
       "      <td>0.000000</td>\n",
       "      <td>...</td>\n",
       "      <td>0.000000</td>\n",
       "      <td>0.000000</td>\n",
       "      <td>0.000000</td>\n",
       "      <td>0.015449</td>\n",
       "      <td>0.000000</td>\n",
       "      <td>0.000000</td>\n",
       "      <td>0.000000</td>\n",
       "      <td>0.000000</td>\n",
       "      <td>0.000000</td>\n",
       "      <td>0.000000</td>\n",
       "    </tr>\n",
       "    <tr>\n",
       "      <th>75%</th>\n",
       "      <td>0.277793</td>\n",
       "      <td>0.723496</td>\n",
       "      <td>0.083992</td>\n",
       "      <td>0.000000</td>\n",
       "      <td>0.780340</td>\n",
       "      <td>0.014797</td>\n",
       "      <td>0.014711</td>\n",
       "      <td>0.000000</td>\n",
       "      <td>0.000000</td>\n",
       "      <td>0.000000</td>\n",
       "      <td>...</td>\n",
       "      <td>0.000000</td>\n",
       "      <td>0.000000</td>\n",
       "      <td>0.000000</td>\n",
       "      <td>0.018781</td>\n",
       "      <td>0.000000</td>\n",
       "      <td>0.000000</td>\n",
       "      <td>0.000000</td>\n",
       "      <td>0.000000</td>\n",
       "      <td>0.000095</td>\n",
       "      <td>0.000000</td>\n",
       "    </tr>\n",
       "    <tr>\n",
       "      <th>max</th>\n",
       "      <td>0.593732</td>\n",
       "      <td>0.995929</td>\n",
       "      <td>0.186862</td>\n",
       "      <td>1.000000</td>\n",
       "      <td>0.978616</td>\n",
       "      <td>0.048912</td>\n",
       "      <td>0.040032</td>\n",
       "      <td>0.030471</td>\n",
       "      <td>0.038236</td>\n",
       "      <td>0.033113</td>\n",
       "      <td>...</td>\n",
       "      <td>0.042409</td>\n",
       "      <td>0.039193</td>\n",
       "      <td>0.040032</td>\n",
       "      <td>0.049088</td>\n",
       "      <td>0.046625</td>\n",
       "      <td>0.041959</td>\n",
       "      <td>0.048912</td>\n",
       "      <td>0.047836</td>\n",
       "      <td>0.049088</td>\n",
       "      <td>0.042718</td>\n",
       "    </tr>\n",
       "  </tbody>\n",
       "</table>\n",
       "<p>8 rows × 40 columns</p>\n",
       "</div>"
      ],
      "text/plain": [
       "       anios_estudiados          edad  educacion_alcanzada  \\\n",
       "count      32561.000000  32561.000000         32561.000000   \n",
       "mean           0.219231      0.559374             0.065264   \n",
       "std            0.109033      0.246334             0.032977   \n",
       "min            0.000024      0.000210             0.000000   \n",
       "25%            0.180765      0.482559             0.053558   \n",
       "50%            0.232593      0.610776             0.069633   \n",
       "75%            0.277793      0.723496             0.083992   \n",
       "max            0.593732      0.995929             0.186862   \n",
       "\n",
       "       suma_declarada_bolsa_argentina  horas_trabajo_registradas  \\\n",
       "count                    32561.000000               32561.000000   \n",
       "mean                         0.036645                   0.599344   \n",
       "std                          0.358411                   0.265739   \n",
       "min                         -0.999930                   0.000088   \n",
       "25%                          0.000000                   0.550952   \n",
       "50%                          0.000000                   0.687107   \n",
       "75%                          0.000000                   0.780340   \n",
       "max                          1.000000                   0.978616   \n",
       "\n",
       "       genero_mujer  estado_marital_matrimonio_civil  \\\n",
       "count  32561.000000                     32561.000000   \n",
       "mean       0.005871                         0.006076   \n",
       "std        0.009473                         0.007996   \n",
       "min        0.000000                         0.000000   \n",
       "25%        0.000000                         0.000000   \n",
       "50%        0.000000                         0.000000   \n",
       "75%        0.014797                         0.014711   \n",
       "max        0.048912                         0.040032   \n",
       "\n",
       "       estado_marital_matrimonio_militar  estado_marital_pareja_no_presente  \\\n",
       "count                       32561.000000                       32561.000000   \n",
       "mean                            0.000013                           0.000206   \n",
       "std                             0.000507                           0.001933   \n",
       "min                             0.000000                           0.000000   \n",
       "25%                             0.000000                           0.000000   \n",
       "50%                             0.000000                           0.000000   \n",
       "75%                             0.000000                           0.000000   \n",
       "max                             0.030471                           0.038236   \n",
       "\n",
       "       estado_marital_separado_a  ...  categoria_de_trabajo_sin_trabajo  \\\n",
       "count               32561.000000  ...                      32561.000000   \n",
       "mean                    0.000517  ...                          0.000006   \n",
       "std                     0.003035  ...                          0.000437   \n",
       "min                     0.000000  ...                          0.000000   \n",
       "25%                     0.000000  ...                          0.000000   \n",
       "50%                     0.000000  ...                          0.000000   \n",
       "75%                     0.000000  ...                          0.000000   \n",
       "max                     0.033113  ...                          0.042409   \n",
       "\n",
       "       categoria_de_trabajo_trabajo_voluntariado  religion_budismo  \\\n",
       "count                               32561.000000      32561.000000   \n",
       "mean                                    0.000007          0.000510   \n",
       "std                                     0.000387          0.003127   \n",
       "min                                     0.000000          0.000000   \n",
       "25%                                     0.000000          0.000000   \n",
       "50%                                     0.000000          0.000000   \n",
       "75%                                     0.000000          0.000000   \n",
       "max                                     0.039193          0.040032   \n",
       "\n",
       "       religion_cristianismo  religion_judaismo  religion_otro  \\\n",
       "count           32561.000000       32561.000000   32561.000000   \n",
       "mean                0.013434           0.001629       0.000149   \n",
       "std                 0.009077           0.005438       0.001751   \n",
       "min                 0.000000           0.000000       0.000000   \n",
       "25%                 0.000624           0.000000       0.000000   \n",
       "50%                 0.015449           0.000000       0.000000   \n",
       "75%                 0.018781           0.000000       0.000000   \n",
       "max                 0.049088           0.046625       0.041959   \n",
       "\n",
       "       rol_familiar_registrado_con_hijos  rol_familiar_registrado_otro  \\\n",
       "count                       32561.000000                  32561.000000   \n",
       "mean                            0.003574                      0.000567   \n",
       "std                             0.008993                      0.003473   \n",
       "min                             0.000000                      0.000000   \n",
       "25%                             0.000000                      0.000000   \n",
       "50%                             0.000000                      0.000000   \n",
       "75%                             0.000000                      0.000000   \n",
       "max                             0.048912                      0.047836   \n",
       "\n",
       "       rol_familiar_registrado_sin_familia  rol_familiar_registrado_soltero_a  \n",
       "count                         32561.000000                       32561.000000  \n",
       "mean                              0.004050                           0.001724  \n",
       "std                               0.007665                           0.005340  \n",
       "min                               0.000000                           0.000000  \n",
       "25%                               0.000000                           0.000000  \n",
       "50%                               0.000000                           0.000000  \n",
       "75%                               0.000095                           0.000000  \n",
       "max                               0.049088                           0.042718  \n",
       "\n",
       "[8 rows x 40 columns]"
      ]
     },
     "execution_count": 25,
     "metadata": {},
     "output_type": "execute_result"
    }
   ],
   "source": [
    "X_df_numerico_normalization.describe()"
   ]
  },
  {
   "cell_type": "markdown",
   "metadata": {},
   "source": [
    "Dividamos y entrenemos:"
   ]
  },
  {
   "cell_type": "code",
   "execution_count": 26,
   "metadata": {},
   "outputs": [
    {
     "name": "stdout",
     "output_type": "stream",
     "text": [
      "Fitting 5 folds for each of 500 candidates, totalling 2500 fits\n"
     ]
    },
    {
     "name": "stderr",
     "output_type": "stream",
     "text": [
      "[Parallel(n_jobs=-1)]: Using backend LokyBackend with 4 concurrent workers.\n",
      "[Parallel(n_jobs=-1)]: Done  76 tasks      | elapsed:    2.2s\n",
      "[Parallel(n_jobs=-1)]: Done 376 tasks      | elapsed:    9.8s\n",
      "[Parallel(n_jobs=-1)]: Done 876 tasks      | elapsed:   27.1s\n",
      "[Parallel(n_jobs=-1)]: Done 1576 tasks      | elapsed:   55.0s\n",
      "[Parallel(n_jobs=-1)]: Done 2476 tasks      | elapsed:  1.6min\n",
      "[Parallel(n_jobs=-1)]: Done 2500 out of 2500 | elapsed:  1.7min finished\n"
     ]
    },
    {
     "name": "stdout",
     "output_type": "stream",
     "text": [
      "AUC-ROC score sobre test:  0.8858390638864240\n",
      "AUC-ROC score sobre train:  0.8927718597331731\n",
      "Accuracy sobre test:  0.8495317058191310\n",
      "Los mejores hiperpametros elegidos:  {'criterion': 'entropy', 'max_depth': 7, 'min_samples_leaf': 90}\n"
     ]
    }
   ],
   "source": [
    "X_train, X_test, y_train, y_test = train_test_split(X_df_numerico_normalization, y_df, random_state=10, test_size=0.20, stratify=y_df)\n",
    "\n",
    "params = {\n",
    "    'max_depth': np.arange(3, 8),\n",
    "    'min_samples_leaf': np.arange(50, 100, 1),\n",
    "    \"criterion\": [\"gini\", \"entropy\"],\n",
    "}\n",
    "\n",
    "clf = tree.DecisionTreeClassifier(random_state=10)\n",
    "cv_e = StratifiedKFold(n_splits=5, random_state=10, shuffle=True).split(X_train, y_train)\n",
    "clf = GridSearchCV(clf, params, scoring='roc_auc', cv=cv_e, n_jobs = -1, verbose=True)\n",
    "\n",
    "clf.fit(X_train, y_train)\n",
    "y_pred = clf.predict(X_test)\n",
    "\n",
    "print(\"AUC-ROC score sobre test: \", \"%0.16f\"  % roc_auc_score(y_test, clf.predict_proba(X_test)[:, 1]))\n",
    "print(\"AUC-ROC score sobre train: \", \"%0.16f\"  % roc_auc_score(y_train, clf.predict_proba(X_train)[:, 1]))\n",
    "print(\"Accuracy sobre test: \", \"%0.16f\"  % accuracy_score(y_pred, y_test))\n",
    "print(\"Los mejores hiperpametros elegidos: \", clf.best_params_)"
   ]
  },
  {
   "cell_type": "markdown",
   "metadata": {},
   "source": [
    "Vemos que empeoró demasiado el AUC-ROC. Veamos si al precisión se levantó con esto:"
   ]
  },
  {
   "cell_type": "code",
   "execution_count": 27,
   "metadata": {},
   "outputs": [
    {
     "name": "stdout",
     "output_type": "stream",
     "text": [
      "              precision    recall  f1-score   support\n",
      "\n",
      "  Bajo valor       0.96      0.86      0.91      5485\n",
      "  Alto valor       0.52      0.79      0.62      1028\n",
      "\n",
      "    accuracy                           0.85      6513\n",
      "   macro avg       0.74      0.82      0.76      6513\n",
      "weighted avg       0.89      0.85      0.86      6513\n",
      "\n"
     ]
    }
   ],
   "source": [
    "print(classification_report(y_pred, y_test, target_names=[\"Bajo valor\", \"Alto valor\"]))"
   ]
  },
  {
   "cell_type": "markdown",
   "metadata": {},
   "source": [
    "Se mantuvo igual. Pasemos con otro preprocesamiento con otro escalado:"
   ]
  },
  {
   "cell_type": "markdown",
   "metadata": {},
   "source": [
    "## StandardScaler()"
   ]
  },
  {
   "cell_type": "code",
   "execution_count": 28,
   "metadata": {},
   "outputs": [
    {
     "name": "stdout",
     "output_type": "stream",
     "text": [
      "Aplicando 'conversion_numerica' en las variables categóricas.\n"
     ]
    }
   ],
   "source": [
    "df, df_for_prediction = obtener_datasets()\n",
    "X_df, y_df = aplicar_preparacion(df)\n",
    "X_df_numerico = conversion_numerica(X_df) \n",
    "\n",
    "X_df_numerico_standar = get_dataframe_scaled(X_df_numerico, StandardScaler())"
   ]
  },
  {
   "cell_type": "code",
   "execution_count": 29,
   "metadata": {},
   "outputs": [
    {
     "name": "stdout",
     "output_type": "stream",
     "text": [
      "Fitting 5 folds for each of 500 candidates, totalling 2500 fits\n"
     ]
    },
    {
     "name": "stderr",
     "output_type": "stream",
     "text": [
      "[Parallel(n_jobs=-1)]: Using backend LokyBackend with 4 concurrent workers.\n",
      "[Parallel(n_jobs=-1)]: Done  76 tasks      | elapsed:    1.3s\n",
      "[Parallel(n_jobs=-1)]: Done 672 tasks      | elapsed:    9.3s\n",
      "[Parallel(n_jobs=-1)]: Done 1672 tasks      | elapsed:   24.7s\n"
     ]
    },
    {
     "name": "stdout",
     "output_type": "stream",
     "text": [
      "AUC-ROC score sobre test:  0.9013640478941830\n",
      "AUC-ROC score sobre train:  0.9076413130904566\n",
      "Accuracy sobre test:  0.8562874251497006\n",
      "Los mejores hiperpametros elegidos:  {'criterion': 'gini', 'max_depth': 7, 'min_samples_leaf': 50}\n"
     ]
    },
    {
     "name": "stderr",
     "output_type": "stream",
     "text": [
      "[Parallel(n_jobs=-1)]: Done 2500 out of 2500 | elapsed:   38.3s finished\n"
     ]
    }
   ],
   "source": [
    "X_train, X_test, y_train, y_test = train_test_split(X_df_numerico_standar, y_df, random_state=10, test_size=0.20, stratify=y_df)\n",
    "\n",
    "params = {\n",
    "    'max_depth': np.arange(3, 8),\n",
    "    'min_samples_leaf': np.arange(50, 100, 1),\n",
    "    \"criterion\": [\"gini\", \"entropy\"],\n",
    "}\n",
    "\n",
    "clf = tree.DecisionTreeClassifier(random_state=10)\n",
    "cv_e = StratifiedKFold(n_splits=5, random_state=10, shuffle=True).split(X_train, y_train)\n",
    "clf = GridSearchCV(clf, params, scoring='roc_auc', cv=cv_e, n_jobs = -1, verbose=True)\n",
    "\n",
    "clf.fit(X_train, y_train)\n",
    "y_pred = clf.predict(X_test)\n",
    "\n",
    "print(\"AUC-ROC score sobre test: \", \"%0.16f\"  % roc_auc_score(y_test, clf.predict_proba(X_test)[:, 1]))\n",
    "print(\"AUC-ROC score sobre train: \", \"%0.16f\"  % roc_auc_score(y_train, clf.predict_proba(X_train)[:, 1]))\n",
    "print(\"Accuracy sobre test: \", \"%0.16f\"  % accuracy_score(y_pred, y_test))\n",
    "print(\"Los mejores hiperpametros elegidos: \", clf.best_params_)"
   ]
  },
  {
   "cell_type": "markdown",
   "metadata": {},
   "source": [
    "Nos dió exactamente igual al primer preprocesamiento. Por ende con una estandarización de los datos podemos concluir que no afecta el calculo del Gini o la Entropía en el arbol de decisión, sí lo es el caso de una normalización que los lleva entre 0 y 1 a los datos obligadamente."
   ]
  },
  {
   "cell_type": "markdown",
   "metadata": {},
   "source": [
    "# El mejor preprocesamiento: get_dataframe_polynomial()"
   ]
  },
  {
   "cell_type": "markdown",
   "metadata": {},
   "source": [
    "Habiamos visto que aplicar un polynomial de grado 2 con las potencias en true mejoraba nuestra metrica de AUC-ROC unos muy pocos puntos y un poco la precisión. Solo detallamos la matriz de confusión y el auc-roc score. Vaemos todas las métricas en sí que nos dió este modelo con la siguiente confugración de hiperparametros:\n",
    "\n",
    "    Los mejores hiperpametros elegidos:  {'criterion': 'gini', 'max_depth': 7, 'min_samples_leaf': 20}"
   ]
  },
  {
   "cell_type": "code",
   "execution_count": 30,
   "metadata": {},
   "outputs": [
    {
     "name": "stdout",
     "output_type": "stream",
     "text": [
      "Aplicando 'conversion_numerica' en las variables categóricas.\n",
      "Dataset inicial con 40 features...\n",
      "Dataset nuevo con PolynomialFeature con 46 features...\n"
     ]
    },
    {
     "data": {
      "text/plain": [
       "(32561, 46)"
      ]
     },
     "execution_count": 30,
     "metadata": {},
     "output_type": "execute_result"
    }
   ],
   "source": [
    "df, df_for_prediction = obtener_datasets()\n",
    "X_df, y_df = aplicar_preparacion(df)\n",
    "X_df_numerico = conversion_numerica(X_df) \n",
    "\n",
    "X_df_numerico_poly = get_dataframe_polynomial(X_df_numerico, 2, True)\n",
    "X_df_numerico_poly.shape"
   ]
  },
  {
   "cell_type": "code",
   "execution_count": 31,
   "metadata": {},
   "outputs": [
    {
     "name": "stdout",
     "output_type": "stream",
     "text": [
      "AUC-ROC score sobre test:  0.9015440895771858\n",
      "AUC-ROC score sobre train:  0.9107209454038468\n",
      "Accuracy sobre test:  0.8559803469983110\n"
     ]
    }
   ],
   "source": [
    "X_train, X_test, y_train, y_test = train_test_split(X_df_numerico_poly, y_df, random_state=10, test_size=0.20, stratify=y_df)\n",
    "\n",
    "clf = tree.DecisionTreeClassifier(random_state=10, criterion = 'gini', max_depth = 7, min_samples_leaf = 20)\n",
    "clf.fit(X_train, y_train)\n",
    "y_pred = clf.predict(X_test)\n",
    "\n",
    "print(\"AUC-ROC score sobre test: \", \"%0.16f\"  % roc_auc_score(y_test, clf.predict_proba(X_test)[:, 1]))\n",
    "print(\"AUC-ROC score sobre train: \", \"%0.16f\"  % roc_auc_score(y_train, clf.predict_proba(X_train)[:, 1]))\n",
    "print(\"Accuracy sobre test: \", \"%0.16f\"  % accuracy_score(y_pred, y_test))\n"
   ]
  },
  {
   "cell_type": "code",
   "execution_count": 32,
   "metadata": {},
   "outputs": [
    {
     "name": "stdout",
     "output_type": "stream",
     "text": [
      "              precision    recall  f1-score   support\n",
      "\n",
      "  Bajo valor       0.94      0.88      0.91      5317\n",
      "  Alto valor       0.58      0.76      0.66      1196\n",
      "\n",
      "    accuracy                           0.86      6513\n",
      "   macro avg       0.76      0.82      0.78      6513\n",
      "weighted avg       0.88      0.86      0.86      6513\n",
      "\n"
     ]
    }
   ],
   "source": [
    "print(classification_report(y_pred, y_test, target_names=[\"Bajo valor\", \"Alto valor\"]))"
   ]
  },
  {
   "cell_type": "markdown",
   "metadata": {},
   "source": [
    "Lo cual se puede ver esa mejora en la precisión de alto valor a comparación del primer preprocesamiento realizado."
   ]
  },
  {
   "cell_type": "code",
   "execution_count": 33,
   "metadata": {},
   "outputs": [
    {
     "data": {
      "image/png": "[encoded data removed]",
      "text/plain": [
       "<Figure size 660x440 with 2 Axes>"
      ]
     },
     "metadata": {
      "needs_background": "light"
     },
     "output_type": "display_data"
    }
   ],
   "source": [
    "graficar_matriz_confusion(y_test, y_pred)"
   ]
  },
  {
   "cell_type": "markdown",
   "metadata": {},
   "source": [
    "Clarametne esto se ve reflejado en el grafico de matriz de confusión. No es la mejor precisión posible puesto que tambien nos centramos en buscar mejorar y encontrar los mejores hiperparametros para la mejora de 'auc-roc score'."
   ]
  },
  {
   "cell_type": "code",
   "execution_count": 34,
   "metadata": {},
   "outputs": [
    {
     "data": {
      "image/png": "[encoded data removed]",
      "text/plain": [
       "<Figure size 660x440 with 1 Axes>"
      ]
     },
     "metadata": {
      "needs_background": "light"
     },
     "output_type": "display_data"
    }
   ],
   "source": [
    "plot_roc_curves(clf, X_train, y_train, X_train, y_train)"
   ]
  },
  {
   "cell_type": "markdown",
   "metadata": {},
   "source": [
    "Además obtuvimos un buen modelo que no esté ni tan sesgado ni ni overtifiado, pues eso se nota en las brechas de curvas de Test y Train: son practicamente iguales. Por lo que esperamos que para predecir holdout tenga buen score."
   ]
  },
  {
   "cell_type": "markdown",
   "metadata": {},
   "source": [
    "# Predicciones holdout"
   ]
  },
  {
   "cell_type": "markdown",
   "metadata": {},
   "source": [
    "Utilizar este mejor preprocesado del item #6 para predecir el holdout!!!"
   ]
  }
 ],
 "metadata": {
  "interpreter": {
   "hash": "63fd5069d213b44bf678585dea6b12cceca9941eaf7f819626cde1f2670de90d"
  },
  "kernelspec": {
   "display_name": "Python 3",
   "language": "python",
   "name": "python3"
  },
  "language_info": {
   "codemirror_mode": {
    "name": "ipython",
    "version": 3
   },
   "file_extension": ".py",
   "mimetype": "text/x-python",
   "name": "python",
   "nbconvert_exporter": "python",
   "pygments_lexer": "ipython3",
   "version": "3.8.10"
  }
 },
 "nbformat": 4,
 "nbformat_minor": 4
}
