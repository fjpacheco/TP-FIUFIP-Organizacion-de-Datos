{
 "cells": [
  {
   "cell_type": "markdown",
   "id": "4559fd00",
   "metadata": {},
   "source": [
    "# Modelo: Red Neuronal"
   ]
  },
  {
   "cell_type": "markdown",
   "id": "a0328fd6",
   "metadata": {},
   "source": [
    "El modelo a entrenar en el siguiente notebook se tratará de una red neuronal. Por el tipo de modelo del que se trata, iremos mostrando la serie de pasos y decisiones hasta llegar a los hiperparámetros y estructura de la red final, en lugar de realizar dicha busqueda con GridSearch o técnicas similares"
   ]
  },
  {
   "cell_type": "markdown",
   "id": "f90c7cf9",
   "metadata": {},
   "source": [
    "##  Librerias y funciones necesarias"
   ]
  },
  {
   "cell_type": "markdown",
   "id": "b5311a74",
   "metadata": {},
   "source": [
    "Para comenzar importamos las librerias que utilizaremos. En este caso para la construcción de la red utilizaremos la libreria Keras y para evaluar las metricas utilizaremos Sklearn. Luego importamos las funciones necesarias para los preprocesamientos"
   ]
  },
  {
   "cell_type": "code",
   "execution_count": 1,
   "id": "51ac86c5",
   "metadata": {},
   "outputs": [],
   "source": [
    "from numpy.random import seed\n",
    "seed(0)\n",
    "import tensorflow.random\n",
    "tensorflow.random.set_seed(0)\n"
   ]
  },
  {
   "cell_type": "code",
   "execution_count": 2,
   "id": "0f5fadc8",
   "metadata": {},
   "outputs": [
    {
     "name": "stderr",
     "output_type": "stream",
     "text": [
      "Using TensorFlow backend.\n"
     ]
    }
   ],
   "source": [
    "import pandas\n",
    "import matplotlib.pyplot as plt\n",
    "import keras\n",
    "#import tensorflow as tf\n",
    "#import numpy as np\n",
    "import tensorflow.keras.optimizers\n",
    "import tensorflow.keras.metrics\n",
    "from tensorflow.keras.models import Sequential\n",
    "from tensorflow.keras.layers import Dense #, Dropout\n",
    "from sklearn.model_selection import train_test_split\n",
    "from sklearn.metrics import classification_report\n",
    "from sklearn.metrics import confusion_matrix\n",
    "from sklearn.metrics import roc_curve, auc\n",
    "from sklearn.metrics import roc_auc_score\n",
    "from sklearn.metrics import accuracy_score, roc_auc_score\n",
    "from preprocessing import obtener_datasets\n",
    "from preprocessing import aplicar_preparacion\n",
    "from preprocessing import conversion_numerica\n",
    "from preprocessing import plot_roc_curves_red\n",
    "from preprocessing import graficar_matriz_confusion"
   ]
  },
  {
   "cell_type": "markdown",
   "id": "e33e072d",
   "metadata": {},
   "source": [
    "## Primer preprocesamiento"
   ]
  },
  {
   "cell_type": "markdown",
   "id": "022b1e65",
   "metadata": {},
   "source": [
    "En primer lugar obtenemos el dataset para entrenar y el holdout. En segundo lugar, aplicamos una función que trabaja sobre las features, generalizando algunas y dejando de lado otras según lo observado en la primer parte de este trabajo práctico. También separamos a la variable target del resto del dataset. Por último, convertimos a númericas las variables categoricas para poder entrenar nuestro modelo"
   ]
  },
  {
   "cell_type": "code",
   "execution_count": 3,
   "id": "0f9c7ad7",
   "metadata": {},
   "outputs": [
    {
     "name": "stdout",
     "output_type": "stream",
     "text": [
      "Aplicando 'conversion_numerica' en las variables categóricas.\n"
     ]
    }
   ],
   "source": [
    "df, df_holdout = obtener_datasets()\n",
    "X_df, y_df = aplicar_preparacion(df)\n",
    "X_df = conversion_numerica(X_df) "
   ]
  },
  {
   "cell_type": "markdown",
   "id": "5634d6f8",
   "metadata": {},
   "source": [
    "Luego vamos a realizar un split del dataset para dividir en train y test. Como observamos en la primer parte de este trabajo práctico, la variable target no esta distribuida uniformente por lo cual realizamos una división estratificada"
   ]
  },
  {
   "cell_type": "code",
   "execution_count": 4,
   "id": "2ce7cc6d",
   "metadata": {},
   "outputs": [],
   "source": [
    "X_train, X_test, y_train, y_test = train_test_split(X_df, y_df, test_size=0.2, random_state=30,stratify=y_df)"
   ]
  },
  {
   "cell_type": "markdown",
   "id": "40dd447e",
   "metadata": {},
   "source": [
    "### Primer diseño de la red"
   ]
  },
  {
   "cell_type": "markdown",
   "id": "8d682511",
   "metadata": {},
   "source": [
    "Comenzaremos con una red simple de una capa de 4 neuronas con función de activación Tanh y una ultima capa de una neurona con función de activación Sigmoidea. Esta última capa se repetirá en todas nuestras redes a construir. También se repetirá nuestra función de perdida (binary_crossentropy) y las métricas para evaluar que serán AUC y accuracy. Comenzaremos con SGD como primer optimizador"
   ]
  },
  {
   "cell_type": "code",
   "execution_count": 5,
   "id": "f0333c15",
   "metadata": {},
   "outputs": [],
   "source": [
    "model = Sequential()\n",
    "model.add(Dense(4,input_shape = (40,),activation='tanh'))\n",
    "model.add(Dense(1, activation=\"sigmoid\"))"
   ]
  },
  {
   "cell_type": "markdown",
   "id": "15180ca1",
   "metadata": {},
   "source": [
    "Compilamos nuestro primer modelo y observamos un resumen de su composición"
   ]
  },
  {
   "cell_type": "code",
   "execution_count": 6,
   "id": "3e2e79c2",
   "metadata": {},
   "outputs": [
    {
     "name": "stdout",
     "output_type": "stream",
     "text": [
      "Model: \"sequential\"\n",
      "_________________________________________________________________\n",
      "Layer (type)                 Output Shape              Param #   \n",
      "=================================================================\n",
      "dense (Dense)                (None, 4)                 164       \n",
      "_________________________________________________________________\n",
      "dense_1 (Dense)              (None, 1)                 5         \n",
      "=================================================================\n",
      "Total params: 169\n",
      "Trainable params: 169\n",
      "Non-trainable params: 0\n",
      "_________________________________________________________________\n"
     ]
    }
   ],
   "source": [
    "auc_ = tensorflow.keras.metrics.AUC(num_thresholds=1000)\n",
    "model.compile(loss='binary_crossentropy', optimizer='SGD',metrics=[auc_,'accuracy'])\n",
    "model.summary()"
   ]
  },
  {
   "cell_type": "markdown",
   "id": "55e62840",
   "metadata": {},
   "source": [
    "Ahora si, realicemos nuestro primer entrenamiento. Primeramente entrenaremos 100 epochs"
   ]
  },
  {
   "cell_type": "code",
   "execution_count": null,
   "id": "c3422f97",
   "metadata": {},
   "outputs": [
    {
     "name": "stdout",
     "output_type": "stream",
     "text": [
      "Epoch 1/100\n",
      "814/814 [==============================] - 2s 2ms/step - loss: 0.5590 - auc: 0.5941 - accuracy: 0.7493 - val_loss: 0.5148 - val_auc: 0.6541 - val_accuracy: 0.7778\n",
      "Epoch 2/100\n",
      "814/814 [==============================] - 1s 1ms/step - loss: 0.5077 - auc: 0.6507 - accuracy: 0.7823 - val_loss: 0.5110 - val_auc: 0.6520 - val_accuracy: 0.7778\n",
      "Epoch 3/100\n",
      "814/814 [==============================] - 1s 1ms/step - loss: 0.4987 - auc: 0.6903 - accuracy: 0.7817 - val_loss: 0.4892 - val_auc: 0.7258 - val_accuracy: 0.7778\n",
      "Epoch 4/100\n",
      "814/814 [==============================] - 1s 1ms/step - loss: 0.4874 - auc: 0.7109 - accuracy: 0.7836 - val_loss: 0.4821 - val_auc: 0.7277 - val_accuracy: 0.7778\n",
      "Epoch 5/100\n",
      "814/814 [==============================] - 1s 1ms/step - loss: 0.4896 - auc: 0.7167 - accuracy: 0.7774 - val_loss: 0.4902 - val_auc: 0.7397 - val_accuracy: 0.7778\n",
      "Epoch 6/100\n",
      "814/814 [==============================] - 1s 1ms/step - loss: 0.4741 - auc: 0.7312 - accuracy: 0.7846 - val_loss: 0.4878 - val_auc: 0.7367 - val_accuracy: 0.7778\n",
      "Epoch 7/100\n",
      "814/814 [==============================] - 1s 1ms/step - loss: 0.4778 - auc: 0.7370 - accuracy: 0.7812 - val_loss: 0.4866 - val_auc: 0.7781 - val_accuracy: 0.7778\n",
      "Epoch 8/100\n",
      "814/814 [==============================] - 1s 1ms/step - loss: 0.4774 - auc: 0.7375 - accuracy: 0.7801 - val_loss: 0.4693 - val_auc: 0.8043 - val_accuracy: 0.7778\n",
      "Epoch 9/100\n",
      "814/814 [==============================] - 1s 1ms/step - loss: 0.4743 - auc: 0.7361 - accuracy: 0.7813 - val_loss: 0.5216 - val_auc: 0.6707 - val_accuracy: 0.7778\n",
      "Epoch 10/100\n",
      "814/814 [==============================] - 1s 1ms/step - loss: 0.4759 - auc: 0.7419 - accuracy: 0.7802 - val_loss: 0.5006 - val_auc: 0.7794 - val_accuracy: 0.7778\n",
      "Epoch 11/100\n",
      "814/814 [==============================] - 1s 1ms/step - loss: 0.4636 - auc: 0.7580 - accuracy: 0.7792 - val_loss: 0.4765 - val_auc: 0.8224 - val_accuracy: 0.7778\n",
      "Epoch 12/100\n",
      "814/814 [==============================] - 1s 1ms/step - loss: 0.4664 - auc: 0.7434 - accuracy: 0.7855 - val_loss: 0.4307 - val_auc: 0.8273 - val_accuracy: 0.7778\n",
      "Epoch 13/100\n",
      "814/814 [==============================] - 1s 1ms/step - loss: 0.4548 - auc: 0.7697 - accuracy: 0.7814 - val_loss: 0.5369 - val_auc: 0.7023 - val_accuracy: 0.7807\n",
      "Epoch 14/100\n",
      "814/814 [==============================] - 1s 1ms/step - loss: 0.4678 - auc: 0.7539 - accuracy: 0.7788 - val_loss: 0.4231 - val_auc: 0.8365 - val_accuracy: 0.7807\n",
      "Epoch 15/100\n",
      "814/814 [==============================] - 1s 1ms/step - loss: 0.4540 - auc: 0.7769 - accuracy: 0.7779 - val_loss: 0.4194 - val_auc: 0.8338 - val_accuracy: 0.7807\n",
      "Epoch 16/100\n",
      "814/814 [==============================] - 1s 1ms/step - loss: 0.4559 - auc: 0.7714 - accuracy: 0.7788 - val_loss: 0.4402 - val_auc: 0.8343 - val_accuracy: 0.7807\n",
      "Epoch 17/100\n",
      "814/814 [==============================] - 1s 1ms/step - loss: 0.4484 - auc: 0.7846 - accuracy: 0.7754 - val_loss: 0.4493 - val_auc: 0.8391 - val_accuracy: 0.7807\n",
      "Epoch 18/100\n",
      "814/814 [==============================] - 1s 1ms/step - loss: 0.4383 - auc: 0.7948 - accuracy: 0.7836 - val_loss: 0.5185 - val_auc: 0.8226 - val_accuracy: 0.7807\n",
      "Epoch 19/100\n",
      "814/814 [==============================] - 1s 1ms/step - loss: 0.4534 - auc: 0.7810 - accuracy: 0.7738 - val_loss: 0.4162 - val_auc: 0.8429 - val_accuracy: 0.7807\n",
      "Epoch 20/100\n",
      "814/814 [==============================] - 1s 1ms/step - loss: 0.4334 - auc: 0.8056 - accuracy: 0.7809 - val_loss: 0.4140 - val_auc: 0.8425 - val_accuracy: 0.7807\n",
      "Epoch 21/100\n",
      "814/814 [==============================] - 1s 1ms/step - loss: 0.4333 - auc: 0.8061 - accuracy: 0.7821 - val_loss: 0.4124 - val_auc: 0.8405 - val_accuracy: 0.7807\n",
      "Epoch 22/100\n",
      "814/814 [==============================] - 1s 1ms/step - loss: 0.4375 - auc: 0.7989 - accuracy: 0.7806 - val_loss: 0.4178 - val_auc: 0.8445 - val_accuracy: 0.7807\n",
      "Epoch 23/100\n",
      "814/814 [==============================] - 1s 1ms/step - loss: 0.4298 - auc: 0.8085 - accuracy: 0.7872 - val_loss: 0.4183 - val_auc: 0.8443 - val_accuracy: 0.7807\n",
      "Epoch 24/100\n",
      "814/814 [==============================] - 1s 1ms/step - loss: 0.4275 - auc: 0.8082 - accuracy: 0.7836 - val_loss: 0.4092 - val_auc: 0.8469 - val_accuracy: 0.7807\n",
      "Epoch 25/100\n",
      "814/814 [==============================] - 1s 1ms/step - loss: 0.4397 - auc: 0.7914 - accuracy: 0.7824 - val_loss: 0.4141 - val_auc: 0.8421 - val_accuracy: 0.7807\n",
      "Epoch 26/100\n",
      "814/814 [==============================] - 1s 1ms/step - loss: 0.4302 - auc: 0.8109 - accuracy: 0.7804 - val_loss: 0.4892 - val_auc: 0.8294 - val_accuracy: 0.7807\n",
      "Epoch 27/100\n",
      "814/814 [==============================] - 1s 1ms/step - loss: 0.4337 - auc: 0.8116 - accuracy: 0.7795 - val_loss: 0.4123 - val_auc: 0.8420 - val_accuracy: 0.7807\n",
      "Epoch 28/100\n",
      "814/814 [==============================] - 1s 1ms/step - loss: 0.4330 - auc: 0.8049 - accuracy: 0.7791 - val_loss: 0.4570 - val_auc: 0.8290 - val_accuracy: 0.7807\n",
      "Epoch 29/100\n",
      "814/814 [==============================] - 1s 1ms/step - loss: 0.4310 - auc: 0.8089 - accuracy: 0.7791 - val_loss: 0.4455 - val_auc: 0.8289 - val_accuracy: 0.7807\n",
      "Epoch 30/100\n",
      "814/814 [==============================] - 1s 1ms/step - loss: 0.4282 - auc: 0.8146 - accuracy: 0.7784 - val_loss: 0.4091 - val_auc: 0.8424 - val_accuracy: 0.7807\n",
      "Epoch 31/100\n",
      "814/814 [==============================] - 1s 1ms/step - loss: 0.4345 - auc: 0.8085 - accuracy: 0.7763 - val_loss: 0.4495 - val_auc: 0.8377 - val_accuracy: 0.7778\n",
      "Epoch 32/100\n",
      "814/814 [==============================] - 1s 1ms/step - loss: 0.4314 - auc: 0.8077 - accuracy: 0.7777 - val_loss: 0.4111 - val_auc: 0.8452 - val_accuracy: 0.7809\n",
      "Epoch 33/100\n",
      "814/814 [==============================] - 1s 1ms/step - loss: 0.4291 - auc: 0.8173 - accuracy: 0.7778 - val_loss: 0.4206 - val_auc: 0.8387 - val_accuracy: 0.7809\n",
      "Epoch 34/100\n",
      "814/814 [==============================] - 1s 1ms/step - loss: 0.4276 - auc: 0.8130 - accuracy: 0.7754 - val_loss: 0.4120 - val_auc: 0.8459 - val_accuracy: 0.7809\n",
      "Epoch 35/100\n",
      "814/814 [==============================] - 1s 1ms/step - loss: 0.4251 - auc: 0.8194 - accuracy: 0.7786 - val_loss: 0.4306 - val_auc: 0.8437 - val_accuracy: 0.7780\n",
      "Epoch 36/100\n",
      "814/814 [==============================] - 1s 1ms/step - loss: 0.4224 - auc: 0.8147 - accuracy: 0.7816 - val_loss: 0.4879 - val_auc: 0.8266 - val_accuracy: 0.7809\n",
      "Epoch 37/100\n",
      "814/814 [==============================] - 1s 1ms/step - loss: 0.4278 - auc: 0.8126 - accuracy: 0.7815 - val_loss: 0.4117 - val_auc: 0.8479 - val_accuracy: 0.7809\n",
      "Epoch 38/100\n",
      "814/814 [==============================] - 1s 2ms/step - loss: 0.4285 - auc: 0.8184 - accuracy: 0.7807 - val_loss: 0.4073 - val_auc: 0.8463 - val_accuracy: 0.7809\n",
      "Epoch 39/100\n",
      "814/814 [==============================] - 1s 2ms/step - loss: 0.4236 - auc: 0.8162 - accuracy: 0.7820 - val_loss: 0.4085 - val_auc: 0.8459 - val_accuracy: 0.7809\n",
      "Epoch 40/100\n",
      "814/814 [==============================] - 1s 2ms/step - loss: 0.4207 - auc: 0.8180 - accuracy: 0.7814 - val_loss: 0.4104 - val_auc: 0.8504 - val_accuracy: 0.7809\n",
      "Epoch 41/100\n",
      "814/814 [==============================] - 1s 1ms/step - loss: 0.4228 - auc: 0.8197 - accuracy: 0.7831 - val_loss: 0.4079 - val_auc: 0.8484 - val_accuracy: 0.7809\n",
      "Epoch 42/100\n",
      "814/814 [==============================] - 1s 1ms/step - loss: 0.4276 - auc: 0.8157 - accuracy: 0.7799 - val_loss: 0.4195 - val_auc: 0.8435 - val_accuracy: 0.7809\n",
      "Epoch 43/100\n",
      "814/814 [==============================] - 1s 1ms/step - loss: 0.4262 - auc: 0.8138 - accuracy: 0.7832 - val_loss: 0.4258 - val_auc: 0.8397 - val_accuracy: 0.7807\n",
      "Epoch 44/100\n",
      "814/814 [==============================] - 1s 1ms/step - loss: 0.4250 - auc: 0.8219 - accuracy: 0.7813 - val_loss: 0.4109 - val_auc: 0.8432 - val_accuracy: 0.7807\n",
      "Epoch 45/100\n",
      " 35/814 [>.............................] - ETA: 1s - loss: 0.4046 - auc: 0.8496 - accuracy: 0.7785"
     ]
    }
   ],
   "source": [
    "history = model.fit(X_train.values, y_train,epochs=100,verbose=1,validation_data=(X_test.values, y_test))"
   ]
  },
  {
   "cell_type": "markdown",
   "id": "a28e09b4",
   "metadata": {},
   "source": [
    "Para evaluar los resultados obtenidos, observaremos la curva de aprendizaje tanto de la accuracy como del AUC"
   ]
  },
  {
   "cell_type": "code",
   "execution_count": null,
   "id": "7ee3c6e6",
   "metadata": {},
   "outputs": [],
   "source": [
    "fig = plt.figure(figsize=(12, 6), dpi=100)\n",
    "plt.ylabel(\"Accuracy\")\n",
    "plt.xlabel(\"epoc\")\n",
    "plt.plot(history.history[\"accuracy\"], label=\"training\")\n",
    "plt.plot(history.history[\"val_accuracy\"], label=\"validation\")\n",
    "plt.legend()\n",
    "plt.show()"
   ]
  },
  {
   "cell_type": "code",
   "execution_count": null,
   "id": "1a03af8f",
   "metadata": {},
   "outputs": [],
   "source": [
    "history.history.keys()"
   ]
  },
  {
   "cell_type": "code",
   "execution_count": null,
   "id": "8ef04c1d",
   "metadata": {},
   "outputs": [],
   "source": [
    "fig = plt.figure(figsize=(12, 6), dpi=100)\n",
    "plt.ylabel(\"AUC\")\n",
    "plt.xlabel(\"epoc\")\n",
    "plt.plot(history.history[\"auc\"], label=\"training\")\n",
    "plt.plot(history.history[\"val_auc\"], label=\"validation\")\n",
    "plt.legend()\n",
    "plt.show()"
   ]
  },
  {
   "cell_type": "code",
   "execution_count": null,
   "id": "c8b59e06",
   "metadata": {},
   "outputs": [],
   "source": [
    "y_pred = model.predict(X_test).round()"
   ]
  },
  {
   "cell_type": "code",
   "execution_count": null,
   "id": "4dcf9ae1",
   "metadata": {},
   "outputs": [],
   "source": [
    "print(\"AUC-ROC score sobre test: \", \"%0.16f\"  % roc_auc_score(y_test, model.predict(X_test)))\n",
    "print(\"AUC-ROC score sobre train: \", \"%0.16f\"  % roc_auc_score(y_train, model.predict(X_train)))\n",
    "print(\"Accuracy sobre test: \", \"%0.16f\"  % accuracy_score(y_pred, y_test))\n",
    "print(classification_report(y_pred, y_test, target_names=[\"Bajo valor\", \"Alto valor\"]))\n",
    "graficar_matriz_confusion(y_test, y_pred)\n",
    "plot_roc_curves_red(model, X_test, y_test, X_train, y_train)"
   ]
  },
  {
   "cell_type": "markdown",
   "id": "391a0346",
   "metadata": {},
   "source": [
    "AUC-ROC score sobre test:  0.8535609175419410\n",
    "\n",
    "AUC-ROC score sobre train:  0.8524914212033472"
   ]
  },
  {
   "cell_type": "markdown",
   "id": "23f7fa32",
   "metadata": {},
   "source": [
    "#### Valores de arriba a comparar"
   ]
  },
  {
   "cell_type": "markdown",
   "id": "84c2dc64",
   "metadata": {},
   "source": [
    "# En primer lugar diseño la red"
   ]
  },
  {
   "cell_type": "code",
   "execution_count": null,
   "id": "c9045340",
   "metadata": {},
   "outputs": [],
   "source": [
    "ASD"
   ]
  },
  {
   "cell_type": "code",
   "execution_count": null,
   "id": "a5c01c54",
   "metadata": {},
   "outputs": [],
   "source": [
    "num_classes = 2\n",
    "\n",
    "model = Sequential()\n",
    "model.add(Dense(8,input_shape = (40,),activation='tanh'))\n",
    "model.add(Dense(num_classes, activation=\"softmax\"))\n",
    "\n",
    "model.compile(loss='categorical_crossentropy', optimizer='adam',metrics=['accuracy'])\n",
    "model.summary()"
   ]
  },
  {
   "cell_type": "markdown",
   "id": "454d95c4",
   "metadata": {},
   "source": [
    "# Ya tengo el primer modelo compilado voy a entrenarlo"
   ]
  },
  {
   "cell_type": "code",
   "execution_count": null,
   "id": "1d46753b",
   "metadata": {},
   "outputs": [],
   "source": [
    "y_train = keras.utils.to_categorical(y_train, 2)\n",
    "y_test = keras.utils.to_categorical(y_test, 2)"
   ]
  },
  {
   "cell_type": "code",
   "execution_count": null,
   "id": "95b02cb9",
   "metadata": {},
   "outputs": [],
   "source": [
    "history = model.fit(X_train.values, y_train,epochs=3,verbose=0,validation_data=(X_test.values, y_test))"
   ]
  },
  {
   "cell_type": "markdown",
   "id": "1fb095ac",
   "metadata": {},
   "source": [
    "# Grafico evolución en función de epocs"
   ]
  },
  {
   "cell_type": "code",
   "execution_count": null,
   "id": "374fecca",
   "metadata": {},
   "outputs": [],
   "source": [
    "fig = plt.figure(figsize=(12, 6), dpi=100)\n",
    "plt.ylabel(\"Accuracy\")\n",
    "plt.xlabel(\"epoc\")\n",
    "plt.plot(history.history[\"accuracy\"], label=\"training\")\n",
    "plt.plot(history.history[\"val_accuracy\"], label=\"validation\")\n",
    "plt.legend()"
   ]
  },
  {
   "cell_type": "markdown",
   "id": "cc843f21",
   "metadata": {},
   "source": [
    "# Busco bajar el learning rate porque esta over shootiando, poner mas epocs y regularizo también"
   ]
  },
  {
   "cell_type": "code",
   "execution_count": null,
   "id": "ce79693c",
   "metadata": {},
   "outputs": [],
   "source": [
    "from keras.regularizers import l2"
   ]
  },
  {
   "cell_type": "code",
   "execution_count": null,
   "id": "b21c0731",
   "metadata": {},
   "outputs": [],
   "source": [
    "num_clases = 2\n",
    "model = Sequential()\n",
    "model.add(Dense(16, input_shape=(40,), activation='relu', kernel_regularizer=l2(0.001)))\n",
    "#model.add(Dropout(0.25))\n",
    "model.add(Dense(8, activation='relu', kernel_regularizer=l2(0.001)))\n",
    "#model.add(Dropout(0.25))\n",
    "model.add(Dense(4, activation='relu', kernel_regularizer=l2(0.001)))\n",
    "model.add(Dense(num_clases, activation=\"softmax\"))\n",
    "\n",
    "\n",
    "\n"
   ]
  },
  {
   "cell_type": "code",
   "execution_count": null,
   "id": "5cdb33eb",
   "metadata": {},
   "outputs": [],
   "source": [
    "#opt = RMSprop(lr=0.0001)\n",
    "opt = tensorflow.keras.optimizers.RMSprop(lr=0.0001)\n",
    "model.compile(loss='categorical_crossentropy', optimizer=opt, metrics=['accuracy',\"AUC\"])\n",
    "model.summary()"
   ]
  },
  {
   "cell_type": "code",
   "execution_count": null,
   "id": "5f0db171",
   "metadata": {},
   "outputs": [],
   "source": [
    "history = model.fit(X_train.values, y_train,verbose = 1,epochs = 100,validation_data=(X_test.values, y_test))"
   ]
  },
  {
   "cell_type": "code",
   "execution_count": null,
   "id": "2c682dfb",
   "metadata": {},
   "outputs": [],
   "source": [
    "fig = plt.figure(figsize=(12, 6), dpi=100)\n",
    "plt.ylabel(\"Accuracy\")\n",
    "plt.xlabel(\"epoc\")\n",
    "plt.plot(history.history[\"accuracy\"], label=\"training\")\n",
    "plt.plot(history.history[\"val_accuracy\"], label=\"validation\")\n",
    "plt.legend()"
   ]
  },
  {
   "cell_type": "code",
   "execution_count": null,
   "id": "1ff238fb",
   "metadata": {},
   "outputs": [],
   "source": [
    "fig = plt.figure(figsize=(12, 6), dpi=100)\n",
    "plt.ylabel(\"AUC\")\n",
    "plt.xlabel(\"epoc\")\n",
    "plt.plot(history.history[\"auc\"], label=\"training\")\n",
    "plt.plot(history.history[\"val_auc\"], label=\"validation\")\n",
    "plt.legend()"
   ]
  },
  {
   "cell_type": "code",
   "execution_count": null,
   "id": "8f81d5d2",
   "metadata": {},
   "outputs": [],
   "source": [
    "y_test =  y_test[:,1]\n"
   ]
  },
  {
   "cell_type": "code",
   "execution_count": null,
   "id": "31d0d32b",
   "metadata": {},
   "outputs": [],
   "source": [
    "y_train = y_train[:,1]"
   ]
  },
  {
   "cell_type": "code",
   "execution_count": null,
   "id": "85afdd1e",
   "metadata": {},
   "outputs": [],
   "source": [
    "#y_pred = model.predict(X_test)[:,1]"
   ]
  },
  {
   "cell_type": "code",
   "execution_count": null,
   "id": "ed6db2b7",
   "metadata": {},
   "outputs": [],
   "source": [
    "y_pred = np.argmax(model.predict(X_test), axis=-1)\n",
    "y_pred"
   ]
  },
  {
   "cell_type": "code",
   "execution_count": null,
   "id": "8272c85a",
   "metadata": {},
   "outputs": [],
   "source": [
    "y_test"
   ]
  },
  {
   "cell_type": "code",
   "execution_count": null,
   "id": "31123b82",
   "metadata": {},
   "outputs": [],
   "source": [
    "y_train"
   ]
  },
  {
   "cell_type": "code",
   "execution_count": null,
   "id": "95336114",
   "metadata": {},
   "outputs": [],
   "source": [
    "print(\"AUC-ROC score sobre test: \", \"%0.16f\"  % roc_auc_score(y_test, model.predict(X_test)[:,1]))\n",
    "print(\"AUC-ROC score sobre train: \", \"%0.16f\"  % roc_auc_score(y_train, model.predict(X_train)[:,1]))\n",
    "print(\"Accuracy sobre test: \", \"%0.16f\"  % accuracy_score(y_pred, y_test))\n",
    "print(classification_report(y_pred, y_test, target_names=[\"Bajo valor\", \"Alto valor\"]))\n",
    "graficar_matriz_confusion(y_test, y_pred)\n",
    "plot_roc_curves(model, X_test, y_test, X_train, y_train)"
   ]
  },
  {
   "cell_type": "code",
   "execution_count": null,
   "id": "eff80df5",
   "metadata": {},
   "outputs": [],
   "source": [
    "prediccion = model.predict(X_train)"
   ]
  },
  {
   "cell_type": "code",
   "execution_count": null,
   "id": "10dee06e",
   "metadata": {},
   "outputs": [],
   "source": [
    "prediccion[:20]"
   ]
  },
  {
   "cell_type": "markdown",
   "id": "743a786b",
   "metadata": {},
   "source": [
    "# Conclusion parcial"
   ]
  },
  {
   "cell_type": "markdown",
   "id": "5d933cd4",
   "metadata": {},
   "source": [
    "Como dato: probe varios optimizadores y varios learning rates y varias configuraciones de redes. El optimizador es este o el adam. El learning rate mas chicho no sirve y mas grande overshootea mucho. La red si la complejizas mas se va todo a la mierda rapidamente"
   ]
  }
 ],
 "metadata": {
  "kernelspec": {
   "display_name": "Python 3",
   "language": "python",
   "name": "python3"
  },
  "language_info": {
   "codemirror_mode": {
    "name": "ipython",
    "version": 3
   },
   "file_extension": ".py",
   "mimetype": "text/x-python",
   "name": "python",
   "nbconvert_exporter": "python",
   "pygments_lexer": "ipython3",
   "version": "3.8.10"
  },
  "toc-autonumbering": true
 },
 "nbformat": 4,
 "nbformat_minor": 5
}
