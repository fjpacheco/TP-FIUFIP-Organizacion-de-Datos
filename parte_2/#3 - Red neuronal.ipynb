{
 "cells": [
  {
   "cell_type": "markdown",
   "id": "73a9c4a8",
   "metadata": {},
   "source": [
    "# Comenzamos primero con la carga de librerias necesarias para el entrenamiento del modelo"
   ]
  },
  {
   "cell_type": "code",
   "execution_count": 1,
   "id": "42ac9aae",
   "metadata": {},
   "outputs": [
    {
     "name": "stderr",
     "output_type": "stream",
     "text": [
      "Using TensorFlow backend.\n"
     ]
    }
   ],
   "source": [
    "import pandas\n",
    "import matplotlib.pyplot as plt\n",
    "import keras\n",
    "import tensorflow.keras.optimizers\n",
    "from tensorflow.keras.optimizers import RMSprop\n",
    "from tensorflow.keras.models import Sequential\n",
    "from tensorflow.keras.layers import Dense #, Dropout\n",
    "from tensorflow.keras.wrappers.scikit_learn import KerasRegressor\n",
    "from sklearn.model_selection import train_test_split\n",
    "from sklearn.metrics import classification_report\n",
    "from sklearn.metrics import confusion_matrix\n",
    "from sklearn.metrics import roc_curve, auc\n",
    "from sklearn.metrics import roc_auc_score\n",
    "from sklearn.metrics import accuracy_score, roc_auc_score"
   ]
  },
  {
   "cell_type": "markdown",
   "id": "5086b2f1",
   "metadata": {},
   "source": [
    "# Primer preprocesamiento simple, acorde al TP1"
   ]
  },
  {
   "cell_type": "code",
   "execution_count": 4,
   "id": "ee1d10dd",
   "metadata": {},
   "outputs": [],
   "source": [
    "from preprocessing import obtener_datasets\n",
    "from preprocessing import aplicar_preparacion\n",
    "from preprocessing import conversion_numerica\n",
    "from preprocessing import plot_roc_curves\n",
    "from preprocessing import graficar_matriz_confusion\n",
    "\n",
    "df, df_holdout = obtener_datasets()\n",
    "X_df, y_df = aplicar_preparacion(df)\n",
    "\n",
    "\n",
    "# acá solo convierto simplemente a numerico.. primer preprocessing!\n",
    "X_df = conversion_numerica(X_df) \n"
   ]
  },
  {
   "cell_type": "code",
   "execution_count": 5,
   "id": "526c3b23",
   "metadata": {},
   "outputs": [],
   "source": [
    "X_train, X_test, y_train, y_test = train_test_split(X_df, y_df, test_size=0.2, random_state=30,stratify=y_df)"
   ]
  },
  {
   "cell_type": "markdown",
   "id": "8d262b17",
   "metadata": {},
   "source": [
    "## Por el momento solo aplico ese primer preprocesamiento"
   ]
  },
  {
   "cell_type": "code",
   "execution_count": 6,
   "id": "a05b420e",
   "metadata": {},
   "outputs": [
    {
     "data": {
      "text/html": [
       "<div>\n",
       "<style scoped>\n",
       "    .dataframe tbody tr th:only-of-type {\n",
       "        vertical-align: middle;\n",
       "    }\n",
       "\n",
       "    .dataframe tbody tr th {\n",
       "        vertical-align: top;\n",
       "    }\n",
       "\n",
       "    .dataframe thead th {\n",
       "        text-align: right;\n",
       "    }\n",
       "</style>\n",
       "<table border=\"1\" class=\"dataframe\">\n",
       "  <thead>\n",
       "    <tr style=\"text-align: right;\">\n",
       "      <th></th>\n",
       "      <th>anios_estudiados</th>\n",
       "      <th>edad</th>\n",
       "      <th>educacion_alcanzada</th>\n",
       "      <th>suma_declarada_bolsa_argentina</th>\n",
       "      <th>horas_trabajo_registradas</th>\n",
       "      <th>genero_mujer</th>\n",
       "      <th>estado_marital_matrimonio_civil</th>\n",
       "      <th>estado_marital_matrimonio_militar</th>\n",
       "      <th>estado_marital_pareja_no_presente</th>\n",
       "      <th>estado_marital_separado_a</th>\n",
       "      <th>...</th>\n",
       "      <th>categoria_de_trabajo_sin_trabajo</th>\n",
       "      <th>categoria_de_trabajo_trabajo_voluntariado</th>\n",
       "      <th>religion_budismo</th>\n",
       "      <th>religion_cristianismo</th>\n",
       "      <th>religion_judaismo</th>\n",
       "      <th>religion_otro</th>\n",
       "      <th>rol_familiar_registrado_con_hijos</th>\n",
       "      <th>rol_familiar_registrado_otro</th>\n",
       "      <th>rol_familiar_registrado_sin_familia</th>\n",
       "      <th>rol_familiar_registrado_soltero_a</th>\n",
       "    </tr>\n",
       "  </thead>\n",
       "  <tbody>\n",
       "    <tr>\n",
       "      <th>0</th>\n",
       "      <td>17</td>\n",
       "      <td>39</td>\n",
       "      <td>5</td>\n",
       "      <td>2174</td>\n",
       "      <td>40</td>\n",
       "      <td>0</td>\n",
       "      <td>0</td>\n",
       "      <td>0</td>\n",
       "      <td>0</td>\n",
       "      <td>0</td>\n",
       "      <td>...</td>\n",
       "      <td>0</td>\n",
       "      <td>0</td>\n",
       "      <td>0</td>\n",
       "      <td>1</td>\n",
       "      <td>0</td>\n",
       "      <td>0</td>\n",
       "      <td>0</td>\n",
       "      <td>0</td>\n",
       "      <td>1</td>\n",
       "      <td>0</td>\n",
       "    </tr>\n",
       "    <tr>\n",
       "      <th>1</th>\n",
       "      <td>17</td>\n",
       "      <td>50</td>\n",
       "      <td>5</td>\n",
       "      <td>0</td>\n",
       "      <td>13</td>\n",
       "      <td>0</td>\n",
       "      <td>1</td>\n",
       "      <td>0</td>\n",
       "      <td>0</td>\n",
       "      <td>0</td>\n",
       "      <td>...</td>\n",
       "      <td>0</td>\n",
       "      <td>0</td>\n",
       "      <td>0</td>\n",
       "      <td>1</td>\n",
       "      <td>0</td>\n",
       "      <td>0</td>\n",
       "      <td>0</td>\n",
       "      <td>0</td>\n",
       "      <td>0</td>\n",
       "      <td>0</td>\n",
       "    </tr>\n",
       "    <tr>\n",
       "      <th>2</th>\n",
       "      <td>13</td>\n",
       "      <td>38</td>\n",
       "      <td>4</td>\n",
       "      <td>0</td>\n",
       "      <td>40</td>\n",
       "      <td>0</td>\n",
       "      <td>0</td>\n",
       "      <td>0</td>\n",
       "      <td>0</td>\n",
       "      <td>0</td>\n",
       "      <td>...</td>\n",
       "      <td>0</td>\n",
       "      <td>0</td>\n",
       "      <td>0</td>\n",
       "      <td>1</td>\n",
       "      <td>0</td>\n",
       "      <td>0</td>\n",
       "      <td>0</td>\n",
       "      <td>0</td>\n",
       "      <td>1</td>\n",
       "      <td>0</td>\n",
       "    </tr>\n",
       "    <tr>\n",
       "      <th>3</th>\n",
       "      <td>11</td>\n",
       "      <td>53</td>\n",
       "      <td>3</td>\n",
       "      <td>0</td>\n",
       "      <td>40</td>\n",
       "      <td>0</td>\n",
       "      <td>1</td>\n",
       "      <td>0</td>\n",
       "      <td>0</td>\n",
       "      <td>0</td>\n",
       "      <td>...</td>\n",
       "      <td>0</td>\n",
       "      <td>0</td>\n",
       "      <td>0</td>\n",
       "      <td>0</td>\n",
       "      <td>1</td>\n",
       "      <td>0</td>\n",
       "      <td>0</td>\n",
       "      <td>0</td>\n",
       "      <td>0</td>\n",
       "      <td>0</td>\n",
       "    </tr>\n",
       "    <tr>\n",
       "      <th>4</th>\n",
       "      <td>17</td>\n",
       "      <td>28</td>\n",
       "      <td>5</td>\n",
       "      <td>0</td>\n",
       "      <td>40</td>\n",
       "      <td>1</td>\n",
       "      <td>1</td>\n",
       "      <td>0</td>\n",
       "      <td>0</td>\n",
       "      <td>0</td>\n",
       "      <td>...</td>\n",
       "      <td>0</td>\n",
       "      <td>0</td>\n",
       "      <td>0</td>\n",
       "      <td>0</td>\n",
       "      <td>1</td>\n",
       "      <td>0</td>\n",
       "      <td>0</td>\n",
       "      <td>0</td>\n",
       "      <td>0</td>\n",
       "      <td>0</td>\n",
       "    </tr>\n",
       "    <tr>\n",
       "      <th>...</th>\n",
       "      <td>...</td>\n",
       "      <td>...</td>\n",
       "      <td>...</td>\n",
       "      <td>...</td>\n",
       "      <td>...</td>\n",
       "      <td>...</td>\n",
       "      <td>...</td>\n",
       "      <td>...</td>\n",
       "      <td>...</td>\n",
       "      <td>...</td>\n",
       "      <td>...</td>\n",
       "      <td>...</td>\n",
       "      <td>...</td>\n",
       "      <td>...</td>\n",
       "      <td>...</td>\n",
       "      <td>...</td>\n",
       "      <td>...</td>\n",
       "      <td>...</td>\n",
       "      <td>...</td>\n",
       "      <td>...</td>\n",
       "      <td>...</td>\n",
       "    </tr>\n",
       "    <tr>\n",
       "      <th>32556</th>\n",
       "      <td>16</td>\n",
       "      <td>27</td>\n",
       "      <td>5</td>\n",
       "      <td>0</td>\n",
       "      <td>38</td>\n",
       "      <td>1</td>\n",
       "      <td>1</td>\n",
       "      <td>0</td>\n",
       "      <td>0</td>\n",
       "      <td>0</td>\n",
       "      <td>...</td>\n",
       "      <td>0</td>\n",
       "      <td>0</td>\n",
       "      <td>0</td>\n",
       "      <td>1</td>\n",
       "      <td>0</td>\n",
       "      <td>0</td>\n",
       "      <td>0</td>\n",
       "      <td>0</td>\n",
       "      <td>0</td>\n",
       "      <td>0</td>\n",
       "    </tr>\n",
       "    <tr>\n",
       "      <th>32557</th>\n",
       "      <td>13</td>\n",
       "      <td>40</td>\n",
       "      <td>4</td>\n",
       "      <td>0</td>\n",
       "      <td>40</td>\n",
       "      <td>0</td>\n",
       "      <td>1</td>\n",
       "      <td>0</td>\n",
       "      <td>0</td>\n",
       "      <td>0</td>\n",
       "      <td>...</td>\n",
       "      <td>0</td>\n",
       "      <td>0</td>\n",
       "      <td>0</td>\n",
       "      <td>1</td>\n",
       "      <td>0</td>\n",
       "      <td>0</td>\n",
       "      <td>0</td>\n",
       "      <td>0</td>\n",
       "      <td>0</td>\n",
       "      <td>0</td>\n",
       "    </tr>\n",
       "    <tr>\n",
       "      <th>32558</th>\n",
       "      <td>13</td>\n",
       "      <td>58</td>\n",
       "      <td>4</td>\n",
       "      <td>0</td>\n",
       "      <td>40</td>\n",
       "      <td>1</td>\n",
       "      <td>0</td>\n",
       "      <td>0</td>\n",
       "      <td>0</td>\n",
       "      <td>0</td>\n",
       "      <td>...</td>\n",
       "      <td>0</td>\n",
       "      <td>0</td>\n",
       "      <td>0</td>\n",
       "      <td>1</td>\n",
       "      <td>0</td>\n",
       "      <td>0</td>\n",
       "      <td>0</td>\n",
       "      <td>0</td>\n",
       "      <td>0</td>\n",
       "      <td>1</td>\n",
       "    </tr>\n",
       "    <tr>\n",
       "      <th>32559</th>\n",
       "      <td>13</td>\n",
       "      <td>22</td>\n",
       "      <td>4</td>\n",
       "      <td>0</td>\n",
       "      <td>20</td>\n",
       "      <td>0</td>\n",
       "      <td>0</td>\n",
       "      <td>0</td>\n",
       "      <td>0</td>\n",
       "      <td>0</td>\n",
       "      <td>...</td>\n",
       "      <td>0</td>\n",
       "      <td>0</td>\n",
       "      <td>0</td>\n",
       "      <td>1</td>\n",
       "      <td>0</td>\n",
       "      <td>0</td>\n",
       "      <td>1</td>\n",
       "      <td>0</td>\n",
       "      <td>0</td>\n",
       "      <td>0</td>\n",
       "    </tr>\n",
       "    <tr>\n",
       "      <th>32560</th>\n",
       "      <td>13</td>\n",
       "      <td>52</td>\n",
       "      <td>4</td>\n",
       "      <td>15024</td>\n",
       "      <td>40</td>\n",
       "      <td>1</td>\n",
       "      <td>1</td>\n",
       "      <td>0</td>\n",
       "      <td>0</td>\n",
       "      <td>0</td>\n",
       "      <td>...</td>\n",
       "      <td>0</td>\n",
       "      <td>0</td>\n",
       "      <td>0</td>\n",
       "      <td>1</td>\n",
       "      <td>0</td>\n",
       "      <td>0</td>\n",
       "      <td>0</td>\n",
       "      <td>0</td>\n",
       "      <td>0</td>\n",
       "      <td>0</td>\n",
       "    </tr>\n",
       "  </tbody>\n",
       "</table>\n",
       "<p>32561 rows × 40 columns</p>\n",
       "</div>"
      ],
      "text/plain": [
       "       anios_estudiados  edad  educacion_alcanzada  \\\n",
       "0                    17    39                    5   \n",
       "1                    17    50                    5   \n",
       "2                    13    38                    4   \n",
       "3                    11    53                    3   \n",
       "4                    17    28                    5   \n",
       "...                 ...   ...                  ...   \n",
       "32556                16    27                    5   \n",
       "32557                13    40                    4   \n",
       "32558                13    58                    4   \n",
       "32559                13    22                    4   \n",
       "32560                13    52                    4   \n",
       "\n",
       "       suma_declarada_bolsa_argentina  horas_trabajo_registradas  \\\n",
       "0                                2174                         40   \n",
       "1                                   0                         13   \n",
       "2                                   0                         40   \n",
       "3                                   0                         40   \n",
       "4                                   0                         40   \n",
       "...                               ...                        ...   \n",
       "32556                               0                         38   \n",
       "32557                               0                         40   \n",
       "32558                               0                         40   \n",
       "32559                               0                         20   \n",
       "32560                           15024                         40   \n",
       "\n",
       "       genero_mujer  estado_marital_matrimonio_civil  \\\n",
       "0                 0                                0   \n",
       "1                 0                                1   \n",
       "2                 0                                0   \n",
       "3                 0                                1   \n",
       "4                 1                                1   \n",
       "...             ...                              ...   \n",
       "32556             1                                1   \n",
       "32557             0                                1   \n",
       "32558             1                                0   \n",
       "32559             0                                0   \n",
       "32560             1                                1   \n",
       "\n",
       "       estado_marital_matrimonio_militar  estado_marital_pareja_no_presente  \\\n",
       "0                                      0                                  0   \n",
       "1                                      0                                  0   \n",
       "2                                      0                                  0   \n",
       "3                                      0                                  0   \n",
       "4                                      0                                  0   \n",
       "...                                  ...                                ...   \n",
       "32556                                  0                                  0   \n",
       "32557                                  0                                  0   \n",
       "32558                                  0                                  0   \n",
       "32559                                  0                                  0   \n",
       "32560                                  0                                  0   \n",
       "\n",
       "       estado_marital_separado_a  ...  categoria_de_trabajo_sin_trabajo  \\\n",
       "0                              0  ...                                 0   \n",
       "1                              0  ...                                 0   \n",
       "2                              0  ...                                 0   \n",
       "3                              0  ...                                 0   \n",
       "4                              0  ...                                 0   \n",
       "...                          ...  ...                               ...   \n",
       "32556                          0  ...                                 0   \n",
       "32557                          0  ...                                 0   \n",
       "32558                          0  ...                                 0   \n",
       "32559                          0  ...                                 0   \n",
       "32560                          0  ...                                 0   \n",
       "\n",
       "       categoria_de_trabajo_trabajo_voluntariado  religion_budismo  \\\n",
       "0                                              0                 0   \n",
       "1                                              0                 0   \n",
       "2                                              0                 0   \n",
       "3                                              0                 0   \n",
       "4                                              0                 0   \n",
       "...                                          ...               ...   \n",
       "32556                                          0                 0   \n",
       "32557                                          0                 0   \n",
       "32558                                          0                 0   \n",
       "32559                                          0                 0   \n",
       "32560                                          0                 0   \n",
       "\n",
       "       religion_cristianismo  religion_judaismo  religion_otro  \\\n",
       "0                          1                  0              0   \n",
       "1                          1                  0              0   \n",
       "2                          1                  0              0   \n",
       "3                          0                  1              0   \n",
       "4                          0                  1              0   \n",
       "...                      ...                ...            ...   \n",
       "32556                      1                  0              0   \n",
       "32557                      1                  0              0   \n",
       "32558                      1                  0              0   \n",
       "32559                      1                  0              0   \n",
       "32560                      1                  0              0   \n",
       "\n",
       "       rol_familiar_registrado_con_hijos  rol_familiar_registrado_otro  \\\n",
       "0                                      0                             0   \n",
       "1                                      0                             0   \n",
       "2                                      0                             0   \n",
       "3                                      0                             0   \n",
       "4                                      0                             0   \n",
       "...                                  ...                           ...   \n",
       "32556                                  0                             0   \n",
       "32557                                  0                             0   \n",
       "32558                                  0                             0   \n",
       "32559                                  1                             0   \n",
       "32560                                  0                             0   \n",
       "\n",
       "       rol_familiar_registrado_sin_familia  rol_familiar_registrado_soltero_a  \n",
       "0                                        1                                  0  \n",
       "1                                        0                                  0  \n",
       "2                                        1                                  0  \n",
       "3                                        0                                  0  \n",
       "4                                        0                                  0  \n",
       "...                                    ...                                ...  \n",
       "32556                                    0                                  0  \n",
       "32557                                    0                                  0  \n",
       "32558                                    0                                  1  \n",
       "32559                                    0                                  0  \n",
       "32560                                    0                                  0  \n",
       "\n",
       "[32561 rows x 40 columns]"
      ]
     },
     "execution_count": 6,
     "metadata": {},
     "output_type": "execute_result"
    }
   ],
   "source": [
    "X_df"
   ]
  },
  {
   "cell_type": "markdown",
   "id": "26c13e85",
   "metadata": {},
   "source": [
    "# En primer lugar diseño la red"
   ]
  },
  {
   "cell_type": "code",
   "execution_count": 7,
   "id": "44ef3511",
   "metadata": {},
   "outputs": [
    {
     "name": "stdout",
     "output_type": "stream",
     "text": [
      "Model: \"sequential\"\n",
      "_________________________________________________________________\n",
      "Layer (type)                 Output Shape              Param #   \n",
      "=================================================================\n",
      "dense (Dense)                (None, 8)                 328       \n",
      "_________________________________________________________________\n",
      "dense_1 (Dense)              (None, 2)                 18        \n",
      "=================================================================\n",
      "Total params: 346\n",
      "Trainable params: 346\n",
      "Non-trainable params: 0\n",
      "_________________________________________________________________\n"
     ]
    }
   ],
   "source": [
    "num_classes = 2\n",
    "\n",
    "model = Sequential()\n",
    "model.add(Dense(8,input_shape = (40,),activation='tanh'))\n",
    "model.add(Dense(num_classes, activation=\"softmax\"))\n",
    "\n",
    "model.compile(loss='categorical_crossentropy', optimizer='adam',metrics=['accuracy'])\n",
    "model.summary()"
   ]
  },
  {
   "cell_type": "markdown",
   "id": "3a9bf613",
   "metadata": {},
   "source": [
    "# Ya tengo el primer modelo compilado voy a entrenarlo"
   ]
  },
  {
   "cell_type": "code",
   "execution_count": 8,
   "id": "4023bee1",
   "metadata": {},
   "outputs": [],
   "source": [
    "y_train = keras.utils.to_categorical(y_train, 2)\n",
    "y_test = keras.utils.to_categorical(y_test, 2)"
   ]
  },
  {
   "cell_type": "code",
   "execution_count": 9,
   "id": "869bca93",
   "metadata": {},
   "outputs": [],
   "source": [
    "history = model.fit(X_train.values, y_train,epochs=3,verbose=0,validation_data=(X_test.values, y_test))"
   ]
  },
  {
   "cell_type": "markdown",
   "id": "884b9054",
   "metadata": {},
   "source": [
    "# Grafico evolución en función de epocs"
   ]
  },
  {
   "cell_type": "code",
   "execution_count": 10,
   "id": "1a6b79e7",
   "metadata": {},
   "outputs": [
    {
     "data": {
      "text/plain": [
       "<matplotlib.legend.Legend at 0x7f0efcde7a00>"
      ]
     },
     "execution_count": 10,
     "metadata": {},
     "output_type": "execute_result"
    },
    {
     "data": {
      "image/png": "[encoded data removed]",
      "text/plain": [
       "<Figure size 1200x600 with 1 Axes>"
      ]
     },
     "metadata": {
      "needs_background": "light"
     },
     "output_type": "display_data"
    }
   ],
   "source": [
    "fig = plt.figure(figsize=(12, 6), dpi=100)\n",
    "plt.ylabel(\"Accuracy\")\n",
    "plt.xlabel(\"epoc\")\n",
    "plt.plot(history.history[\"accuracy\"], label=\"training\")\n",
    "plt.plot(history.history[\"val_accuracy\"], label=\"validation\")\n",
    "plt.legend()"
   ]
  },
  {
   "cell_type": "markdown",
   "id": "2e66fb06",
   "metadata": {},
   "source": [
    "# Busco bajar el learning rate porque esta over shootiando, poner mas epocs y regularizo también"
   ]
  },
  {
   "cell_type": "code",
   "execution_count": 11,
   "id": "411089f5",
   "metadata": {},
   "outputs": [],
   "source": [
    "from keras.regularizers import l2"
   ]
  },
  {
   "cell_type": "code",
   "execution_count": 14,
   "id": "1c088203",
   "metadata": {},
   "outputs": [],
   "source": [
    "num_clases = 2\n",
    "model = Sequential()\n",
    "model.add(Dense(16, input_shape=(40,), activation='tanh', kernel_regularizer=l2(0.001)))\n",
    "#model.add(Dropout(0.25))\n",
    "model.add(Dense(8, activation='tanh', kernel_regularizer=l2(0.001)))\n",
    "#model.add(Dropout(0.25))\n",
    "model.add(Dense(4, activation='tanh', kernel_regularizer=l2(0.001)))\n",
    "model.add(Dense(num_clases, activation=\"softmax\"))\n",
    "\n",
    "\n",
    "\n"
   ]
  },
  {
   "cell_type": "code",
   "execution_count": 15,
   "id": "11996fe3",
   "metadata": {},
   "outputs": [
    {
     "name": "stdout",
     "output_type": "stream",
     "text": [
      "Model: \"sequential_2\"\n",
      "_________________________________________________________________\n",
      "Layer (type)                 Output Shape              Param #   \n",
      "=================================================================\n",
      "dense_6 (Dense)              (None, 16)                656       \n",
      "_________________________________________________________________\n",
      "dense_7 (Dense)              (None, 8)                 136       \n",
      "_________________________________________________________________\n",
      "dense_8 (Dense)              (None, 4)                 36        \n",
      "_________________________________________________________________\n",
      "dense_9 (Dense)              (None, 2)                 10        \n",
      "=================================================================\n",
      "Total params: 838\n",
      "Trainable params: 838\n",
      "Non-trainable params: 0\n",
      "_________________________________________________________________\n"
     ]
    }
   ],
   "source": [
    "#opt = RMSprop(lr=0.0001)\n",
    "opt = tensorflow.keras.optimizers.RMSprop(lr=0.001)\n",
    "model.compile(loss='categorical_crossentropy', optimizer=opt, metrics=['accuracy',\"AUC\",\"Precision\",\"Recall\"])\n",
    "model.summary()"
   ]
  },
  {
   "cell_type": "code",
   "execution_count": null,
   "id": "18fbb679",
   "metadata": {},
   "outputs": [
    {
     "name": "stdout",
     "output_type": "stream",
     "text": [
      "Epoch 1/100\n",
      "814/814 [==============================] - 6s 6ms/step - loss: 0.5065 - accuracy: 0.7751 - auc: 0.8509 - precision: 0.7751 - recall: 0.7751 - val_loss: 0.4064 - val_accuracy: 0.8181 - val_auc: 0.9088 - val_precision: 0.8181 - val_recall: 0.8181\n",
      "Epoch 2/100\n",
      "814/814 [==============================] - 3s 4ms/step - loss: 0.4414 - accuracy: 0.7974 - auc: 0.8885 - precision: 0.7974 - recall: 0.7974 - val_loss: 0.4051 - val_accuracy: 0.8207 - val_auc: 0.9075 - val_precision: 0.8207 - val_recall: 0.8207\n",
      "Epoch 3/100\n",
      "814/814 [==============================] - 4s 5ms/step - loss: 0.4130 - accuracy: 0.8077 - auc: 0.9020 - precision: 0.8077 - recall: 0.8077 - val_loss: 0.4174 - val_accuracy: 0.7860 - val_auc: 0.8981 - val_precision: 0.7860 - val_recall: 0.7860\n",
      "Epoch 4/100\n",
      "814/814 [==============================] - 4s 4ms/step - loss: 0.4134 - accuracy: 0.8080 - auc: 0.9015 - precision: 0.8080 - recall: 0.8080 - val_loss: 0.3832 - val_accuracy: 0.8222 - val_auc: 0.9157 - val_precision: 0.8222 - val_recall: 0.8222\n",
      "Epoch 5/100\n",
      "615/814 [=====================>........] - ETA: 0s - loss: 0.3996 - accuracy: 0.8079 - auc: 0.9067 - precision: 0.8079 - recall: 0.8079"
     ]
    }
   ],
   "source": [
    "history = model.fit(X_train.values, y_train,epochs=100,verbose=1,validation_data=(X_test.values, y_test))"
   ]
  },
  {
   "cell_type": "code",
   "execution_count": null,
   "id": "b68c6bf0",
   "metadata": {},
   "outputs": [],
   "source": [
    "fig = plt.figure(figsize=(12, 6), dpi=100)\n",
    "plt.ylabel(\"Accuracy\")\n",
    "plt.xlabel(\"epoc\")\n",
    "plt.plot(history.history[\"accuracy\"], label=\"training\")\n",
    "plt.plot(history.history[\"val_accuracy\"], label=\"validation\")\n",
    "plt.legend()"
   ]
  },
  {
   "cell_type": "code",
   "execution_count": null,
   "id": "09931b3d",
   "metadata": {},
   "outputs": [],
   "source": [
    "fig = plt.figure(figsize=(12, 6), dpi=100)\n",
    "plt.ylabel(\"AUC\")\n",
    "plt.xlabel(\"epoc\")\n",
    "plt.plot(history.history[\"auc\"], label=\"training\")\n",
    "plt.plot(history.history[\"val_auc\"], label=\"validation\")\n",
    "plt.legend()"
   ]
  },
  {
   "cell_type": "markdown",
   "id": "e5d4451f",
   "metadata": {},
   "source": [
    "# Evaluo Modelo"
   ]
  },
  {
   "cell_type": "code",
   "execution_count": null,
   "id": "f46c92a3",
   "metadata": {},
   "outputs": [],
   "source": []
  },
  {
   "cell_type": "code",
   "execution_count": 2,
   "id": "33661dd4",
   "metadata": {},
   "outputs": [
    {
     "ename": "NameError",
     "evalue": "name 'model' is not defined",
     "output_type": "error",
     "traceback": [
      "\u001b[0;31m---------------------------------------------------------------------------\u001b[0m",
      "\u001b[0;31mNameError\u001b[0m                                 Traceback (most recent call last)",
      "\u001b[0;32m<ipython-input-2-89be2c413613>\u001b[0m in \u001b[0;36m<module>\u001b[0;34m\u001b[0m\n\u001b[0;32m----> 1\u001b[0;31m \u001b[0mprediccion\u001b[0m \u001b[0;34m=\u001b[0m \u001b[0mmodel\u001b[0m\u001b[0;34m.\u001b[0m\u001b[0mpredict\u001b[0m\u001b[0;34m(\u001b[0m\u001b[0mX_train\u001b[0m\u001b[0;34m)\u001b[0m\u001b[0;34m\u001b[0m\u001b[0;34m\u001b[0m\u001b[0m\n\u001b[0m",
      "\u001b[0;31mNameError\u001b[0m: name 'model' is not defined"
     ]
    }
   ],
   "source": [
    "prediccion = model.predict(X_train)"
   ]
  },
  {
   "cell_type": "code",
   "execution_count": 1,
   "id": "f0ed5b0b",
   "metadata": {},
   "outputs": [
    {
     "ename": "NameError",
     "evalue": "name 'prediccion' is not defined",
     "output_type": "error",
     "traceback": [
      "\u001b[0;31m---------------------------------------------------------------------------\u001b[0m",
      "\u001b[0;31mNameError\u001b[0m                                 Traceback (most recent call last)",
      "\u001b[0;32m<ipython-input-1-d9bdceafb141>\u001b[0m in \u001b[0;36m<module>\u001b[0;34m\u001b[0m\n\u001b[0;32m----> 1\u001b[0;31m \u001b[0mprediccion\u001b[0m\u001b[0;34m[\u001b[0m\u001b[0;34m:\u001b[0m\u001b[0;36m20\u001b[0m\u001b[0;34m]\u001b[0m\u001b[0;34m\u001b[0m\u001b[0;34m\u001b[0m\u001b[0m\n\u001b[0m",
      "\u001b[0;31mNameError\u001b[0m: name 'prediccion' is not defined"
     ]
    }
   ],
   "source": [
    "prediccion[:20]"
   ]
  },
  {
   "cell_type": "markdown",
   "id": "15fe0068",
   "metadata": {},
   "source": [
    "# Conclusion parcial"
   ]
  },
  {
   "cell_type": "markdown",
   "id": "44424237",
   "metadata": {},
   "source": [
    "Como dato: probe varios optimizadores y varios learning rates y varias configuraciones de redes. El optimizador es este o el adam. El learning rate mas chicho no sirve y mas grande overshootea mucho. La red si la complejizas mas se va todo a la mierda rapidamente"
   ]
  }
 ],
 "metadata": {
  "kernelspec": {
   "display_name": "Python 3",
   "language": "python",
   "name": "python3"
  },
  "language_info": {
   "codemirror_mode": {
    "name": "ipython",
    "version": 3
   },
   "file_extension": ".py",
   "mimetype": "text/x-python",
   "name": "python",
   "nbconvert_exporter": "python",
   "pygments_lexer": "ipython3",
   "version": "3.8.10"
  }
 },
 "nbformat": 4,
 "nbformat_minor": 5
}
