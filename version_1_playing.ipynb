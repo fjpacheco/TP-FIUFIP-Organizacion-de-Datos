{
 "cells": [
  {
   "cell_type": "markdown",
   "id": "a82a875d-2a5b-49ce-833e-cd86f4597471",
   "metadata": {},
   "source": [
    "## Introducción"
   ]
  },
  {
   "cell_type": "markdown",
   "id": "faf533a7-8c6c-494f-bd9c-e89b7b2d0fa7",
   "metadata": {},
   "source": [
    "Este trabajo consiste en analizar una serie de datos recoletados por la agencia gubernamental de recaudación de impuestos *FIUFIP*.\n",
    "\n",
    "Buscaremos entender como se relacionan estos datos y determinar un metodo de si una persona tiene **altos ingresos** o **bajos ingresos** a partir de los datos recibidos, que consisten en una serie de atributos de la persona que la agencia fue llenando y catalogando a la persona como de altos ingresos o no.\n",
    "\n"
   ]
  },
  {
   "cell_type": "markdown",
   "id": "ee60edbc-34c4-4e91-97ae-4aae81b333da",
   "metadata": {},
   "source": [
    "## Objetivos"
   ]
  },
  {
   "cell_type": "markdown",
   "id": "bfadbb98-0dbe-4c99-af8b-06781008e48f",
   "metadata": {},
   "source": [
    "**Tarea**: explicar qué conclusiones se pueden llegar a partir de analizar los datos recolectados\n",
    "\n",
    "* Saber cómo entender cada uno de los datos\n",
    "* Saber cómo se relacionan entre sí \n",
    "* Saber si se puede sacar alguna conclusión o descubrir un patrón a partir de estos\n",
    "\n",
    "**Adicionalmente**\n",
    "\n",
    "* Saber cuáles son los factores más importantes que determinan si un usuario **tiene altos** o **bajos ingresos** {*varible_target*}.\n",
    "\n",
    "**Baseline**: código simple \n",
    "\n",
    "* intente predecir el target (si el usuario tiene **altos ingresos** o **bajos ingresos**).\n",
    "\n",
    "--- \n",
    "\n",
    "*No quieren nada complicado sino una serie muy simple de decisiones lógicas que les permitan en poco tiempo hacer una primera ronda de campaña digital.*\n",
    "\n",
    "<span style=\"font-weight: bold; color:red\"> DUDA: ¿CAMPAÑA DIGITAL? </span>\n",
    "\n",
    "Se espera que este código simple (baseline) tenga una accuracy aceptable (mayor a ??%) y que esté basada y justificada en la investigación previa.\n",
    "\n",
    "---\n"
   ]
  },
  {
   "cell_type": "markdown",
   "id": "cc5f3981-fd8a-4172-90f7-f67b35e7ac86",
   "metadata": {},
   "source": [
    "## Carga de librerias y dataset"
   ]
  },
  {
   "cell_type": "markdown",
   "id": "489933e0-711a-4915-8ea8-d6b41ec84082",
   "metadata": {},
   "source": [
    "Las librerias necesarias para este notebook serán las siguientes importadas:"
   ]
  },
  {
   "cell_type": "code",
   "execution_count": 1,
   "id": "28d46488-ac1e-4d4c-a077-0757043e2f4d",
   "metadata": {},
   "outputs": [],
   "source": [
    "from collections import Counter # se usará? la saqué del notebook \"pandas introduccion\"\n",
    "import requests # se usará? la saqué del notebook \"pandas introduccion\"\n",
    "\n",
    "import pandas as pd\n",
    "import numpy as np\n",
    "import matplotlib.pyplot as plt\n",
    "import seaborn as sns\n",
    "\n",
    "import plotly.express as px\n",
    "from matplotlib import pyplot as plt\n",
    "from pandas_profiling import ProfileReport\n",
    "\n",
    "from sklearn.feature_extraction import FeatureHasher\n",
    "from sklearn.feature_selection import VarianceThreshold\n",
    "from sklearn.impute import KNNImputer, SimpleImputer\n",
    "from sklearn.preprocessing import (\n",
    "    KBinsDiscretizer,\n",
    "    LabelEncoder,\n",
    "    MinMaxScaler,\n",
    "    Normalizer,\n",
    "    OneHotEncoder,\n",
    "    OrdinalEncoder,\n",
    "    PowerTransformer,\n",
    "    RobustScaler,\n",
    "    StandardScaler,\n",
    ")"
   ]
  },
  {
   "cell_type": "markdown",
   "id": "38f3431d-5b91-4331-9cb0-9f2239259857",
   "metadata": {},
   "source": [
    "Tambien leemos el dataset, que está en formato CSV desde Google Drive."
   ]
  },
  {
   "cell_type": "code",
   "execution_count": 2,
   "id": "6197c0bf-14d5-4e00-9e17-b5a68bcf64e4",
   "metadata": {},
   "outputs": [],
   "source": [
    "with requests.get(\n",
    "    \"https://docs.google.com/spreadsheets/d/1-DWTP8uwVS-dZY402-dm0F9ICw_6PNqDGLmH0u8Eqa0/export?format=csv\"\n",
    ") as r, open(\"fiufip_dataset.csv\", \"wb\") as f:\n",
    "    for chunk in r.iter_content():\n",
    "        f.write(chunk)\n",
    "        import pandas as pd\n"
   ]
  },
  {
   "cell_type": "code",
   "execution_count": 3,
   "id": "25ac1551-f663-472e-91c0-49ce82e57c91",
   "metadata": {},
   "outputs": [],
   "source": [
    "df = pd.read_csv(\"fiufip_dataset.csv\")"
   ]
  },
  {
   "cell_type": "markdown",
   "id": "2ad8f40c-2ae5-4c4a-8316-82c24dc04306",
   "metadata": {},
   "source": [
    "Se renombra a las columnas en un formato mas comodo de manejar."
   ]
  },
  {
   "cell_type": "markdown",
   "id": "bece9a4c-0665-432f-a9c3-8e87954845f0",
   "metadata": {},
   "source": [
    "# Aplicando Ingeniería de Features"
   ]
  },
  {
   "cell_type": "code",
   "execution_count": 4,
   "id": "9335f9c7-32b6-457d-a63e-f168f90316a7",
   "metadata": {},
   "outputs": [],
   "source": [
    "from sklearn.cluster import KMeans\n"
   ]
  },
  {
   "cell_type": "markdown",
   "id": "103d05b1-e012-4331-9fdc-9e61fd6433e4",
   "metadata": {},
   "source": [
    "## Verificando la \"calidad\" de los datos\n"
   ]
  },
  {
   "cell_type": "markdown",
   "id": "df85e736-252b-4276-a0fe-3cb1c73e2da2",
   "metadata": {},
   "source": [
    "### Chequeo de valores NULOS"
   ]
  },
  {
   "cell_type": "markdown",
   "id": "e6c17e1c-374e-47d4-bc74-c65756c6b3c6",
   "metadata": {},
   "source": [
    "Las posibles representaciones de valores nulos ingresados tales como '-', '?', ' ', etc se las reemplaza por el valor nulo NaN en caso de existir dichos valores representativos del nulo en las columnas tanto numericas como no numericas."
   ]
  },
  {
   "cell_type": "code",
   "execution_count": 5,
   "id": "88be87ef-68f7-4e24-8469-31667490af84",
   "metadata": {},
   "outputs": [
    {
     "name": "stdout",
     "output_type": "stream",
     "text": [
      "Cantidad columnas modificadas agregando NaN por representación incorrecta del mismo: 0\n"
     ]
    }
   ],
   "source": [
    "cantidad_NaN_agregados = 0\n",
    "for una_columna in df.columns:\n",
    "    if df[una_columna].astype(str).str.contains(\"[^A-Za-z0-9]+$\").any():\n",
    "         df[una_columna].replace(to_replace=\"[^A-Za-z0-9]+$\", value=np.nan, regex=True, inplace=True)\n",
    "         cantidad_NaN_agregados=cantidad_NaN_agregados+1    \n",
    "print(f'Cantidad columnas modificadas agregando NaN por representación incorrecta del mismo: {cantidad_NaN_agregados}')"
   ]
  },
  {
   "cell_type": "markdown",
   "id": "7a4ccdbb-e71a-418e-8741-70a1478f5fd9",
   "metadata": {},
   "source": [
    "### Chequeo en variables numericas"
   ]
  },
  {
   "cell_type": "markdown",
   "id": "cfd32238-399c-433e-b2d2-30671da889a8",
   "metadata": {},
   "source": [
    "Tambien habria revisar los features numericos con valores negativos\n"
   ]
  },
  {
   "cell_type": "code",
   "execution_count": 6,
   "id": "1a7692be-f3c0-436b-8cba-860e639693a2",
   "metadata": {},
   "outputs": [
    {
     "name": "stdout",
     "output_type": "stream",
     "text": [
      "-> Cantidad de columnas numéricas: 5\n"
     ]
    },
    {
     "data": {
      "text/plain": [
       "Index(['anios_estudiados', 'edad',\n",
       "       'ganancia_perdida_declarada_bolsa_argentina',\n",
       "       'horas_trabajo_registradas', 'tiene_alto_valor_adquisitivo'],\n",
       "      dtype='object')"
      ]
     },
     "execution_count": 6,
     "metadata": {},
     "output_type": "execute_result"
    }
   ],
   "source": [
    "print(f'-> Cantidad de columnas numéricas: {df.describe().columns.size}')\n",
    "df.describe().columns"
   ]
  },
  {
   "cell_type": "markdown",
   "id": "fcf3e331-a200-4bc5-98bb-43caf1fb02d9",
   "metadata": {},
   "source": [
    "La unica que tendria sentido no modificar es la _'ganancia_perdida_declarada_bolsa_argentina'_ ya que puede admitir valores negativos. Las demas que contengan un negativo se las considera como **NaN**.\n"
   ]
  },
  {
   "cell_type": "code",
   "execution_count": 7,
   "id": "30606511-5e97-4bbf-8695-d7f970bd1ffb",
   "metadata": {},
   "outputs": [
    {
     "data": {
      "text/plain": [
       "anios_estudiados                False\n",
       "edad                            False\n",
       "tiene_alto_valor_adquisitivo    False\n",
       "dtype: bool"
      ]
     },
     "execution_count": 7,
     "metadata": {},
     "output_type": "execute_result"
    }
   ],
   "source": [
    "columnas_con_numeros = ['anios_estudiados', 'edad', 'tiene_alto_valor_adquisitivo']\n",
    "(df[columnas_con_numeros] < 0).any()"
   ]
  },
  {
   "cell_type": "markdown",
   "id": "11049687-0f1f-47ac-994c-430b44cc14c6",
   "metadata": {},
   "source": [
    "Lo cual observamos que no hay valores incorrectos en dichas columnas.\n"
   ]
  },
  {
   "cell_type": "markdown",
   "id": "ad739209-b372-4423-8c7c-d0e6154f93d0",
   "metadata": {},
   "source": [
    "## Chequeo de cada feature individualmente\n"
   ]
  },
  {
   "cell_type": "markdown",
   "id": "07a2ea53-9a9b-483e-826b-a4f72b7b7c9c",
   "metadata": {},
   "source": [
    "### Feature: rol_familiar_registrado"
   ]
  },
  {
   "cell_type": "markdown",
   "id": "69ccd243-8cad-4549-931f-56f7b295fec8",
   "metadata": {},
   "source": [
    "Algo que nos parecio raro al analizar cada valor de los features, es que especialmente el de *rol_familiar_registrado* tiene dos posibles valores iguales pero se tiene un dato de *casado* siendo *mujer*, como tambien *casada* siendo *hombre*"
   ]
  },
  {
   "cell_type": "code",
   "execution_count": 8,
   "id": "994ba70a-084f-4760-a2d1-3475ee70593d",
   "metadata": {},
   "outputs": [
    {
     "data": {
      "text/html": [
       "<div>\n",
       "<style scoped>\n",
       "    .dataframe tbody tr th:only-of-type {\n",
       "        vertical-align: middle;\n",
       "    }\n",
       "\n",
       "    .dataframe tbody tr th {\n",
       "        vertical-align: top;\n",
       "    }\n",
       "\n",
       "    .dataframe thead th {\n",
       "        text-align: right;\n",
       "    }\n",
       "</style>\n",
       "<table border=\"1\" class=\"dataframe\">\n",
       "  <thead>\n",
       "    <tr style=\"text-align: right;\">\n",
       "      <th></th>\n",
       "      <th>anios_estudiados</th>\n",
       "      <th>barrio</th>\n",
       "      <th>categoria_de_trabajo</th>\n",
       "      <th>edad</th>\n",
       "      <th>educacion_alcanzada</th>\n",
       "      <th>estado_marital</th>\n",
       "      <th>ganancia_perdida_declarada_bolsa_argentina</th>\n",
       "      <th>genero</th>\n",
       "      <th>horas_trabajo_registradas</th>\n",
       "      <th>religion</th>\n",
       "      <th>rol_familiar_registrado</th>\n",
       "      <th>tiene_alto_valor_adquisitivo</th>\n",
       "      <th>trabajo</th>\n",
       "    </tr>\n",
       "  </thead>\n",
       "  <tbody>\n",
       "    <tr>\n",
       "      <th>575</th>\n",
       "      <td>17</td>\n",
       "      <td>Palermo</td>\n",
       "      <td>relacion_de_dependencia</td>\n",
       "      <td>29</td>\n",
       "      <td>universidad_3_anio</td>\n",
       "      <td>matrimonio_civil</td>\n",
       "      <td>0</td>\n",
       "      <td>hombre</td>\n",
       "      <td>40</td>\n",
       "      <td>cristianismo</td>\n",
       "      <td>casada</td>\n",
       "      <td>1</td>\n",
       "      <td>directivo_gerente</td>\n",
       "    </tr>\n",
       "    <tr>\n",
       "      <th>7109</th>\n",
       "      <td>13</td>\n",
       "      <td>Palermo</td>\n",
       "      <td>relacion_de_dependencia</td>\n",
       "      <td>34</td>\n",
       "      <td>4_anio</td>\n",
       "      <td>matrimonio_civil</td>\n",
       "      <td>0</td>\n",
       "      <td>mujer</td>\n",
       "      <td>40</td>\n",
       "      <td>cristianismo</td>\n",
       "      <td>casado</td>\n",
       "      <td>0</td>\n",
       "      <td>ventas</td>\n",
       "    </tr>\n",
       "    <tr>\n",
       "      <th>27141</th>\n",
       "      <td>17</td>\n",
       "      <td>NaN</td>\n",
       "      <td>relacion_de_dependencia</td>\n",
       "      <td>36</td>\n",
       "      <td>universidad_3_anio</td>\n",
       "      <td>matrimonio_civil</td>\n",
       "      <td>0</td>\n",
       "      <td>hombre</td>\n",
       "      <td>60</td>\n",
       "      <td>cristianismo</td>\n",
       "      <td>casada</td>\n",
       "      <td>0</td>\n",
       "      <td>ventas</td>\n",
       "    </tr>\n",
       "  </tbody>\n",
       "</table>\n",
       "</div>"
      ],
      "text/plain": [
       "       anios_estudiados   barrio     categoria_de_trabajo  edad  \\\n",
       "575                  17  Palermo  relacion_de_dependencia    29   \n",
       "7109                 13  Palermo  relacion_de_dependencia    34   \n",
       "27141                17      NaN  relacion_de_dependencia    36   \n",
       "\n",
       "      educacion_alcanzada    estado_marital  \\\n",
       "575    universidad_3_anio  matrimonio_civil   \n",
       "7109               4_anio  matrimonio_civil   \n",
       "27141  universidad_3_anio  matrimonio_civil   \n",
       "\n",
       "       ganancia_perdida_declarada_bolsa_argentina  genero  \\\n",
       "575                                             0  hombre   \n",
       "7109                                            0   mujer   \n",
       "27141                                           0  hombre   \n",
       "\n",
       "       horas_trabajo_registradas      religion rol_familiar_registrado  \\\n",
       "575                           40  cristianismo                  casada   \n",
       "7109                          40  cristianismo                  casado   \n",
       "27141                         60  cristianismo                  casada   \n",
       "\n",
       "       tiene_alto_valor_adquisitivo            trabajo  \n",
       "575                               1  directivo_gerente  \n",
       "7109                              0             ventas  \n",
       "27141                             0             ventas  "
      ]
     },
     "execution_count": 8,
     "metadata": {},
     "output_type": "execute_result"
    }
   ],
   "source": [
    "hombre_casada = (df.rol_familiar_registrado == 'casada') & (df.genero == 'hombre')\n",
    "mujer_casado = (df.rol_familiar_registrado == 'casado') & (df.genero == 'mujer')\n",
    "df[mujer_casado | hombre_casada]"
   ]
  },
  {
   "cell_type": "markdown",
   "id": "e0999084-a206-455d-98bc-e6164cbbf5ff",
   "metadata": {},
   "source": [
    "El cual puede que a la hora de la insercidf[mujer_casado | hombre_casada]ón de los datos no haya sido lo suficientemente inclusiva.\n",
    "Cambiaremos el genero a ambos segun corresponda."
   ]
  },
  {
   "cell_type": "code",
   "execution_count": 9,
   "id": "e9998656-177f-4d9a-a9a8-d520f9e03c4b",
   "metadata": {},
   "outputs": [],
   "source": [
    "df['genero'].mask(hombre_casada, 'mujer', inplace=True)\n",
    "df['genero'].mask(mujer_casado, 'hombre', inplace=True)"
   ]
  },
  {
   "cell_type": "markdown",
   "id": "c6c4482e-f4b0-4472-b5b3-e7a570be5b6b",
   "metadata": {},
   "source": [
    "Refrescamos las variables booleanas y comprobamos que se haya reemplazado"
   ]
  },
  {
   "cell_type": "code",
   "execution_count": 10,
   "id": "dc41853a-5883-4bd3-ade5-a1eac0866fc7",
   "metadata": {},
   "outputs": [
    {
     "data": {
      "text/html": [
       "<div>\n",
       "<style scoped>\n",
       "    .dataframe tbody tr th:only-of-type {\n",
       "        vertical-align: middle;\n",
       "    }\n",
       "\n",
       "    .dataframe tbody tr th {\n",
       "        vertical-align: top;\n",
       "    }\n",
       "\n",
       "    .dataframe thead th {\n",
       "        text-align: right;\n",
       "    }\n",
       "</style>\n",
       "<table border=\"1\" class=\"dataframe\">\n",
       "  <thead>\n",
       "    <tr style=\"text-align: right;\">\n",
       "      <th></th>\n",
       "      <th>anios_estudiados</th>\n",
       "      <th>barrio</th>\n",
       "      <th>categoria_de_trabajo</th>\n",
       "      <th>edad</th>\n",
       "      <th>educacion_alcanzada</th>\n",
       "      <th>estado_marital</th>\n",
       "      <th>ganancia_perdida_declarada_bolsa_argentina</th>\n",
       "      <th>genero</th>\n",
       "      <th>horas_trabajo_registradas</th>\n",
       "      <th>religion</th>\n",
       "      <th>rol_familiar_registrado</th>\n",
       "      <th>tiene_alto_valor_adquisitivo</th>\n",
       "      <th>trabajo</th>\n",
       "    </tr>\n",
       "  </thead>\n",
       "  <tbody>\n",
       "  </tbody>\n",
       "</table>\n",
       "</div>"
      ],
      "text/plain": [
       "Empty DataFrame\n",
       "Columns: [anios_estudiados, barrio, categoria_de_trabajo, edad, educacion_alcanzada, estado_marital, ganancia_perdida_declarada_bolsa_argentina, genero, horas_trabajo_registradas, religion, rol_familiar_registrado, tiene_alto_valor_adquisitivo, trabajo]\n",
       "Index: []"
      ]
     },
     "execution_count": 10,
     "metadata": {},
     "output_type": "execute_result"
    }
   ],
   "source": [
    "hombre_casada = (df.rol_familiar_registrado == 'casada') & (df.genero == 'hombre')\n",
    "mujer_casado = (df.rol_familiar_registrado == 'casado') & (df.genero == 'mujer')\n",
    "df[mujer_casado | hombre_casada]"
   ]
  },
  {
   "cell_type": "markdown",
   "id": "e4609f83-cae9-4981-9eee-b3a9ab3500d0",
   "metadata": {},
   "source": [
    "Tambien si miramos la cantidad valores que adapta *rol_familiar_registrado*"
   ]
  },
  {
   "cell_type": "code",
   "execution_count": 11,
   "id": "e5f9410c-cb0c-42a9-9c7a-54a48fcdf35b",
   "metadata": {},
   "outputs": [
    {
     "name": "stdout",
     "output_type": "stream",
     "text": [
      "Hay un total de 6\n"
     ]
    },
    {
     "data": {
      "text/plain": [
       "casado         13193\n",
       "sin_familia     8305\n",
       "con_hijos       5068\n",
       "soltero_a       3446\n",
       "casada          1568\n",
       "otro             981\n",
       "Name: rol_familiar_registrado, dtype: int64"
      ]
     },
     "metadata": {},
     "output_type": "display_data"
    },
    {
     "name": "stdout",
     "output_type": "stream",
     "text": [
      "\n"
     ]
    }
   ],
   "source": [
    "rolFamili = df.rol_familiar_registrado.value_counts(dropna=False)\n",
    "print(f'Hay un total de {len(rolFamili)}')\n",
    "display(rolFamili)\n",
    "print('')"
   ]
  },
  {
   "cell_type": "markdown",
   "id": "db3dd377-c2eb-4f67-b757-d36c6b388d68",
   "metadata": {},
   "source": [
    "Aca veo que hay rol de *soltero_a*, el cual no diferencia de mujeres y hombres pero si le pedis que los diferencie solo mandas el comando!"
   ]
  },
  {
   "cell_type": "code",
   "execution_count": 12,
   "id": "0657a6be-af49-44c1-8ab7-4f279cba880a",
   "metadata": {},
   "outputs": [
    {
     "data": {
      "text/plain": [
       "mujer     2654\n",
       "hombre     792\n",
       "Name: genero, dtype: int64"
      ]
     },
     "execution_count": 12,
     "metadata": {},
     "output_type": "execute_result"
    }
   ],
   "source": [
    "df[df.rol_familiar_registrado == 'soltero_a'].genero.value_counts(dropna=False)"
   ]
  },
  {
   "cell_type": "markdown",
   "id": "6a84b9e6-de7c-4d8f-9c5f-c490b7fb0b5c",
   "metadata": {},
   "source": [
    "No se si eso podria ser interesante de analizar... Pero podrias saber la cantidad de mujeres que le corresponde, muy facilmente."
   ]
  },
  {
   "cell_type": "markdown",
   "id": "588407ed-7840-4e26-87d8-5131c0e3fb1a",
   "metadata": {},
   "source": [
    "Y si miro la tabla de nuevo, tenes *casada* y *casado*. \n",
    "\n",
    "No seria mejor unir en *casada_o* ¿?\n",
    "\n",
    "Despues, si queres diferenciar cuales son hombres y mujeres de ese rol, simplemente te fijas su genero."
   ]
  },
  {
   "cell_type": "code",
   "execution_count": 13,
   "id": "62bc75e6-cd75-46ca-9a08-6b3ef6e945dd",
   "metadata": {},
   "outputs": [],
   "source": [
    "casada_mujer_o_casado_hombre = (df.rol_familiar_registrado == 'casado' ) | (df.rol_familiar_registrado == 'casada') \n",
    "df['rol_familiar_registrado'].mask(casada_mujer_o_casado_hombre, 'casado_a', inplace=True)"
   ]
  },
  {
   "cell_type": "markdown",
   "id": "87dd197e-11d7-4983-9f9d-eab161f43bba",
   "metadata": {},
   "source": [
    "Si vuelvo a analizar.. Prescindimos de un rol y lo unimos"
   ]
  },
  {
   "cell_type": "code",
   "execution_count": 14,
   "id": "d4a5c8e4-783f-49bb-b270-736f4f47149f",
   "metadata": {},
   "outputs": [
    {
     "name": "stdout",
     "output_type": "stream",
     "text": [
      "Hay un total de 5\n"
     ]
    },
    {
     "data": {
      "text/plain": [
       "casado_a       14761\n",
       "sin_familia     8305\n",
       "con_hijos       5068\n",
       "soltero_a       3446\n",
       "otro             981\n",
       "Name: rol_familiar_registrado, dtype: int64"
      ]
     },
     "metadata": {},
     "output_type": "display_data"
    },
    {
     "name": "stdout",
     "output_type": "stream",
     "text": [
      "\n"
     ]
    }
   ],
   "source": [
    "rolFamili = df.rol_familiar_registrado.value_counts(dropna=False)\n",
    "print(f'Hay un total de {len(rolFamili)}')\n",
    "display(rolFamili)\n",
    "print('')"
   ]
  },
  {
   "cell_type": "markdown",
   "id": "ae146eb6-4360-4fe7-b2f8-f98a39d07ff7",
   "metadata": {},
   "source": [
    "Si queres saber la informacion de si es hombre o mujer, tal como nos decia la tabla, simplemente le impogno esa condicion"
   ]
  },
  {
   "cell_type": "code",
   "execution_count": 15,
   "id": "a55a9245-3160-4392-9a6e-e368f03bc788",
   "metadata": {},
   "outputs": [
    {
     "data": {
      "text/plain": [
       "hombre    13193\n",
       "mujer      1568\n",
       "Name: genero, dtype: int64"
      ]
     },
     "execution_count": 15,
     "metadata": {},
     "output_type": "execute_result"
    }
   ],
   "source": [
    "df[df.rol_familiar_registrado == 'casado_a'].genero.value_counts(dropna=False)"
   ]
  },
  {
   "cell_type": "markdown",
   "id": "95473597-ba6f-496a-9bc5-99b1695f5a6b",
   "metadata": {},
   "source": [
    "El cual coincide con la informacion que nos decia antes la tabla separadamente de *casada* y *casado*. \n",
    "\n",
    "En conclusion se puede recudir la cardinalidad un 16%. \n",
    "\n",
    "<span style=\"font-weight: bold; color:red\"> INVESIGAR A VER SI ESTA BIEN DICHO ESA FRASE</span>"
   ]
  },
  {
   "cell_type": "markdown",
   "id": "7bacbfda-3f0b-4d37-889f-071715c033a7",
   "metadata": {},
   "source": [
    "### Feature: *estado_marital*"
   ]
  },
  {
   "cell_type": "code",
   "execution_count": 16,
   "id": "fbac39e3-6f40-449b-9ebd-a065557016b4",
   "metadata": {},
   "outputs": [
    {
     "data": {
      "text/html": [
       "<div>\n",
       "<style scoped>\n",
       "    .dataframe tbody tr th:only-of-type {\n",
       "        vertical-align: middle;\n",
       "    }\n",
       "\n",
       "    .dataframe tbody tr th {\n",
       "        vertical-align: top;\n",
       "    }\n",
       "\n",
       "    .dataframe thead th {\n",
       "        text-align: right;\n",
       "    }\n",
       "</style>\n",
       "<table border=\"1\" class=\"dataframe\">\n",
       "  <thead>\n",
       "    <tr style=\"text-align: right;\">\n",
       "      <th></th>\n",
       "      <th>anios_estudiados</th>\n",
       "      <th>barrio</th>\n",
       "      <th>categoria_de_trabajo</th>\n",
       "      <th>edad</th>\n",
       "      <th>educacion_alcanzada</th>\n",
       "      <th>estado_marital</th>\n",
       "      <th>ganancia_perdida_declarada_bolsa_argentina</th>\n",
       "      <th>genero</th>\n",
       "      <th>horas_trabajo_registradas</th>\n",
       "      <th>religion</th>\n",
       "      <th>rol_familiar_registrado</th>\n",
       "      <th>tiene_alto_valor_adquisitivo</th>\n",
       "      <th>trabajo</th>\n",
       "    </tr>\n",
       "  </thead>\n",
       "  <tbody>\n",
       "    <tr>\n",
       "      <th>0</th>\n",
       "      <td>17</td>\n",
       "      <td>Palermo</td>\n",
       "      <td>empleado_provincial</td>\n",
       "      <td>39</td>\n",
       "      <td>universidad_3_anio</td>\n",
       "      <td>sin_matrimonio</td>\n",
       "      <td>2174</td>\n",
       "      <td>hombre</td>\n",
       "      <td>40</td>\n",
       "      <td>cristianismo</td>\n",
       "      <td>sin_familia</td>\n",
       "      <td>0</td>\n",
       "      <td>entretenimiento</td>\n",
       "    </tr>\n",
       "    <tr>\n",
       "      <th>1</th>\n",
       "      <td>17</td>\n",
       "      <td>Palermo</td>\n",
       "      <td>monotibutista</td>\n",
       "      <td>50</td>\n",
       "      <td>universidad_3_anio</td>\n",
       "      <td>matrimonio_civil</td>\n",
       "      <td>0</td>\n",
       "      <td>hombre</td>\n",
       "      <td>13</td>\n",
       "      <td>cristianismo</td>\n",
       "      <td>casado_a</td>\n",
       "      <td>0</td>\n",
       "      <td>directivo_gerente</td>\n",
       "    </tr>\n",
       "    <tr>\n",
       "      <th>2</th>\n",
       "      <td>13</td>\n",
       "      <td>Palermo</td>\n",
       "      <td>relacion_de_dependencia</td>\n",
       "      <td>38</td>\n",
       "      <td>4_anio</td>\n",
       "      <td>divorciado</td>\n",
       "      <td>0</td>\n",
       "      <td>hombre</td>\n",
       "      <td>40</td>\n",
       "      <td>cristianismo</td>\n",
       "      <td>sin_familia</td>\n",
       "      <td>0</td>\n",
       "      <td>limpiador</td>\n",
       "    </tr>\n",
       "    <tr>\n",
       "      <th>3</th>\n",
       "      <td>11</td>\n",
       "      <td>Palermo</td>\n",
       "      <td>relacion_de_dependencia</td>\n",
       "      <td>53</td>\n",
       "      <td>2_anio</td>\n",
       "      <td>matrimonio_civil</td>\n",
       "      <td>0</td>\n",
       "      <td>hombre</td>\n",
       "      <td>40</td>\n",
       "      <td>judaismo</td>\n",
       "      <td>casado_a</td>\n",
       "      <td>0</td>\n",
       "      <td>limpiador</td>\n",
       "    </tr>\n",
       "    <tr>\n",
       "      <th>4</th>\n",
       "      <td>17</td>\n",
       "      <td>Balvanera</td>\n",
       "      <td>relacion_de_dependencia</td>\n",
       "      <td>28</td>\n",
       "      <td>universidad_3_anio</td>\n",
       "      <td>matrimonio_civil</td>\n",
       "      <td>0</td>\n",
       "      <td>mujer</td>\n",
       "      <td>40</td>\n",
       "      <td>judaismo</td>\n",
       "      <td>casado_a</td>\n",
       "      <td>0</td>\n",
       "      <td>profesional_especializado</td>\n",
       "    </tr>\n",
       "  </tbody>\n",
       "</table>\n",
       "</div>"
      ],
      "text/plain": [
       "   anios_estudiados     barrio     categoria_de_trabajo  edad  \\\n",
       "0                17    Palermo      empleado_provincial    39   \n",
       "1                17    Palermo            monotibutista    50   \n",
       "2                13    Palermo  relacion_de_dependencia    38   \n",
       "3                11    Palermo  relacion_de_dependencia    53   \n",
       "4                17  Balvanera  relacion_de_dependencia    28   \n",
       "\n",
       "  educacion_alcanzada    estado_marital  \\\n",
       "0  universidad_3_anio    sin_matrimonio   \n",
       "1  universidad_3_anio  matrimonio_civil   \n",
       "2              4_anio        divorciado   \n",
       "3              2_anio  matrimonio_civil   \n",
       "4  universidad_3_anio  matrimonio_civil   \n",
       "\n",
       "   ganancia_perdida_declarada_bolsa_argentina  genero  \\\n",
       "0                                        2174  hombre   \n",
       "1                                           0  hombre   \n",
       "2                                           0  hombre   \n",
       "3                                           0  hombre   \n",
       "4                                           0   mujer   \n",
       "\n",
       "   horas_trabajo_registradas      religion rol_familiar_registrado  \\\n",
       "0                         40  cristianismo             sin_familia   \n",
       "1                         13  cristianismo                casado_a   \n",
       "2                         40  cristianismo             sin_familia   \n",
       "3                         40      judaismo                casado_a   \n",
       "4                         40      judaismo                casado_a   \n",
       "\n",
       "   tiene_alto_valor_adquisitivo                    trabajo  \n",
       "0                             0            entretenimiento  \n",
       "1                             0          directivo_gerente  \n",
       "2                             0                  limpiador  \n",
       "3                             0                  limpiador  \n",
       "4                             0  profesional_especializado  "
      ]
     },
     "execution_count": 16,
     "metadata": {},
     "output_type": "execute_result"
    }
   ],
   "source": [
    "df.head()"
   ]
  },
  {
   "cell_type": "markdown",
   "id": "c69c3a3a-78d8-4b2c-9b38-15ba3ec55528",
   "metadata": {},
   "source": [
    "Cambiamos nombre de 3 tipos del feature *estado_marital*"
   ]
  },
  {
   "cell_type": "code",
   "execution_count": 17,
   "id": "0813aace-fdee-4471-bbc2-5664c8600360",
   "metadata": {},
   "outputs": [],
   "source": [
    "divorciado = df.estado_marital == 'divorciado' \n",
    "separado = df.estado_marital == 'separado'\n",
    "df['estado_marital'].mask(divorciado, 'divorciado_a', inplace=True)\n",
    "df['estado_marital'].mask(separado, 'separado_a', inplace=True)"
   ]
  },
  {
   "cell_type": "markdown",
   "id": "0b3880e9-e095-4d77-be98-20f7a6c00243",
   "metadata": {},
   "source": [
    "## Eliminacion de muestras duplicadas"
   ]
  },
  {
   "cell_type": "code",
   "execution_count": 18,
   "id": "5065f0ac-a78c-4f66-9a39-006ed53924f1",
   "metadata": {},
   "outputs": [
    {
     "name": "stdout",
     "output_type": "stream",
     "text": [
      "se eliminaron: -3466 filas duplicadas\n"
     ]
    }
   ],
   "source": [
    "size_antes = len(df)\n",
    "df = df.drop_duplicates()\n",
    "size_despues = len(df)\n",
    "print(f'se eliminaron: {size_despues-size_antes} filas duplicadas')"
   ]
  },
  {
   "cell_type": "markdown",
   "id": "5644a247-1422-4c9c-88c7-73a8d52f6dc6",
   "metadata": {},
   "source": [
    "## Conversion de Variables"
   ]
  },
  {
   "cell_type": "markdown",
   "id": "c64363ff-3dde-491c-81a8-b7555d8b0923",
   "metadata": {},
   "source": [
    "### Conversion de variables categoricas"
   ]
  },
  {
   "cell_type": "markdown",
   "id": "bd915ee1-1047-4b98-8954-f9a73645608f",
   "metadata": {},
   "source": [
    "#### Categóricas de baja cardinalidad"
   ]
  },
  {
   "cell_type": "code",
   "execution_count": 19,
   "id": "f2bf6e89-3aab-4a95-aabf-bb0888bcb287",
   "metadata": {},
   "outputs": [
    {
     "data": {
      "text/html": [
       "<div>\n",
       "<style scoped>\n",
       "    .dataframe tbody tr th:only-of-type {\n",
       "        vertical-align: middle;\n",
       "    }\n",
       "\n",
       "    .dataframe tbody tr th {\n",
       "        vertical-align: top;\n",
       "    }\n",
       "\n",
       "    .dataframe thead th {\n",
       "        text-align: right;\n",
       "    }\n",
       "</style>\n",
       "<table border=\"1\" class=\"dataframe\">\n",
       "  <thead>\n",
       "    <tr style=\"text-align: right;\">\n",
       "      <th></th>\n",
       "      <th>anios_estudiados</th>\n",
       "      <th>barrio</th>\n",
       "      <th>categoria_de_trabajo</th>\n",
       "      <th>edad</th>\n",
       "      <th>educacion_alcanzada</th>\n",
       "      <th>estado_marital</th>\n",
       "      <th>ganancia_perdida_declarada_bolsa_argentina</th>\n",
       "      <th>genero</th>\n",
       "      <th>horas_trabajo_registradas</th>\n",
       "      <th>religion</th>\n",
       "      <th>rol_familiar_registrado</th>\n",
       "      <th>tiene_alto_valor_adquisitivo</th>\n",
       "      <th>trabajo</th>\n",
       "    </tr>\n",
       "  </thead>\n",
       "  <tbody>\n",
       "    <tr>\n",
       "      <th>0</th>\n",
       "      <td>17</td>\n",
       "      <td>Palermo</td>\n",
       "      <td>empleado_provincial</td>\n",
       "      <td>39</td>\n",
       "      <td>universidad_3_anio</td>\n",
       "      <td>sin_matrimonio</td>\n",
       "      <td>2174</td>\n",
       "      <td>hombre</td>\n",
       "      <td>40</td>\n",
       "      <td>cristianismo</td>\n",
       "      <td>sin_familia</td>\n",
       "      <td>0</td>\n",
       "      <td>entretenimiento</td>\n",
       "    </tr>\n",
       "    <tr>\n",
       "      <th>1</th>\n",
       "      <td>17</td>\n",
       "      <td>Palermo</td>\n",
       "      <td>monotibutista</td>\n",
       "      <td>50</td>\n",
       "      <td>universidad_3_anio</td>\n",
       "      <td>matrimonio_civil</td>\n",
       "      <td>0</td>\n",
       "      <td>hombre</td>\n",
       "      <td>13</td>\n",
       "      <td>cristianismo</td>\n",
       "      <td>casado_a</td>\n",
       "      <td>0</td>\n",
       "      <td>directivo_gerente</td>\n",
       "    </tr>\n",
       "    <tr>\n",
       "      <th>2</th>\n",
       "      <td>13</td>\n",
       "      <td>Palermo</td>\n",
       "      <td>relacion_de_dependencia</td>\n",
       "      <td>38</td>\n",
       "      <td>4_anio</td>\n",
       "      <td>divorciado_a</td>\n",
       "      <td>0</td>\n",
       "      <td>hombre</td>\n",
       "      <td>40</td>\n",
       "      <td>cristianismo</td>\n",
       "      <td>sin_familia</td>\n",
       "      <td>0</td>\n",
       "      <td>limpiador</td>\n",
       "    </tr>\n",
       "    <tr>\n",
       "      <th>3</th>\n",
       "      <td>11</td>\n",
       "      <td>Palermo</td>\n",
       "      <td>relacion_de_dependencia</td>\n",
       "      <td>53</td>\n",
       "      <td>2_anio</td>\n",
       "      <td>matrimonio_civil</td>\n",
       "      <td>0</td>\n",
       "      <td>hombre</td>\n",
       "      <td>40</td>\n",
       "      <td>judaismo</td>\n",
       "      <td>casado_a</td>\n",
       "      <td>0</td>\n",
       "      <td>limpiador</td>\n",
       "    </tr>\n",
       "    <tr>\n",
       "      <th>4</th>\n",
       "      <td>17</td>\n",
       "      <td>Balvanera</td>\n",
       "      <td>relacion_de_dependencia</td>\n",
       "      <td>28</td>\n",
       "      <td>universidad_3_anio</td>\n",
       "      <td>matrimonio_civil</td>\n",
       "      <td>0</td>\n",
       "      <td>mujer</td>\n",
       "      <td>40</td>\n",
       "      <td>judaismo</td>\n",
       "      <td>casado_a</td>\n",
       "      <td>0</td>\n",
       "      <td>profesional_especializado</td>\n",
       "    </tr>\n",
       "  </tbody>\n",
       "</table>\n",
       "</div>"
      ],
      "text/plain": [
       "   anios_estudiados     barrio     categoria_de_trabajo  edad  \\\n",
       "0                17    Palermo      empleado_provincial    39   \n",
       "1                17    Palermo            monotibutista    50   \n",
       "2                13    Palermo  relacion_de_dependencia    38   \n",
       "3                11    Palermo  relacion_de_dependencia    53   \n",
       "4                17  Balvanera  relacion_de_dependencia    28   \n",
       "\n",
       "  educacion_alcanzada    estado_marital  \\\n",
       "0  universidad_3_anio    sin_matrimonio   \n",
       "1  universidad_3_anio  matrimonio_civil   \n",
       "2              4_anio      divorciado_a   \n",
       "3              2_anio  matrimonio_civil   \n",
       "4  universidad_3_anio  matrimonio_civil   \n",
       "\n",
       "   ganancia_perdida_declarada_bolsa_argentina  genero  \\\n",
       "0                                        2174  hombre   \n",
       "1                                           0  hombre   \n",
       "2                                           0  hombre   \n",
       "3                                           0  hombre   \n",
       "4                                           0   mujer   \n",
       "\n",
       "   horas_trabajo_registradas      religion rol_familiar_registrado  \\\n",
       "0                         40  cristianismo             sin_familia   \n",
       "1                         13  cristianismo                casado_a   \n",
       "2                         40  cristianismo             sin_familia   \n",
       "3                         40      judaismo                casado_a   \n",
       "4                         40      judaismo                casado_a   \n",
       "\n",
       "   tiene_alto_valor_adquisitivo                    trabajo  \n",
       "0                             0            entretenimiento  \n",
       "1                             0          directivo_gerente  \n",
       "2                             0                  limpiador  \n",
       "3                             0                  limpiador  \n",
       "4                             0  profesional_especializado  "
      ]
     },
     "execution_count": 19,
     "metadata": {},
     "output_type": "execute_result"
    }
   ],
   "source": [
    "df.head()"
   ]
  },
  {
   "cell_type": "markdown",
   "id": "a55f60b7-b467-4469-8fa4-6fb55cf5728c",
   "metadata": {},
   "source": [
    "CONVERSION BAJA CARDINALIDAD EN CATEGORICAS.\n",
    "\n",
    "Tirandole un **Ordinal Encoder (Label Encoder idem)**.. en vez de ver Strings en \"estado_marital\", ves numeros en cada string que haya!\n",
    "Y luego, el modelo ML laburara mejor asi, y tmb tenes funcion inversa que podes ver que le correspondia a ese numero.\n",
    "\n",
    "Tambien tenias el **One Hot Encoding**. Crea una columna binaria por cada valor de la variable... O sea, tenes 3 colores de ojos en una columna, entonces, tendrias 3 columnas, pero como regla general para evitar problema colinealidad es suficiente con 'n-1' columnas, o sea, 2 columnas.\n",
    "En esa columna representas 1s y 0s.\n",
    "\n",
    "-----\n",
    "En esta parte, yo veo que a todas de baja cardinalidad podrias aplicar alguna de estos 2 metodos. Pero eso sirivria mas en la 2° parte del TP cuando hagamos ML y necesite numeros posta y NO strings como ahora (ejemplo, genero: mujer y hombre.. eso a futuro para el ML lo ponemos como 1 y 0 asi labura m ejor el ML)\n",
    "\n",
    "Pero que se yo.. ¿que hacemos? Dejamos asi y listo? Ojo quizas estoy entendiendo mal esas cosas...\n",
    "\n",
    "\n",
    "\n",
    "-----\n",
    "**Yo entendí que esto es para las categoricas, no representntan una nocion de orden!!!**\n",
    "\n"
   ]
  },
  {
   "cell_type": "markdown",
   "id": "0b9fa68a-1f7c-4c2e-972a-290b9faa9f23",
   "metadata": {},
   "source": [
    "#### Categóricas de alta cardinalidad"
   ]
  },
  {
   "cell_type": "code",
   "execution_count": 20,
   "id": "c3371e59-c1f7-467a-8ff6-da9390b432f2",
   "metadata": {},
   "outputs": [
    {
     "data": {
      "text/html": [
       "<div>\n",
       "<style scoped>\n",
       "    .dataframe tbody tr th:only-of-type {\n",
       "        vertical-align: middle;\n",
       "    }\n",
       "\n",
       "    .dataframe tbody tr th {\n",
       "        vertical-align: top;\n",
       "    }\n",
       "\n",
       "    .dataframe thead th {\n",
       "        text-align: right;\n",
       "    }\n",
       "</style>\n",
       "<table border=\"1\" class=\"dataframe\">\n",
       "  <thead>\n",
       "    <tr style=\"text-align: right;\">\n",
       "      <th></th>\n",
       "      <th>anios_estudiados</th>\n",
       "      <th>barrio</th>\n",
       "      <th>categoria_de_trabajo</th>\n",
       "      <th>edad</th>\n",
       "      <th>educacion_alcanzada</th>\n",
       "      <th>estado_marital</th>\n",
       "      <th>ganancia_perdida_declarada_bolsa_argentina</th>\n",
       "      <th>genero</th>\n",
       "      <th>horas_trabajo_registradas</th>\n",
       "      <th>religion</th>\n",
       "      <th>rol_familiar_registrado</th>\n",
       "      <th>tiene_alto_valor_adquisitivo</th>\n",
       "      <th>trabajo</th>\n",
       "    </tr>\n",
       "  </thead>\n",
       "  <tbody>\n",
       "    <tr>\n",
       "      <th>0</th>\n",
       "      <td>17</td>\n",
       "      <td>Palermo</td>\n",
       "      <td>empleado_provincial</td>\n",
       "      <td>39</td>\n",
       "      <td>universidad_3_anio</td>\n",
       "      <td>sin_matrimonio</td>\n",
       "      <td>2174</td>\n",
       "      <td>hombre</td>\n",
       "      <td>40</td>\n",
       "      <td>cristianismo</td>\n",
       "      <td>sin_familia</td>\n",
       "      <td>0</td>\n",
       "      <td>entretenimiento</td>\n",
       "    </tr>\n",
       "    <tr>\n",
       "      <th>1</th>\n",
       "      <td>17</td>\n",
       "      <td>Palermo</td>\n",
       "      <td>monotibutista</td>\n",
       "      <td>50</td>\n",
       "      <td>universidad_3_anio</td>\n",
       "      <td>matrimonio_civil</td>\n",
       "      <td>0</td>\n",
       "      <td>hombre</td>\n",
       "      <td>13</td>\n",
       "      <td>cristianismo</td>\n",
       "      <td>casado_a</td>\n",
       "      <td>0</td>\n",
       "      <td>directivo_gerente</td>\n",
       "    </tr>\n",
       "    <tr>\n",
       "      <th>2</th>\n",
       "      <td>13</td>\n",
       "      <td>Palermo</td>\n",
       "      <td>relacion_de_dependencia</td>\n",
       "      <td>38</td>\n",
       "      <td>4_anio</td>\n",
       "      <td>divorciado_a</td>\n",
       "      <td>0</td>\n",
       "      <td>hombre</td>\n",
       "      <td>40</td>\n",
       "      <td>cristianismo</td>\n",
       "      <td>sin_familia</td>\n",
       "      <td>0</td>\n",
       "      <td>limpiador</td>\n",
       "    </tr>\n",
       "    <tr>\n",
       "      <th>3</th>\n",
       "      <td>11</td>\n",
       "      <td>Palermo</td>\n",
       "      <td>relacion_de_dependencia</td>\n",
       "      <td>53</td>\n",
       "      <td>2_anio</td>\n",
       "      <td>matrimonio_civil</td>\n",
       "      <td>0</td>\n",
       "      <td>hombre</td>\n",
       "      <td>40</td>\n",
       "      <td>judaismo</td>\n",
       "      <td>casado_a</td>\n",
       "      <td>0</td>\n",
       "      <td>limpiador</td>\n",
       "    </tr>\n",
       "    <tr>\n",
       "      <th>4</th>\n",
       "      <td>17</td>\n",
       "      <td>Balvanera</td>\n",
       "      <td>relacion_de_dependencia</td>\n",
       "      <td>28</td>\n",
       "      <td>universidad_3_anio</td>\n",
       "      <td>matrimonio_civil</td>\n",
       "      <td>0</td>\n",
       "      <td>mujer</td>\n",
       "      <td>40</td>\n",
       "      <td>judaismo</td>\n",
       "      <td>casado_a</td>\n",
       "      <td>0</td>\n",
       "      <td>profesional_especializado</td>\n",
       "    </tr>\n",
       "  </tbody>\n",
       "</table>\n",
       "</div>"
      ],
      "text/plain": [
       "   anios_estudiados     barrio     categoria_de_trabajo  edad  \\\n",
       "0                17    Palermo      empleado_provincial    39   \n",
       "1                17    Palermo            monotibutista    50   \n",
       "2                13    Palermo  relacion_de_dependencia    38   \n",
       "3                11    Palermo  relacion_de_dependencia    53   \n",
       "4                17  Balvanera  relacion_de_dependencia    28   \n",
       "\n",
       "  educacion_alcanzada    estado_marital  \\\n",
       "0  universidad_3_anio    sin_matrimonio   \n",
       "1  universidad_3_anio  matrimonio_civil   \n",
       "2              4_anio      divorciado_a   \n",
       "3              2_anio  matrimonio_civil   \n",
       "4  universidad_3_anio  matrimonio_civil   \n",
       "\n",
       "   ganancia_perdida_declarada_bolsa_argentina  genero  \\\n",
       "0                                        2174  hombre   \n",
       "1                                           0  hombre   \n",
       "2                                           0  hombre   \n",
       "3                                           0  hombre   \n",
       "4                                           0   mujer   \n",
       "\n",
       "   horas_trabajo_registradas      religion rol_familiar_registrado  \\\n",
       "0                         40  cristianismo             sin_familia   \n",
       "1                         13  cristianismo                casado_a   \n",
       "2                         40  cristianismo             sin_familia   \n",
       "3                         40      judaismo                casado_a   \n",
       "4                         40      judaismo                casado_a   \n",
       "\n",
       "   tiene_alto_valor_adquisitivo                    trabajo  \n",
       "0                             0            entretenimiento  \n",
       "1                             0          directivo_gerente  \n",
       "2                             0                  limpiador  \n",
       "3                             0                  limpiador  \n",
       "4                             0  profesional_especializado  "
      ]
     },
     "execution_count": 20,
     "metadata": {},
     "output_type": "execute_result"
    }
   ],
   "source": [
    "df.head()"
   ]
  },
  {
   "cell_type": "markdown",
   "id": "89abc3d1-82af-43f9-9386-8eac888c9ae4",
   "metadata": {},
   "source": [
    "##### Feature: *barrios*"
   ]
  },
  {
   "cell_type": "markdown",
   "id": "f4fffdc8-80d0-4eab-aa7c-64a0c74509f0",
   "metadata": {},
   "source": [
    "Aca yo veo el claro ejemplo de los Barrios."
   ]
  },
  {
   "cell_type": "code",
   "execution_count": 21,
   "id": "09484e9e-90e9-4ae7-ac6a-1cdac8ac56a5",
   "metadata": {},
   "outputs": [
    {
     "name": "stdout",
     "output_type": "stream",
     "text": [
      "Hay un total de 42\n"
     ]
    },
    {
     "data": {
      "text/plain": [
       "Palermo                88.400069\n",
       "Belgrano                2.175632\n",
       "NaN                     1.993470\n",
       "San Isidro              0.680529\n",
       "Villa Urquiza           0.470871\n",
       "Recoleta                0.415879\n",
       "La Boca                 0.391820\n",
       "Agronomia               0.364324\n",
       "Almagro                 0.343702\n",
       "Balvanera               0.326517\n",
       "Puerto Madero           0.309332\n",
       "Caballito               0.278398\n",
       "Boedo                   0.274961\n",
       "Barracas                0.257776\n",
       "Chacarita               0.250902\n",
       "Coghland                0.240591\n",
       "Floresta                0.230280\n",
       "Colegiales              0.213095\n",
       "Constitucion            0.213095\n",
       "Flores                  0.206221\n",
       "Liniers                 0.202784\n",
       "Monte Castro            0.175288\n",
       "Mataderos               0.151229\n",
       "Nueva Pompeya           0.147792\n",
       "Monserrat               0.127170\n",
       "nuñez                   0.116859\n",
       "Parque Chacabuco        0.106548\n",
       "Villa Luro              0.099673\n",
       "Parque Avellaneda       0.099673\n",
       "Parque Chas             0.096236\n",
       "La Paternal             0.079051\n",
       "Retiro                  0.068740\n",
       "Villa Soldati           0.065303\n",
       "Villa Devoto            0.065303\n",
       "Villa Real              0.061866\n",
       "San Telmo               0.061866\n",
       "Santa Rita              0.054992\n",
       "Villa General Mitre     0.048118\n",
       "Velez Sarsfield         0.044681\n",
       "Versalles               0.044681\n",
       "Villa Pueyrredon        0.041244\n",
       "Cilla Riachuelo         0.003437\n",
       "Name: barrio, dtype: float64"
      ]
     },
     "metadata": {},
     "output_type": "display_data"
    },
    {
     "name": "stdout",
     "output_type": "stream",
     "text": [
      "\n"
     ]
    }
   ],
   "source": [
    " barrios = df.barrio.value_counts(dropna=False, normalize=True) * 100\n",
    "print(f'Hay un total de {len(barrios)}') \n",
    "display(barrios)\n",
    "print('')"
   ]
  },
  {
   "cell_type": "markdown",
   "id": "37c3ca8e-d47b-4c5f-a640-6d5049bb02e7",
   "metadata": {},
   "source": [
    "42 barrios, y solo el 89.5% esta en Palermo... altisima Cardinalidad..."
   ]
  },
  {
   "cell_type": "code",
   "execution_count": 22,
   "id": "7ae694c2-2f9a-417c-a1ef-d4a5bbac4c7d",
   "metadata": {},
   "outputs": [
    {
     "data": {
      "text/plain": [
       "Palermo          25720\n",
       "Belgrano           633\n",
       "NaN                580\n",
       "San Isidro         198\n",
       "Villa Urquiza      137\n",
       "Recoleta           121\n",
       "La Boca            114\n",
       "Agronomia          106\n",
       "Almagro            100\n",
       "Balvanera           95\n",
       "Name: barrio, dtype: int64"
      ]
     },
     "metadata": {},
     "output_type": "display_data"
    },
    {
     "data": {
      "text/plain": [
       "[]"
      ]
     },
     "execution_count": 22,
     "metadata": {},
     "output_type": "execute_result"
    },
    {
     "data": {
      "image/png": "[encoded data removed]",
      "text/plain": [
       "<Figure size 1800x576 with 1 Axes>"
      ]
     },
     "metadata": {
      "needs_background": "light"
     },
     "output_type": "display_data"
    }
   ],
   "source": [
    "barrios_unicos = df['barrio'].value_counts(dropna=False)\n",
    "display(barrios_unicos.head(10))\n",
    "barrios_unicos.cumsum().plot(\n",
    "    kind='bar', title=\"Distribución de la suma acumulativa de razas\", figsize=(25, 8)\n",
    ")\n",
    "plt.plot()"
   ]
  },
  {
   "cell_type": "markdown",
   "id": "27c65daf-a279-47d6-938a-7f9e969e8597",
   "metadata": {},
   "source": [
    "Ahi en el grafico, fijate el primero de 'Palermo' esta al 90% lleno.. podrias quedarte solo con el 95% y reduciria muchisimo la cardinalidad del mismo"
   ]
  },
  {
   "cell_type": "code",
   "execution_count": 23,
   "id": "946d77e8-d8bd-429d-8400-23a7c5702da3",
   "metadata": {},
   "outputs": [
    {
     "data": {
      "text/plain": [
       "Palermo                25720\n",
       "Belgrano                 633\n",
       "NaN                      580\n",
       "San Isidro               198\n",
       "Villa Urquiza            137\n",
       "Recoleta                 121\n",
       "La Boca                  114\n",
       "Agronomia                106\n",
       "Almagro                  100\n",
       "Balvanera                 95\n",
       "Puerto Madero             90\n",
       "Caballito                 81\n",
       "Boedo                     80\n",
       "Barracas                  75\n",
       "Chacarita                 73\n",
       "Coghland                  70\n",
       "Floresta                  67\n",
       "Colegiales                62\n",
       "Constitucion              62\n",
       "Flores                    60\n",
       "Liniers                   59\n",
       "Monte Castro              51\n",
       "Mataderos                 44\n",
       "Nueva Pompeya             43\n",
       "Monserrat                 37\n",
       "nuñez                     34\n",
       "Parque Chacabuco          31\n",
       "Villa Luro                29\n",
       "Parque Avellaneda         29\n",
       "Parque Chas               28\n",
       "La Paternal               23\n",
       "Retiro                    20\n",
       "Villa Soldati             19\n",
       "Villa Devoto              19\n",
       "Villa Real                18\n",
       "San Telmo                 18\n",
       "Santa Rita                16\n",
       "Villa General Mitre       14\n",
       "Velez Sarsfield           13\n",
       "Versalles                 13\n",
       "Villa Pueyrredon          12\n",
       "Cilla Riachuelo            1\n",
       "Name: barrio, dtype: int64"
      ]
     },
     "execution_count": 23,
     "metadata": {},
     "output_type": "execute_result"
    }
   ],
   "source": [
    "df['barrio'].value_counts(dropna=False)"
   ]
  },
  {
   "cell_type": "code",
   "execution_count": 24,
   "id": "868bc564-d56f-4c21-a604-698369504293",
   "metadata": {},
   "outputs": [],
   "source": [
    "barrios = df['barrio'].value_counts(dropna=False)\n"
   ]
  },
  {
   "cell_type": "code",
   "execution_count": 25,
   "id": "6ae1804c-a94c-48d4-897f-e19c8d267b58",
   "metadata": {},
   "outputs": [
    {
     "data": {
      "text/plain": [
       "Index(['nuñez', 'Parque Chacabuco', 'Villa Luro', 'Parque Avellaneda',\n",
       "       'Parque Chas', 'La Paternal', 'Retiro', 'Villa Soldati', 'Villa Devoto',\n",
       "       'Villa Real', 'San Telmo', 'Santa Rita', 'Villa General Mitre',\n",
       "       'Velez Sarsfield', 'Versalles', 'Villa Pueyrredon', 'Cilla Riachuelo'],\n",
       "      dtype='object')"
      ]
     },
     "execution_count": 25,
     "metadata": {},
     "output_type": "execute_result"
    }
   ],
   "source": [
    "barris_achicado = barrios[barrios < 35 ].index\n",
    "barris_achicado\n"
   ]
  },
  {
   "cell_type": "code",
   "execution_count": 26,
   "id": "30183223-4721-4ccd-9101-515b1ed1109c",
   "metadata": {},
   "outputs": [],
   "source": [
    "df['barrio'] = df.barrio.replace(to_replace=barris_achicado, value='Otro',   inplace=False )"
   ]
  },
  {
   "cell_type": "code",
   "execution_count": 27,
   "id": "317f4503-82ab-4c74-bf60-4117cc40f078",
   "metadata": {},
   "outputs": [
    {
     "data": {
      "text/plain": [
       "Palermo          88.400069\n",
       "Belgrano          2.175632\n",
       "NaN               1.993470\n",
       "Otro              1.158275\n",
       "San Isidro        0.680529\n",
       "Villa Urquiza     0.470871\n",
       "Recoleta          0.415879\n",
       "La Boca           0.391820\n",
       "Agronomia         0.364324\n",
       "Almagro           0.343702\n",
       "Balvanera         0.326517\n",
       "Puerto Madero     0.309332\n",
       "Caballito         0.278398\n",
       "Boedo             0.274961\n",
       "Barracas          0.257776\n",
       "Chacarita         0.250902\n",
       "Coghland          0.240591\n",
       "Floresta          0.230280\n",
       "Colegiales        0.213095\n",
       "Constitucion      0.213095\n",
       "Flores            0.206221\n",
       "Liniers           0.202784\n",
       "Monte Castro      0.175288\n",
       "Mataderos         0.151229\n",
       "Nueva Pompeya     0.147792\n",
       "Monserrat         0.127170\n",
       "Name: barrio, dtype: float64"
      ]
     },
     "execution_count": 27,
     "metadata": {},
     "output_type": "execute_result"
    }
   ],
   "source": [
    "df.barrio.value_counts(dropna=False,normalize=True) * 100"
   ]
  },
  {
   "cell_type": "markdown",
   "id": "3212cd12-1997-474d-b89f-308c75e1a85d",
   "metadata": {},
   "source": [
    "O sea.. mamdé un 1.03% a \"Otro\" lo cual no se si nos covneiene realizar esto ahora que no usamos modelos complejos de ML\n",
    "\n",
    "Tampoco se si esta bien.. Tenias 100 personas o mas que mande a 'Otro'\n",
    "\n",
    "Quizas perdi mucha informacion\n",
    "\n",
    "Con Jorge.. él mostró un ejemplo y habia borrado solamente pocas personas.. o sea, ponele que era 1 o 2 personas por barrio por ejemplo \n",
    "\n",
    "----\n",
    "Despues no se que otro Feature analizar segun la baja u alta cardinalidad para hacer una \"Conversion\" tampoco se si es tan necesario tal como dije por no usar tan complejos ML modelos.."
   ]
  },
  {
   "cell_type": "markdown",
   "id": "a5f56081-b0e2-42e2-bf2f-9fe60a48b34e",
   "metadata": {},
   "source": [
    "### Conversion de variables numéricas"
   ]
  },
  {
   "cell_type": "code",
   "execution_count": 28,
   "id": "3e1290a2-e9b9-40ae-9c62-b63a4c2d6a23",
   "metadata": {},
   "outputs": [
    {
     "data": {
      "text/html": [
       "<div>\n",
       "<style scoped>\n",
       "    .dataframe tbody tr th:only-of-type {\n",
       "        vertical-align: middle;\n",
       "    }\n",
       "\n",
       "    .dataframe tbody tr th {\n",
       "        vertical-align: top;\n",
       "    }\n",
       "\n",
       "    .dataframe thead th {\n",
       "        text-align: right;\n",
       "    }\n",
       "</style>\n",
       "<table border=\"1\" class=\"dataframe\">\n",
       "  <thead>\n",
       "    <tr style=\"text-align: right;\">\n",
       "      <th></th>\n",
       "      <th>anios_estudiados</th>\n",
       "      <th>edad</th>\n",
       "      <th>ganancia_perdida_declarada_bolsa_argentina</th>\n",
       "      <th>horas_trabajo_registradas</th>\n",
       "      <th>tiene_alto_valor_adquisitivo</th>\n",
       "    </tr>\n",
       "  </thead>\n",
       "  <tbody>\n",
       "    <tr>\n",
       "      <th>count</th>\n",
       "      <td>29095.000000</td>\n",
       "      <td>29095.000000</td>\n",
       "      <td>29095.000000</td>\n",
       "      <td>29095.000000</td>\n",
       "      <td>29095.000000</td>\n",
       "    </tr>\n",
       "    <tr>\n",
       "      <th>mean</th>\n",
       "      <td>14.073174</td>\n",
       "      <td>39.251521</td>\n",
       "      <td>1100.664857</td>\n",
       "      <td>40.637842</td>\n",
       "      <td>0.247809</td>\n",
       "    </tr>\n",
       "    <tr>\n",
       "      <th>std</th>\n",
       "      <td>2.743755</td>\n",
       "      <td>13.687358</td>\n",
       "      <td>7804.833367</td>\n",
       "      <td>12.735636</td>\n",
       "      <td>0.431748</td>\n",
       "    </tr>\n",
       "    <tr>\n",
       "      <th>min</th>\n",
       "      <td>1.000000</td>\n",
       "      <td>17.000000</td>\n",
       "      <td>-4356.000000</td>\n",
       "      <td>1.000000</td>\n",
       "      <td>0.000000</td>\n",
       "    </tr>\n",
       "    <tr>\n",
       "      <th>25%</th>\n",
       "      <td>13.000000</td>\n",
       "      <td>28.000000</td>\n",
       "      <td>0.000000</td>\n",
       "      <td>40.000000</td>\n",
       "      <td>0.000000</td>\n",
       "    </tr>\n",
       "    <tr>\n",
       "      <th>50%</th>\n",
       "      <td>14.000000</td>\n",
       "      <td>38.000000</td>\n",
       "      <td>0.000000</td>\n",
       "      <td>40.000000</td>\n",
       "      <td>0.000000</td>\n",
       "    </tr>\n",
       "    <tr>\n",
       "      <th>75%</th>\n",
       "      <td>17.000000</td>\n",
       "      <td>48.000000</td>\n",
       "      <td>0.000000</td>\n",
       "      <td>45.000000</td>\n",
       "      <td>0.000000</td>\n",
       "    </tr>\n",
       "    <tr>\n",
       "      <th>max</th>\n",
       "      <td>20.000000</td>\n",
       "      <td>90.000000</td>\n",
       "      <td>99999.000000</td>\n",
       "      <td>99.000000</td>\n",
       "      <td>1.000000</td>\n",
       "    </tr>\n",
       "  </tbody>\n",
       "</table>\n",
       "</div>"
      ],
      "text/plain": [
       "       anios_estudiados          edad  \\\n",
       "count      29095.000000  29095.000000   \n",
       "mean          14.073174     39.251521   \n",
       "std            2.743755     13.687358   \n",
       "min            1.000000     17.000000   \n",
       "25%           13.000000     28.000000   \n",
       "50%           14.000000     38.000000   \n",
       "75%           17.000000     48.000000   \n",
       "max           20.000000     90.000000   \n",
       "\n",
       "       ganancia_perdida_declarada_bolsa_argentina  horas_trabajo_registradas  \\\n",
       "count                                29095.000000               29095.000000   \n",
       "mean                                  1100.664857                  40.637842   \n",
       "std                                   7804.833367                  12.735636   \n",
       "min                                  -4356.000000                   1.000000   \n",
       "25%                                      0.000000                  40.000000   \n",
       "50%                                      0.000000                  40.000000   \n",
       "75%                                      0.000000                  45.000000   \n",
       "max                                  99999.000000                  99.000000   \n",
       "\n",
       "       tiene_alto_valor_adquisitivo  \n",
       "count                  29095.000000  \n",
       "mean                       0.247809  \n",
       "std                        0.431748  \n",
       "min                        0.000000  \n",
       "25%                        0.000000  \n",
       "50%                        0.000000  \n",
       "75%                        0.000000  \n",
       "max                        1.000000  "
      ]
     },
     "execution_count": 28,
     "metadata": {},
     "output_type": "execute_result"
    }
   ],
   "source": [
    "df.describe()"
   ]
  },
  {
   "cell_type": "markdown",
   "id": "cd08997f-6d05-41c1-9ed1-a28f46b9dafc",
   "metadata": {},
   "source": [
    "Tenias varios conceptos para aplicar a Numericos y que figuran en el notebook de 'feature_engineering'\n",
    "\n",
    "#### Scalers\n",
    "\n",
    "Es una transformación por la cual escalamos a un determinado rango/distribución.. ponele valores de peso y altura, te interesa que se distribuyan como una distribucion normal por ejemplo... Esto entiendo que no haria falta aplicar aca porque como no usamos modelos ML, tipo.."
   ]
  },
  {
   "cell_type": "markdown",
   "id": "1036e0b9-3449-4621-96cb-85b3afad2919",
   "metadata": {},
   "source": [
    "#### Discretización: Binarizer y KBinsDiscretizer"
   ]
  },
  {
   "cell_type": "markdown",
   "id": "584f1cba-7130-4739-a4fd-6494b66c1832",
   "metadata": {},
   "source": [
    "Discretización: Binarizer y KBinsDiscretizer\n",
    "Esto lo que hace, *pasar de Continuo a Discreto*\n",
    "\n",
    "Quizas para la ganancia perdida decalrad de la bolsa..al tener muchos valores,seria continua ahi deberiamos discretizar?\n",
    "\n",
    "Ahi deberiamos discretizar?\n",
    "\n",
    "O no hace falta por no usar ML complejo?#### Discretización: Binarizer y KBinsDiscretizer"
   ]
  },
  {
   "cell_type": "markdown",
   "id": "4f336fcf-f8f1-4491-a8ff-631c64fb159a",
   "metadata": {},
   "source": [
    "#### Outliers"
   ]
  },
  {
   "cell_type": "code",
   "execution_count": 29,
   "id": "1a460574-c936-4192-9d2d-2624fb2a3cc7",
   "metadata": {},
   "outputs": [
    {
     "data": {
      "text/html": [
       "<div>\n",
       "<style scoped>\n",
       "    .dataframe tbody tr th:only-of-type {\n",
       "        vertical-align: middle;\n",
       "    }\n",
       "\n",
       "    .dataframe tbody tr th {\n",
       "        vertical-align: top;\n",
       "    }\n",
       "\n",
       "    .dataframe thead th {\n",
       "        text-align: right;\n",
       "    }\n",
       "</style>\n",
       "<table border=\"1\" class=\"dataframe\">\n",
       "  <thead>\n",
       "    <tr style=\"text-align: right;\">\n",
       "      <th></th>\n",
       "      <th>anios_estudiados</th>\n",
       "      <th>edad</th>\n",
       "      <th>ganancia_perdida_declarada_bolsa_argentina</th>\n",
       "      <th>horas_trabajo_registradas</th>\n",
       "      <th>tiene_alto_valor_adquisitivo</th>\n",
       "    </tr>\n",
       "  </thead>\n",
       "  <tbody>\n",
       "    <tr>\n",
       "      <th>count</th>\n",
       "      <td>29095.000000</td>\n",
       "      <td>29095.000000</td>\n",
       "      <td>29095.000000</td>\n",
       "      <td>29095.000000</td>\n",
       "      <td>29095.000000</td>\n",
       "    </tr>\n",
       "    <tr>\n",
       "      <th>mean</th>\n",
       "      <td>14.073174</td>\n",
       "      <td>39.251521</td>\n",
       "      <td>1100.664857</td>\n",
       "      <td>40.637842</td>\n",
       "      <td>0.247809</td>\n",
       "    </tr>\n",
       "    <tr>\n",
       "      <th>std</th>\n",
       "      <td>2.743755</td>\n",
       "      <td>13.687358</td>\n",
       "      <td>7804.833367</td>\n",
       "      <td>12.735636</td>\n",
       "      <td>0.431748</td>\n",
       "    </tr>\n",
       "    <tr>\n",
       "      <th>min</th>\n",
       "      <td>1.000000</td>\n",
       "      <td>17.000000</td>\n",
       "      <td>-4356.000000</td>\n",
       "      <td>1.000000</td>\n",
       "      <td>0.000000</td>\n",
       "    </tr>\n",
       "    <tr>\n",
       "      <th>25%</th>\n",
       "      <td>13.000000</td>\n",
       "      <td>28.000000</td>\n",
       "      <td>0.000000</td>\n",
       "      <td>40.000000</td>\n",
       "      <td>0.000000</td>\n",
       "    </tr>\n",
       "    <tr>\n",
       "      <th>50%</th>\n",
       "      <td>14.000000</td>\n",
       "      <td>38.000000</td>\n",
       "      <td>0.000000</td>\n",
       "      <td>40.000000</td>\n",
       "      <td>0.000000</td>\n",
       "    </tr>\n",
       "    <tr>\n",
       "      <th>75%</th>\n",
       "      <td>17.000000</td>\n",
       "      <td>48.000000</td>\n",
       "      <td>0.000000</td>\n",
       "      <td>45.000000</td>\n",
       "      <td>0.000000</td>\n",
       "    </tr>\n",
       "    <tr>\n",
       "      <th>max</th>\n",
       "      <td>20.000000</td>\n",
       "      <td>90.000000</td>\n",
       "      <td>99999.000000</td>\n",
       "      <td>99.000000</td>\n",
       "      <td>1.000000</td>\n",
       "    </tr>\n",
       "  </tbody>\n",
       "</table>\n",
       "</div>"
      ],
      "text/plain": [
       "       anios_estudiados          edad  \\\n",
       "count      29095.000000  29095.000000   \n",
       "mean          14.073174     39.251521   \n",
       "std            2.743755     13.687358   \n",
       "min            1.000000     17.000000   \n",
       "25%           13.000000     28.000000   \n",
       "50%           14.000000     38.000000   \n",
       "75%           17.000000     48.000000   \n",
       "max           20.000000     90.000000   \n",
       "\n",
       "       ganancia_perdida_declarada_bolsa_argentina  horas_trabajo_registradas  \\\n",
       "count                                29095.000000               29095.000000   \n",
       "mean                                  1100.664857                  40.637842   \n",
       "std                                   7804.833367                  12.735636   \n",
       "min                                  -4356.000000                   1.000000   \n",
       "25%                                      0.000000                  40.000000   \n",
       "50%                                      0.000000                  40.000000   \n",
       "75%                                      0.000000                  45.000000   \n",
       "max                                  99999.000000                  99.000000   \n",
       "\n",
       "       tiene_alto_valor_adquisitivo  \n",
       "count                  29095.000000  \n",
       "mean                       0.247809  \n",
       "std                        0.431748  \n",
       "min                        0.000000  \n",
       "25%                        0.000000  \n",
       "50%                        0.000000  \n",
       "75%                        0.000000  \n",
       "max                        1.000000  "
      ]
     },
     "execution_count": 29,
     "metadata": {},
     "output_type": "execute_result"
    }
   ],
   "source": [
    "df.describe()"
   ]
  },
  {
   "cell_type": "markdown",
   "id": "5eff1b76-4dcf-4cf3-a1af-3b25139e6a64",
   "metadata": {},
   "source": [
    "Quizas si debamos aplicar ésto cuando analizemos bien las preguntas.. O sea, realizar una conversión para que algun que otro Outlier no nos rompa...\n",
    "\n",
    "O ver bien qué hacer con los Outliers\n",
    "\n",
    "horas_trabajo_registradas alguien puso 99 y no sé si sea coherente!"
   ]
  },
  {
   "cell_type": "markdown",
   "id": "e869e8bb-6524-4a3d-881d-31953a58fcd4",
   "metadata": {},
   "source": [
    "### Conversion variales ordinales"
   ]
  },
  {
   "cell_type": "markdown",
   "id": "4015dc88-cd88-4356-aaa7-0990f2a5d7d9",
   "metadata": {},
   "source": [
    "Aca si son variables con un cierto orden... Seria mejor asocialer un numero? \n",
    "\n",
    "El 1 representa el nivel mas bjajo de educacion alcanza.. y luego el mas alto seria la educacion mas alta?\n",
    "\n",
    "Conviene hacer esa conversion?"
   ]
  },
  {
   "cell_type": "code",
   "execution_count": 30,
   "id": "f94c086d-e393-4de5-aa71-c2b9051a7d13",
   "metadata": {},
   "outputs": [
    {
     "data": {
      "text/plain": [
       "4_anio                8885\n",
       "5_anio                6378\n",
       "universidad_3_anio    4810\n",
       "universidad_4_anio    1653\n",
       "universidad_1_anio    1331\n",
       "2_anio                1056\n",
       "universidad_2_anio    1053\n",
       "1_anio                 867\n",
       "7-8_grado              629\n",
       "universiada_5_anio     566\n",
       "9_grado                507\n",
       "3_anio                 414\n",
       "universiada_6_anio     402\n",
       "5-6_grado              328\n",
       "1-4_grado              166\n",
       "preescolar              50\n",
       "Name: educacion_alcanzada, dtype: int64"
      ]
     },
     "execution_count": 30,
     "metadata": {},
     "output_type": "execute_result"
    }
   ],
   "source": [
    "df.educacion_alcanzada.value_counts()"
   ]
  },
  {
   "cell_type": "markdown",
   "id": "535098b3-29dc-4d6c-8815-112ecef91846",
   "metadata": {},
   "source": [
    "### Conversión de los tipos de datos de los featurs"
   ]
  },
  {
   "cell_type": "code",
   "execution_count": 31,
   "id": "17ffbeea-99c8-44d3-a9b8-b0a46b7f7855",
   "metadata": {},
   "outputs": [
    {
     "name": "stdout",
     "output_type": "stream",
     "text": [
      "<class 'pandas.core.frame.DataFrame'>\n",
      "Int64Index: 29095 entries, 0 to 32560\n",
      "Data columns (total 13 columns):\n",
      " #   Column                                      Non-Null Count  Dtype \n",
      "---  ------                                      --------------  ----- \n",
      " 0   anios_estudiados                            29095 non-null  int64 \n",
      " 1   barrio                                      28515 non-null  object\n",
      " 2   categoria_de_trabajo                        27463 non-null  object\n",
      " 3   edad                                        29095 non-null  int64 \n",
      " 4   educacion_alcanzada                         29095 non-null  object\n",
      " 5   estado_marital                              29095 non-null  object\n",
      " 6   ganancia_perdida_declarada_bolsa_argentina  29095 non-null  int64 \n",
      " 7   genero                                      29095 non-null  object\n",
      " 8   horas_trabajo_registradas                   29095 non-null  int64 \n",
      " 9   religion                                    29095 non-null  object\n",
      " 10  rol_familiar_registrado                     29095 non-null  object\n",
      " 11  tiene_alto_valor_adquisitivo                29095 non-null  int64 \n",
      " 12  trabajo                                     27456 non-null  object\n",
      "dtypes: int64(5), object(8)\n",
      "memory usage: 2.2+ MB\n"
     ]
    }
   ],
   "source": [
    "df.info()"
   ]
  },
  {
   "cell_type": "markdown",
   "id": "b26ba16b-7f9b-4387-ab8c-b8c8559de67f",
   "metadata": {},
   "source": [
    "Al analizar la anterior columna detenidamente uno se preguntaria de por que features como la variable target *tiene_alto_valor_adquisitivo* tiene un tipo de dato de *int64* sabiendo que adoptan solo 2 valores posibles. "
   ]
  },
  {
   "cell_type": "markdown",
   "id": "858e9b6d-6b53-4761-90bc-38c00f9208ed",
   "metadata": {},
   "source": [
    "Si tenemos en cuenta los valores que adoptan los features numericos, podemos convertir los tipos de datos de los features, acorde al tipo de feature tratado.\n",
    "En el caso de la *variable target*, adopta valor de 0 o 1. No tendria sentido que sea un de tipo entero por ende lo pasamos a booleano."
   ]
  },
  {
   "cell_type": "code",
   "execution_count": 32,
   "id": "f7b5c70c-3d60-4b2e-b4a8-ff0652578d6b",
   "metadata": {},
   "outputs": [
    {
     "data": {
      "text/html": [
       "<div>\n",
       "<style scoped>\n",
       "    .dataframe tbody tr th:only-of-type {\n",
       "        vertical-align: middle;\n",
       "    }\n",
       "\n",
       "    .dataframe tbody tr th {\n",
       "        vertical-align: top;\n",
       "    }\n",
       "\n",
       "    .dataframe thead th {\n",
       "        text-align: right;\n",
       "    }\n",
       "</style>\n",
       "<table border=\"1\" class=\"dataframe\">\n",
       "  <thead>\n",
       "    <tr style=\"text-align: right;\">\n",
       "      <th></th>\n",
       "      <th>anios_estudiados</th>\n",
       "      <th>edad</th>\n",
       "      <th>ganancia_perdida_declarada_bolsa_argentina</th>\n",
       "      <th>horas_trabajo_registradas</th>\n",
       "      <th>tiene_alto_valor_adquisitivo</th>\n",
       "    </tr>\n",
       "  </thead>\n",
       "  <tbody>\n",
       "    <tr>\n",
       "      <th>count</th>\n",
       "      <td>29095.000000</td>\n",
       "      <td>29095.000000</td>\n",
       "      <td>29095.000000</td>\n",
       "      <td>29095.000000</td>\n",
       "      <td>29095.000000</td>\n",
       "    </tr>\n",
       "    <tr>\n",
       "      <th>mean</th>\n",
       "      <td>14.073174</td>\n",
       "      <td>39.251521</td>\n",
       "      <td>1100.664857</td>\n",
       "      <td>40.637842</td>\n",
       "      <td>0.247809</td>\n",
       "    </tr>\n",
       "    <tr>\n",
       "      <th>std</th>\n",
       "      <td>2.743755</td>\n",
       "      <td>13.687358</td>\n",
       "      <td>7804.833367</td>\n",
       "      <td>12.735636</td>\n",
       "      <td>0.431748</td>\n",
       "    </tr>\n",
       "    <tr>\n",
       "      <th>min</th>\n",
       "      <td>1.000000</td>\n",
       "      <td>17.000000</td>\n",
       "      <td>-4356.000000</td>\n",
       "      <td>1.000000</td>\n",
       "      <td>0.000000</td>\n",
       "    </tr>\n",
       "    <tr>\n",
       "      <th>25%</th>\n",
       "      <td>13.000000</td>\n",
       "      <td>28.000000</td>\n",
       "      <td>0.000000</td>\n",
       "      <td>40.000000</td>\n",
       "      <td>0.000000</td>\n",
       "    </tr>\n",
       "    <tr>\n",
       "      <th>50%</th>\n",
       "      <td>14.000000</td>\n",
       "      <td>38.000000</td>\n",
       "      <td>0.000000</td>\n",
       "      <td>40.000000</td>\n",
       "      <td>0.000000</td>\n",
       "    </tr>\n",
       "    <tr>\n",
       "      <th>75%</th>\n",
       "      <td>17.000000</td>\n",
       "      <td>48.000000</td>\n",
       "      <td>0.000000</td>\n",
       "      <td>45.000000</td>\n",
       "      <td>0.000000</td>\n",
       "    </tr>\n",
       "    <tr>\n",
       "      <th>max</th>\n",
       "      <td>20.000000</td>\n",
       "      <td>90.000000</td>\n",
       "      <td>99999.000000</td>\n",
       "      <td>99.000000</td>\n",
       "      <td>1.000000</td>\n",
       "    </tr>\n",
       "  </tbody>\n",
       "</table>\n",
       "</div>"
      ],
      "text/plain": [
       "       anios_estudiados          edad  \\\n",
       "count      29095.000000  29095.000000   \n",
       "mean          14.073174     39.251521   \n",
       "std            2.743755     13.687358   \n",
       "min            1.000000     17.000000   \n",
       "25%           13.000000     28.000000   \n",
       "50%           14.000000     38.000000   \n",
       "75%           17.000000     48.000000   \n",
       "max           20.000000     90.000000   \n",
       "\n",
       "       ganancia_perdida_declarada_bolsa_argentina  horas_trabajo_registradas  \\\n",
       "count                                29095.000000               29095.000000   \n",
       "mean                                  1100.664857                  40.637842   \n",
       "std                                   7804.833367                  12.735636   \n",
       "min                                  -4356.000000                   1.000000   \n",
       "25%                                      0.000000                  40.000000   \n",
       "50%                                      0.000000                  40.000000   \n",
       "75%                                      0.000000                  45.000000   \n",
       "max                                  99999.000000                  99.000000   \n",
       "\n",
       "       tiene_alto_valor_adquisitivo  \n",
       "count                  29095.000000  \n",
       "mean                       0.247809  \n",
       "std                        0.431748  \n",
       "min                        0.000000  \n",
       "25%                        0.000000  \n",
       "50%                        0.000000  \n",
       "75%                        0.000000  \n",
       "max                        1.000000  "
      ]
     },
     "execution_count": 32,
     "metadata": {},
     "output_type": "execute_result"
    }
   ],
   "source": [
    "df.describe()"
   ]
  },
  {
   "cell_type": "markdown",
   "id": "c0acdea5-2c63-432d-b537-6c77002d944e",
   "metadata": {},
   "source": [
    "Lo mismo para la *edad*, *años estudiados* y *horas regisradas*. Viendo la tabla anterior se observa que no hay valores negativos por como antes habiamos analizado, en caso de que los hubiera lo pasabamos a *NaN* (no tendria sentido que los tuveira)\n",
    "Ademas estos features mencionados, nunca superarian el nivel permitido por el tipo de dato *ubyte* de 255 valores, por eso lo converitmos a ese tipo de dato."
   ]
  },
  {
   "cell_type": "code",
   "execution_count": 33,
   "id": "7bd37064-2fe9-4e2e-9db0-c71822e879ee",
   "metadata": {},
   "outputs": [
    {
     "name": "stdout",
     "output_type": "stream",
     "text": [
      "<class 'pandas.core.frame.DataFrame'>\n",
      "Int64Index: 29095 entries, 0 to 32560\n",
      "Data columns (total 13 columns):\n",
      " #   Column                                      Non-Null Count  Dtype \n",
      "---  ------                                      --------------  ----- \n",
      " 0   anios_estudiados                            29095 non-null  uint8 \n",
      " 1   barrio                                      28515 non-null  object\n",
      " 2   categoria_de_trabajo                        27463 non-null  object\n",
      " 3   edad                                        29095 non-null  uint8 \n",
      " 4   educacion_alcanzada                         29095 non-null  object\n",
      " 5   estado_marital                              29095 non-null  object\n",
      " 6   ganancia_perdida_declarada_bolsa_argentina  29095 non-null  int64 \n",
      " 7   genero                                      29095 non-null  object\n",
      " 8   horas_trabajo_registradas                   29095 non-null  uint8 \n",
      " 9   religion                                    29095 non-null  object\n",
      " 10  rol_familiar_registrado                     29095 non-null  object\n",
      " 11  tiene_alto_valor_adquisitivo                29095 non-null  uint8 \n",
      " 12  trabajo                                     27456 non-null  object\n",
      "dtypes: int64(1), object(8), uint8(4)\n",
      "memory usage: 1.4+ MB\n"
     ]
    }
   ],
   "source": [
    "df['tiene_alto_valor_adquisitivo'] = df['tiene_alto_valor_adquisitivo'].astype(np.ubyte) ## OJO.. NO LO PUSE BOOLEANO!! TESTEANDO PLOTS, SI ES BOOL NO TE DEJA HACER CIERTOS PLOTS\n",
    "df['edad'] = df['edad'].astype(np.ubyte)\n",
    "df['anios_estudiados'] = df['anios_estudiados'].astype(np.ubyte)\n",
    "df['horas_trabajo_registradas'] = df['horas_trabajo_registradas'].astype(np.ubyte)\n",
    "df.info()"
   ]
  },
  {
   "cell_type": "markdown",
   "id": "702ea047-f54f-4cd4-b257-43456908f739",
   "metadata": {},
   "source": [
    "Podriamos asignar a *ganancia_perdida_declarada_bolsa_argentina* el tipo de dato *ushort*, pero superaria el maximo permitido de ese tipo de dato de 16 bits y ademas es coherente que mantenga valores negativos. Por ende, lo dejamos como tipo de *int64*"
   ]
  },
  {
   "cell_type": "markdown",
   "id": "25a4fbe0-cce7-41d0-bf54-2a6524704ac8",
   "metadata": {},
   "source": [
    "# Missings (Trabajando con valores faltantes)"
   ]
  },
  {
   "cell_type": "code",
   "execution_count": 34,
   "id": "1cdba261-ffac-426d-9a8a-79b30457ed09",
   "metadata": {},
   "outputs": [
    {
     "data": {
      "text/plain": [
       "anios_estudiados                                 0\n",
       "barrio                                         580\n",
       "categoria_de_trabajo                          1632\n",
       "edad                                             0\n",
       "educacion_alcanzada                              0\n",
       "estado_marital                                   0\n",
       "ganancia_perdida_declarada_bolsa_argentina       0\n",
       "genero                                           0\n",
       "horas_trabajo_registradas                        0\n",
       "religion                                         0\n",
       "rol_familiar_registrado                          0\n",
       "tiene_alto_valor_adquisitivo                     0\n",
       "trabajo                                       1639\n",
       "dtype: int64"
      ]
     },
     "execution_count": 34,
     "metadata": {},
     "output_type": "execute_result"
    }
   ],
   "source": [
    "df.isnull().sum()"
   ]
  },
  {
   "cell_type": "code",
   "execution_count": 35,
   "id": "4e64e6a8-89e6-418c-9ace-38e17542f1fc",
   "metadata": {},
   "outputs": [
    {
     "data": {
      "text/html": [
       "<div>\n",
       "<style scoped>\n",
       "    .dataframe tbody tr th:only-of-type {\n",
       "        vertical-align: middle;\n",
       "    }\n",
       "\n",
       "    .dataframe tbody tr th {\n",
       "        vertical-align: top;\n",
       "    }\n",
       "\n",
       "    .dataframe thead th {\n",
       "        text-align: right;\n",
       "    }\n",
       "</style>\n",
       "<table border=\"1\" class=\"dataframe\">\n",
       "  <thead>\n",
       "    <tr style=\"text-align: right;\">\n",
       "      <th></th>\n",
       "      <th>Porcentaje de NaN</th>\n",
       "    </tr>\n",
       "  </thead>\n",
       "  <tbody>\n",
       "    <tr>\n",
       "      <th>anios_estudiados</th>\n",
       "      <td>0.000000</td>\n",
       "    </tr>\n",
       "    <tr>\n",
       "      <th>barrio</th>\n",
       "      <td>1.993470</td>\n",
       "    </tr>\n",
       "    <tr>\n",
       "      <th>categoria_de_trabajo</th>\n",
       "      <td>5.609211</td>\n",
       "    </tr>\n",
       "    <tr>\n",
       "      <th>edad</th>\n",
       "      <td>0.000000</td>\n",
       "    </tr>\n",
       "    <tr>\n",
       "      <th>educacion_alcanzada</th>\n",
       "      <td>0.000000</td>\n",
       "    </tr>\n",
       "    <tr>\n",
       "      <th>estado_marital</th>\n",
       "      <td>0.000000</td>\n",
       "    </tr>\n",
       "    <tr>\n",
       "      <th>ganancia_perdida_declarada_bolsa_argentina</th>\n",
       "      <td>0.000000</td>\n",
       "    </tr>\n",
       "    <tr>\n",
       "      <th>genero</th>\n",
       "      <td>0.000000</td>\n",
       "    </tr>\n",
       "    <tr>\n",
       "      <th>horas_trabajo_registradas</th>\n",
       "      <td>0.000000</td>\n",
       "    </tr>\n",
       "    <tr>\n",
       "      <th>religion</th>\n",
       "      <td>0.000000</td>\n",
       "    </tr>\n",
       "    <tr>\n",
       "      <th>rol_familiar_registrado</th>\n",
       "      <td>0.000000</td>\n",
       "    </tr>\n",
       "    <tr>\n",
       "      <th>tiene_alto_valor_adquisitivo</th>\n",
       "      <td>0.000000</td>\n",
       "    </tr>\n",
       "    <tr>\n",
       "      <th>trabajo</th>\n",
       "      <td>5.633270</td>\n",
       "    </tr>\n",
       "  </tbody>\n",
       "</table>\n",
       "</div>"
      ],
      "text/plain": [
       "                                            Porcentaje de NaN\n",
       "anios_estudiados                                     0.000000\n",
       "barrio                                               1.993470\n",
       "categoria_de_trabajo                                 5.609211\n",
       "edad                                                 0.000000\n",
       "educacion_alcanzada                                  0.000000\n",
       "estado_marital                                       0.000000\n",
       "ganancia_perdida_declarada_bolsa_argentina           0.000000\n",
       "genero                                               0.000000\n",
       "horas_trabajo_registradas                            0.000000\n",
       "religion                                             0.000000\n",
       "rol_familiar_registrado                              0.000000\n",
       "tiene_alto_valor_adquisitivo                         0.000000\n",
       "trabajo                                              5.633270"
      ]
     },
     "execution_count": 35,
     "metadata": {},
     "output_type": "execute_result"
    }
   ],
   "source": [
    "(df.isnull().mean() * 100).to_frame('Porcentaje de NaN')"
   ]
  },
  {
   "cell_type": "markdown",
   "id": "d1468f01-55d9-4903-9046-51089815e7c0",
   "metadata": {},
   "source": [
    "Habia en el notebook de 'feature_engineering' 3 opciones\n",
    "\n",
    "- **Opcion 1: remover los nulos del dataset**\n",
    "\n",
    "Literalmente es eliminarlas, no la veo buena opcion, ya que es alto porcentaje de nulos..\n",
    "\n",
    "- **Opcion 2 - IMPUTERS: completar usando info de esa columna (Univariadas)**\n",
    "\n",
    "\n",
    "-> *Numericas*\n",
    "Completando con la media, mediana, etc. Algun estadistico.\n",
    "\n",
    "-> *Categóricas*\n",
    "Los encoders lo solucionan... One Hot Encoding.. te asigna columna pa NaN (eso entiendo)\n",
    "\n",
    "\n",
    "- **Opcion 3 - IMPUTERS: completar usando info de las demas columnas (Multivariada)**\n",
    "\n",
    "No lo veremos para este TP, es aplicar modelos complejos o algo asi (KNN?)\n",
    "\n",
    "----\n",
    "\n",
    "- En la teorica habia dicho convertir los nulos en una categoria mas.. por ejemplo, aca trabajo podria considerar \"no responde\"\n",
    "\n",
    "- Y tambien... agregar una columna indicando que fue o no modificada con algun Imputer.. eso ayudaria al modelo de ML."
   ]
  },
  {
   "cell_type": "markdown",
   "id": "0a8e001f-9a65-4830-8936-a18c38948188",
   "metadata": {},
   "source": [
    "## Una solucion"
   ]
  },
  {
   "cell_type": "code",
   "execution_count": 36,
   "id": "a871c1c2-fbc9-4f0f-8bcd-b40306ac0a8c",
   "metadata": {},
   "outputs": [
    {
     "name": "stdout",
     "output_type": "stream",
     "text": [
      "<class 'pandas.core.frame.DataFrame'>\n",
      "Int64Index: 29095 entries, 0 to 32560\n",
      "Data columns (total 13 columns):\n",
      " #   Column                                      Non-Null Count  Dtype \n",
      "---  ------                                      --------------  ----- \n",
      " 0   anios_estudiados                            29095 non-null  uint8 \n",
      " 1   barrio                                      28515 non-null  object\n",
      " 2   categoria_de_trabajo                        27463 non-null  object\n",
      " 3   edad                                        29095 non-null  uint8 \n",
      " 4   educacion_alcanzada                         29095 non-null  object\n",
      " 5   estado_marital                              29095 non-null  object\n",
      " 6   ganancia_perdida_declarada_bolsa_argentina  29095 non-null  int64 \n",
      " 7   genero                                      29095 non-null  object\n",
      " 8   horas_trabajo_registradas                   29095 non-null  uint8 \n",
      " 9   religion                                    29095 non-null  object\n",
      " 10  rol_familiar_registrado                     29095 non-null  object\n",
      " 11  tiene_alto_valor_adquisitivo                29095 non-null  uint8 \n",
      " 12  trabajo                                     27456 non-null  object\n",
      "dtypes: int64(1), object(8), uint8(4)\n",
      "memory usage: 1.4+ MB\n"
     ]
    }
   ],
   "source": [
    "df.info()"
   ]
  },
  {
   "cell_type": "markdown",
   "id": "be524af1-f487-4301-a5e8-38a4c80c7f8e",
   "metadata": {},
   "source": [
    "Una posible, de tantas, podria ser convertir esas 2 categorias \"trabajo\" y \"categoria_de_trabajo\" en \"no responde\" \n",
    "\n",
    "Tambien la parte de \"barrio\"\n",
    "\n",
    "Porque si promediamos con la media ahi, es como que podriamos perder potencial informcacion.\n",
    "\n",
    "Quizas la gente que no responde donde vive, podria ser personas que tienen alto ingreso, y por temor a que lo identifiquen seria mejor ocultarse\n",
    "\n",
    "Idem razonamiento con el trabajo.. Mira si es un Narco que indicó que gana mucho y prefiere no decirlo?\n",
    "\n",
    "Por eso preferiria tener que no inferir con IMputers (con algun estadistico) ni mucho menos borraria esas filas, ni columnas!!! \n"
   ]
  },
  {
   "cell_type": "code",
   "execution_count": 37,
   "id": "4010fed5-a1b5-4b4a-87d5-07a923480f64",
   "metadata": {},
   "outputs": [],
   "source": [
    "df['trabajo'].fillna(\"No responde\",inplace=True)\n",
    "df['categoria_de_trabajo'].fillna(\"No responde\",inplace=True)\n",
    "df['barrio'].fillna(\"No responde\",inplace=True)"
   ]
  },
  {
   "cell_type": "markdown",
   "id": "1ad291f8-7cdb-4c1d-a69e-d80cb1dbb0be",
   "metadata": {},
   "source": [
    "# Selección"
   ]
  },
  {
   "cell_type": "markdown",
   "id": "26b09597-948d-4662-8ba8-9be6fc6686da",
   "metadata": {},
   "source": [
    "• *Idea*: Reducir la dimensión mediante la eliminación de variables poco útiles, o que me restan, ni me sirven."
   ]
  },
  {
   "cell_type": "code",
   "execution_count": 38,
   "id": "7d44d9fe-27b2-4247-b69a-33cb07fbabeb",
   "metadata": {},
   "outputs": [
    {
     "name": "stdout",
     "output_type": "stream",
     "text": [
      "<class 'pandas.core.frame.DataFrame'>\n",
      "Int64Index: 29095 entries, 0 to 32560\n",
      "Data columns (total 13 columns):\n",
      " #   Column                                      Non-Null Count  Dtype \n",
      "---  ------                                      --------------  ----- \n",
      " 0   anios_estudiados                            29095 non-null  uint8 \n",
      " 1   barrio                                      29095 non-null  object\n",
      " 2   categoria_de_trabajo                        29095 non-null  object\n",
      " 3   edad                                        29095 non-null  uint8 \n",
      " 4   educacion_alcanzada                         29095 non-null  object\n",
      " 5   estado_marital                              29095 non-null  object\n",
      " 6   ganancia_perdida_declarada_bolsa_argentina  29095 non-null  int64 \n",
      " 7   genero                                      29095 non-null  object\n",
      " 8   horas_trabajo_registradas                   29095 non-null  uint8 \n",
      " 9   religion                                    29095 non-null  object\n",
      " 10  rol_familiar_registrado                     29095 non-null  object\n",
      " 11  tiene_alto_valor_adquisitivo                29095 non-null  uint8 \n",
      " 12  trabajo                                     29095 non-null  object\n",
      "dtypes: int64(1), object(8), uint8(4)\n",
      "memory usage: 1.4+ MB\n"
     ]
    }
   ],
   "source": [
    "df.info()"
   ]
  },
  {
   "cell_type": "markdown",
   "id": "068e0536-47d6-4002-be95-32cd88a0916e",
   "metadata": {},
   "source": [
    "* METODO 1: Uno era con la varianza.. si te a 0, entonces no es util\n"
   ]
  },
  {
   "cell_type": "code",
   "execution_count": 39,
   "id": "5e6c822b-c119-468c-b9b1-6b4c721145f8",
   "metadata": {},
   "outputs": [
    {
     "data": {
      "text/plain": [
       "anios_estudiados                              7.528192e+00\n",
       "edad                                          1.873438e+02\n",
       "ganancia_perdida_declarada_bolsa_argentina    6.091542e+07\n",
       "horas_trabajo_registradas                     1.621964e+02\n",
       "tiene_alto_valor_adquisitivo                  1.864061e-01\n",
       "dtype: float64"
      ]
     },
     "execution_count": 39,
     "metadata": {},
     "output_type": "execute_result"
    }
   ],
   "source": [
    "df.var()"
   ]
  },
  {
   "cell_type": "markdown",
   "id": "ca29b046-1b3b-4ff3-bf0c-e3e894736419",
   "metadata": {},
   "source": [
    "Todas son utiles, dificil de borrar..."
   ]
  },
  {
   "cell_type": "markdown",
   "id": "d2cb580b-9a01-4970-9891-02d64afafa01",
   "metadata": {},
   "source": [
    "Despues tenias 3 tecnicas mas, pero no se si vale la pena aplicar.. hay cosas que no vimos de esto\n",
    "\n",
    "* **Tecnica Filter**\n",
    "* **Tecnica Wrapper**\n",
    "* **Tecnica Embebbed**"
   ]
  },
  {
   "cell_type": "markdown",
   "id": "3e88cf18-3166-482f-ad06-ef1f8ace7a73",
   "metadata": {},
   "source": [
    "# Analisis de Datos"
   ]
  },
  {
   "cell_type": "code",
   "execution_count": 40,
   "id": "e14e3475-7bfb-44a4-a2bb-e4933752e91c",
   "metadata": {},
   "outputs": [],
   "source": [
    "import seaborn as sns"
   ]
  },
  {
   "cell_type": "markdown",
   "id": "f0570587-81d9-4590-be0e-dd1d04d92df5",
   "metadata": {},
   "source": [
    "## JUGANDO CON LOS GRAFICOS UN POCO"
   ]
  },
  {
   "cell_type": "code",
   "execution_count": 42,
   "id": "28fa31ff-10be-45fd-af3b-905fff9ef422",
   "metadata": {},
   "outputs": [
    {
     "data": {
      "image/png": "[encoded data removed]",
      "text/plain": [
       "<Figure size 750x500 with 1 Axes>"
      ]
     },
     "metadata": {
      "needs_background": "light"
     },
     "output_type": "display_data"
    }
   ],
   "source": [
    "cantidad_barrios_visualizados = 5\n",
    "\n",
    "plt.figure(dpi=125)\n",
    "sns.countplot(\n",
    "    x=\"barrio\",\n",
    "    data=df,\n",
    "    order=df[\"barrio\"].value_counts().iloc[:cantidad_barrios_visualizados].index,\n",
    "    color=(0.23, 0.72, 0.41),\n",
    ")\n",
    "plt.ylabel(\"Cantidad encuestados\")\n",
    "plt.xlabel(\"Barrio\")\n",
    "plt.title(\"Cantidad de encuestados según su barrio\")\n",
    "plt.xticks(rotation=90)\n",
    "\n",
    "plt.show()"
   ]
  },
  {
   "cell_type": "code",
   "execution_count": 43,
   "id": "611b00ce-9b53-4f4e-9acf-556f8a404dcf",
   "metadata": {},
   "outputs": [
    {
     "name": "stdout",
     "output_type": "stream",
     "text": [
      "<class 'pandas.core.frame.DataFrame'>\n",
      "Int64Index: 29095 entries, 0 to 32560\n",
      "Data columns (total 13 columns):\n",
      " #   Column                                      Non-Null Count  Dtype \n",
      "---  ------                                      --------------  ----- \n",
      " 0   anios_estudiados                            29095 non-null  uint8 \n",
      " 1   barrio                                      29095 non-null  object\n",
      " 2   categoria_de_trabajo                        29095 non-null  object\n",
      " 3   edad                                        29095 non-null  uint8 \n",
      " 4   educacion_alcanzada                         29095 non-null  object\n",
      " 5   estado_marital                              29095 non-null  object\n",
      " 6   ganancia_perdida_declarada_bolsa_argentina  29095 non-null  int64 \n",
      " 7   genero                                      29095 non-null  object\n",
      " 8   horas_trabajo_registradas                   29095 non-null  uint8 \n",
      " 9   religion                                    29095 non-null  object\n",
      " 10  rol_familiar_registrado                     29095 non-null  object\n",
      " 11  tiene_alto_valor_adquisitivo                29095 non-null  uint8 \n",
      " 12  trabajo                                     29095 non-null  object\n",
      "dtypes: int64(1), object(8), uint8(4)\n",
      "memory usage: 2.2+ MB\n"
     ]
    }
   ],
   "source": [
    "df.info()"
   ]
  },
  {
   "cell_type": "code",
   "execution_count": 44,
   "id": "b6ec2394-c31d-491b-9218-b29f02417b1c",
   "metadata": {},
   "outputs": [
    {
     "data": {
      "image/png": "[encoded data removed]",
      "text/plain": [
       "<Figure size 960x720 with 1 Axes>"
      ]
     },
     "metadata": {},
     "output_type": "display_data"
    }
   ],
   "source": [
    "plt.figure(figsize=(6.4, 4.8), dpi=150)\n",
    "df.tiene_alto_valor_adquisitivo.value_counts().sort_index().plot(\n",
    "    kind='pie', autopct='%1.0f%%'\n",
    ")\n",
    "plt.title(\"¿Tiene alto valor adquisitivo?\")\n",
    "plt.ylabel(\" \")\n",
    "\n",
    "plt.show()"
   ]
  },
  {
   "cell_type": "code",
   "execution_count": 45,
   "id": "634596bf-116e-4de1-a5fc-8d51071ee38f",
   "metadata": {},
   "outputs": [
    {
     "name": "stdout",
     "output_type": "stream",
     "text": [
      "<class 'pandas.core.frame.DataFrame'>\n",
      "Int64Index: 29095 entries, 0 to 32560\n",
      "Data columns (total 13 columns):\n",
      " #   Column                                      Non-Null Count  Dtype \n",
      "---  ------                                      --------------  ----- \n",
      " 0   anios_estudiados                            29095 non-null  uint8 \n",
      " 1   barrio                                      29095 non-null  object\n",
      " 2   categoria_de_trabajo                        29095 non-null  object\n",
      " 3   edad                                        29095 non-null  uint8 \n",
      " 4   educacion_alcanzada                         29095 non-null  object\n",
      " 5   estado_marital                              29095 non-null  object\n",
      " 6   ganancia_perdida_declarada_bolsa_argentina  29095 non-null  int64 \n",
      " 7   genero                                      29095 non-null  object\n",
      " 8   horas_trabajo_registradas                   29095 non-null  uint8 \n",
      " 9   religion                                    29095 non-null  object\n",
      " 10  rol_familiar_registrado                     29095 non-null  object\n",
      " 11  tiene_alto_valor_adquisitivo                29095 non-null  uint8 \n",
      " 12  trabajo                                     29095 non-null  object\n",
      "dtypes: int64(1), object(8), uint8(4)\n",
      "memory usage: 2.2+ MB\n"
     ]
    }
   ],
   "source": [
    "df.info()"
   ]
  },
  {
   "cell_type": "code",
   "execution_count": 46,
   "id": "87a4ffd9-c947-4fe9-9fa5-16f55e6f129d",
   "metadata": {},
   "outputs": [
    {
     "data": {
      "text/html": [
       "<div>\n",
       "<style scoped>\n",
       "    .dataframe tbody tr th:only-of-type {\n",
       "        vertical-align: middle;\n",
       "    }\n",
       "\n",
       "    .dataframe tbody tr th {\n",
       "        vertical-align: top;\n",
       "    }\n",
       "\n",
       "    .dataframe thead th {\n",
       "        text-align: right;\n",
       "    }\n",
       "</style>\n",
       "<table border=\"1\" class=\"dataframe\">\n",
       "  <thead>\n",
       "    <tr style=\"text-align: right;\">\n",
       "      <th></th>\n",
       "      <th>tiene_alto_valor_adquisitivo</th>\n",
       "      <th>barrio</th>\n",
       "    </tr>\n",
       "  </thead>\n",
       "  <tbody>\n",
       "    <tr>\n",
       "      <th>0</th>\n",
       "      <td>0</td>\n",
       "      <td>Palermo</td>\n",
       "    </tr>\n",
       "    <tr>\n",
       "      <th>1</th>\n",
       "      <td>0</td>\n",
       "      <td>Palermo</td>\n",
       "    </tr>\n",
       "    <tr>\n",
       "      <th>2</th>\n",
       "      <td>0</td>\n",
       "      <td>Palermo</td>\n",
       "    </tr>\n",
       "    <tr>\n",
       "      <th>3</th>\n",
       "      <td>0</td>\n",
       "      <td>Palermo</td>\n",
       "    </tr>\n",
       "    <tr>\n",
       "      <th>4</th>\n",
       "      <td>0</td>\n",
       "      <td>Balvanera</td>\n",
       "    </tr>\n",
       "    <tr>\n",
       "      <th>...</th>\n",
       "      <td>...</td>\n",
       "      <td>...</td>\n",
       "    </tr>\n",
       "    <tr>\n",
       "      <th>32554</th>\n",
       "      <td>1</td>\n",
       "      <td>Palermo</td>\n",
       "    </tr>\n",
       "    <tr>\n",
       "      <th>32555</th>\n",
       "      <td>0</td>\n",
       "      <td>Palermo</td>\n",
       "    </tr>\n",
       "    <tr>\n",
       "      <th>32556</th>\n",
       "      <td>0</td>\n",
       "      <td>Palermo</td>\n",
       "    </tr>\n",
       "    <tr>\n",
       "      <th>32558</th>\n",
       "      <td>0</td>\n",
       "      <td>Palermo</td>\n",
       "    </tr>\n",
       "    <tr>\n",
       "      <th>32560</th>\n",
       "      <td>1</td>\n",
       "      <td>Palermo</td>\n",
       "    </tr>\n",
       "  </tbody>\n",
       "</table>\n",
       "<p>29095 rows × 2 columns</p>\n",
       "</div>"
      ],
      "text/plain": [
       "       tiene_alto_valor_adquisitivo     barrio\n",
       "0                                 0    Palermo\n",
       "1                                 0    Palermo\n",
       "2                                 0    Palermo\n",
       "3                                 0    Palermo\n",
       "4                                 0  Balvanera\n",
       "...                             ...        ...\n",
       "32554                             1    Palermo\n",
       "32555                             0    Palermo\n",
       "32556                             0    Palermo\n",
       "32558                             0    Palermo\n",
       "32560                             1    Palermo\n",
       "\n",
       "[29095 rows x 2 columns]"
      ]
     },
     "execution_count": 46,
     "metadata": {},
     "output_type": "execute_result"
    }
   ],
   "source": [
    "df2 = df[['tiene_alto_valor_adquisitivo','barrio']]\n",
    "df2"
   ]
  },
  {
   "cell_type": "code",
   "execution_count": 47,
   "id": "47bd3323-85df-4f2c-8a55-99a8eb78f72a",
   "metadata": {},
   "outputs": [
    {
     "data": {
      "text/plain": [
       "Text(0, 0.5, '')"
      ]
     },
     "execution_count": 47,
     "metadata": {},
     "output_type": "execute_result"
    },
    {
     "data": {
      "image/png": "[encoded data removed]",
      "text/plain": [
       "<Figure size 900x600 with 1 Axes>"
      ]
     },
     "metadata": {
      "needs_background": "light"
     },
     "output_type": "display_data"
    }
   ],
   "source": [
    "plt.figure(dpi=150)\n",
    "\n",
    "ax = sns.histplot(\n",
    "    df2,\n",
    "    x='barrio',\n",
    "    hue='tiene_alto_valor_adquisitivo',\n",
    "    multiple='stack',\n",
    "    palette=['#24b1d1', '#ae24d1'],\n",
    "    edgecolor='white',\n",
    "    shrink=1\n",
    ")\n",
    "\n",
    "ax.set_title('ASD')\n",
    "ax.set_ylabel(None)\n"
   ]
  }
 ],
 "metadata": {
  "kernelspec": {
   "display_name": "Python 3",
   "language": "python",
   "name": "python3"
  },
  "language_info": {
   "codemirror_mode": {
    "name": "ipython",
    "version": 3
   },
   "file_extension": ".py",
   "mimetype": "text/x-python",
   "name": "python",
   "nbconvert_exporter": "python",
   "pygments_lexer": "ipython3",
   "version": "3.8.2"
  },
  "metadata": {
   "interpreter": {
    "hash": "63fd5069d213b44bf678585dea6b12cceca9941eaf7f819626cde1f2670de90d"
   }
  },
  "toc-autonumbering": true,
  "toc-showmarkdowntxt": false
 },
 "nbformat": 4,
 "nbformat_minor": 5
}
